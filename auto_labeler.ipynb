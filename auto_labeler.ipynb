{
  "nbformat": 4,
  "nbformat_minor": 0,
  "metadata": {
    "colab": {
      "name": "auto-labeler.ipynb",
      "version": "0.3.2",
      "provenance": [],
      "include_colab_link": true
    },
    "kernelspec": {
      "name": "python3",
      "display_name": "Python 3"
    }
  },
  "cells": [
    {
      "cell_type": "markdown",
      "metadata": {
        "id": "view-in-github",
        "colab_type": "text"
      },
      "source": [
        "<a href=\"https://colab.research.google.com/github/JonathanLehner/Colab-collection/blob/master/auto_labeler.ipynb\" target=\"_parent\"><img src=\"https://colab.research.google.com/assets/colab-badge.svg\" alt=\"Open In Colab\"/></a>"
      ]
    },
    {
      "cell_type": "code",
      "metadata": {
        "id": "GDJM79RxhQbp",
        "colab_type": "code",
        "colab": {}
      },
      "source": [
        ""
      ],
      "execution_count": 0,
      "outputs": []
    },
    {
      "cell_type": "code",
      "metadata": {
        "id": "O934lG90hUCw",
        "colab_type": "code",
        "colab": {}
      },
      "source": [
        "# automatically label images based on a background image and save in via format (+ add option for COCO format)"
      ],
      "execution_count": 0,
      "outputs": []
    },
    {
      "cell_type": "code",
      "metadata": {
        "id": "yhjvCuu3hUa6",
        "colab_type": "code",
        "colab": {}
      },
      "source": [
        "# https://drive.google.com/drive/folders/1BDObRZUHzIU6ECO9A_QmbDx5YmN9BLn5?fbclid=IwAR1sPkfOHnWZ9_l5fTtGraURiFWw-tJc74jDCm3NIfZu88OGDdOLzIs9XPc"
      ],
      "execution_count": 0,
      "outputs": []
    }
  ]
}