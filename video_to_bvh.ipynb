{
  "nbformat": 4,
  "nbformat_minor": 0,
  "metadata": {
    "colab": {
      "name": "video_to_bvh.ipynb",
      "version": "0.3.2",
      "provenance": [],
      "collapsed_sections": [],
      "toc_visible": true,
      "include_colab_link": true
    },
    "kernelspec": {
      "name": "python3",
      "display_name": "Python 3"
    },
    "accelerator": "GPU"
  },
  "cells": [
    {
      "cell_type": "markdown",
      "metadata": {
        "id": "view-in-github",
        "colab_type": "text"
      },
      "source": [
        "<a href=\"https://colab.research.google.com/github/JonathanLehner/Colab-collection/blob/master/video_to_bvh.ipynb\" target=\"_parent\"><img src=\"https://colab.research.google.com/assets/colab-badge.svg\" alt=\"Open In Colab\"/></a>"
      ]
    },
    {
      "cell_type": "markdown",
      "metadata": {
        "id": "P__hA1g6HzpZ",
        "colab_type": "text"
      },
      "source": [
        ""
      ]
    },
    {
      "cell_type": "code",
      "metadata": {
        "id": "uxm71_LyXT67",
        "colab_type": "code",
        "colab": {}
      },
      "source": [
        "# needs python 2\n",
        "# https://github.com/Dene33/video_to_bvh/blob/master/video_to_bvh.ipynb"
      ],
      "execution_count": 0,
      "outputs": []
    },
    {
      "cell_type": "code",
      "metadata": {
        "id": "Rk0sYwi_XUKs",
        "colab_type": "code",
        "colab": {}
      },
      "source": [
        ""
      ],
      "execution_count": 0,
      "outputs": []
    },
    {
      "cell_type": "markdown",
      "metadata": {
        "id": "VFo0row6XUeu",
        "colab_type": "text"
      },
      "source": [
        "##Initial imports, install, initializations \n",
        "####Be patient it'll take some time :)"
      ]
    },
    {
      "cell_type": "code",
      "metadata": {
        "colab_type": "code",
        "id": "j_YTs3eEFXjW",
        "colab": {
          "base_uri": "https://localhost:8080/",
          "height": 6854
        },
        "outputId": "7255fc2d-7e54-4cf2-d5ca-14dcdff5d501"
      },
      "source": [
        "!git clone https://github.com/Dene33/keras_Realtime_Multi-Person_Pose_Estimation.git\n",
        "!pip install configobj\n",
        "!apt install ffmpeg\n",
        "!apt-get install blender\n",
        "\n",
        "!apt install python2.7 python-pip\n",
        "!git clone https://github.com/Dene33/hmr.git\n",
        "!wget https://people.eecs.berkeley.edu/~kanazawa/cachedir/hmr/models.tar.gz && tar -xf models.tar.gz\n",
        "!mv models hmr/\n",
        "!pip2 install -r hmr/requirements.txt\n",
        "!mkdir hmr/output\n",
        "!mkdir hmr/output/csv\n",
        "!mkdir hmr/output/images\n",
        "!mkdir hmr/output/csv_joined\n",
        "!mkdir hmr/output/bvh_animation\n",
        "\n",
        "import os\n",
        "os.chdir('keras_Realtime_Multi-Person_Pose_Estimation')\n",
        "!bash model/get_keras_model.sh\n",
        "!mkdir sample_jsons\n",
        "!mkdir sample_videos\n",
        "!mkdir sample_images\n",
        "\n",
        "exec(open('model_load.py').read())\n",
        "!pip2 install opendr==0.77"
      ],
      "execution_count": 2,
      "outputs": [
        {
          "output_type": "stream",
          "text": [
            "Cloning into 'keras_Realtime_Multi-Person_Pose_Estimation'...\n",
            "remote: Enumerating objects: 196, done.\u001b[K\n",
            "remote: Total 196 (delta 0), reused 0 (delta 0), pack-reused 196\n",
            "Receiving objects: 100% (196/196), 29.49 MiB | 22.14 MiB/s, done.\n",
            "Resolving deltas: 100% (80/80), done.\n",
            "Collecting configobj\n",
            "  Downloading https://files.pythonhosted.org/packages/64/61/079eb60459c44929e684fa7d9e2fdca403f67d64dd9dbac27296be2e0fab/configobj-5.0.6.tar.gz\n",
            "Requirement already satisfied: six in /usr/local/lib/python3.6/dist-packages (from configobj) (1.12.0)\n",
            "Building wheels for collected packages: configobj\n",
            "  Building wheel for configobj (setup.py) ... \u001b[?25l\u001b[?25hdone\n",
            "  Stored in directory: /root/.cache/pip/wheels/f1/e4/16/4981ca97c2d65106b49861e0b35e2660695be7219a2d351ee0\n",
            "Successfully built configobj\n",
            "Installing collected packages: configobj\n",
            "Successfully installed configobj-5.0.6\n",
            "Reading package lists... Done\n",
            "Building dependency tree       \n",
            "Reading state information... Done\n",
            "ffmpeg is already the newest version (7:3.4.6-0ubuntu0.18.04.1).\n",
            "The following package was automatically installed and is no longer required:\n",
            "  libnvidia-common-410\n",
            "Use 'apt autoremove' to remove it.\n",
            "0 upgraded, 0 newly installed, 0 to remove and 16 not upgraded.\n",
            "Reading package lists... Done\n",
            "Building dependency tree       \n",
            "Reading state information... Done\n",
            "The following package was automatically installed and is no longer required:\n",
            "  libnvidia-common-410\n",
            "Use 'apt autoremove' to remove it.\n",
            "The following additional packages will be installed:\n",
            "  blender-data fonts-dejavu fonts-dejavu-core fonts-dejavu-extra libblosc1\n",
            "  libglew2.0 libjemalloc1 liblog4cplus-1.1-9 libopencolorio1v5\n",
            "  libopenimageio1.7 libopenvdb5.0 libraw16 libspnav0 libtinyxml2.6.2v5\n",
            "  libyaml-cpp0.5v5\n",
            "Suggested packages:\n",
            "  glew-utils spacenavd\n",
            "The following NEW packages will be installed:\n",
            "  blender blender-data fonts-dejavu fonts-dejavu-core fonts-dejavu-extra\n",
            "  libblosc1 libglew2.0 libjemalloc1 liblog4cplus-1.1-9 libopencolorio1v5\n",
            "  libopenimageio1.7 libopenvdb5.0 libraw16 libspnav0 libtinyxml2.6.2v5\n",
            "  libyaml-cpp0.5v5\n",
            "0 upgraded, 16 newly installed, 0 to remove and 16 not upgraded.\n",
            "Need to get 45.2 MB of archives.\n",
            "After this operation, 224 MB of additional disk space will be used.\n",
            "Get:1 http://archive.ubuntu.com/ubuntu bionic-updates/universe amd64 blender-data all 2.79.b+dfsg0-1ubuntu1.18.04.1 [12.2 MB]\n",
            "Get:2 http://archive.ubuntu.com/ubuntu bionic/main amd64 fonts-dejavu-core all 2.37-1 [1,041 kB]\n",
            "Get:3 http://archive.ubuntu.com/ubuntu bionic/main amd64 fonts-dejavu-extra all 2.37-1 [1,953 kB]\n",
            "Get:4 http://archive.ubuntu.com/ubuntu bionic/universe amd64 fonts-dejavu all 2.37-1 [3,130 B]\n",
            "Get:5 http://archive.ubuntu.com/ubuntu bionic/universe amd64 libglew2.0 amd64 2.0.0-5 [140 kB]\n",
            "Get:6 http://archive.ubuntu.com/ubuntu bionic/universe amd64 libjemalloc1 amd64 3.6.0-11 [82.4 kB]\n",
            "Get:7 http://archive.ubuntu.com/ubuntu bionic/universe amd64 libtinyxml2.6.2v5 amd64 2.6.2-4 [29.7 kB]\n",
            "Get:8 http://archive.ubuntu.com/ubuntu bionic/universe amd64 libyaml-cpp0.5v5 amd64 0.5.2-4ubuntu1 [150 kB]\n",
            "Get:9 http://archive.ubuntu.com/ubuntu bionic/universe amd64 libopencolorio1v5 amd64 1.1.0~dfsg0-1 [307 kB]\n",
            "Get:10 http://archive.ubuntu.com/ubuntu bionic-updates/main amd64 libraw16 amd64 0.18.8-1ubuntu0.2 [259 kB]\n",
            "Get:11 http://archive.ubuntu.com/ubuntu bionic/universe amd64 libopenimageio1.7 amd64 1.7.17~dfsg0-1ubuntu2 [1,715 kB]\n",
            "Get:12 http://archive.ubuntu.com/ubuntu bionic/universe amd64 libblosc1 amd64 1.14.2+ds1-1 [31.4 kB]\n",
            "Get:13 http://archive.ubuntu.com/ubuntu bionic/universe amd64 liblog4cplus-1.1-9 amd64 1.1.2-3.2 [139 kB]\n",
            "Get:14 http://archive.ubuntu.com/ubuntu bionic/universe amd64 libopenvdb5.0 amd64 5.0.0-1 [556 kB]\n",
            "Get:15 http://archive.ubuntu.com/ubuntu bionic/universe amd64 libspnav0 amd64 0.2.3-1 [8,552 B]\n",
            "Get:16 http://archive.ubuntu.com/ubuntu bionic-updates/universe amd64 blender amd64 2.79.b+dfsg0-1ubuntu1.18.04.1 [26.6 MB]\n",
            "Fetched 45.2 MB in 1s (71.9 MB/s)\n",
            "Selecting previously unselected package blender-data.\n",
            "(Reading database ... 130811 files and directories currently installed.)\n",
            "Preparing to unpack .../00-blender-data_2.79.b+dfsg0-1ubuntu1.18.04.1_all.deb ...\n",
            "Unpacking blender-data (2.79.b+dfsg0-1ubuntu1.18.04.1) ...\n",
            "Selecting previously unselected package fonts-dejavu-core.\n",
            "Preparing to unpack .../01-fonts-dejavu-core_2.37-1_all.deb ...\n",
            "Unpacking fonts-dejavu-core (2.37-1) ...\n",
            "Selecting previously unselected package fonts-dejavu-extra.\n",
            "Preparing to unpack .../02-fonts-dejavu-extra_2.37-1_all.deb ...\n",
            "Unpacking fonts-dejavu-extra (2.37-1) ...\n",
            "Selecting previously unselected package fonts-dejavu.\n",
            "Preparing to unpack .../03-fonts-dejavu_2.37-1_all.deb ...\n",
            "Unpacking fonts-dejavu (2.37-1) ...\n",
            "Selecting previously unselected package libglew2.0:amd64.\n",
            "Preparing to unpack .../04-libglew2.0_2.0.0-5_amd64.deb ...\n",
            "Unpacking libglew2.0:amd64 (2.0.0-5) ...\n",
            "Selecting previously unselected package libjemalloc1.\n",
            "Preparing to unpack .../05-libjemalloc1_3.6.0-11_amd64.deb ...\n",
            "Unpacking libjemalloc1 (3.6.0-11) ...\n",
            "Selecting previously unselected package libtinyxml2.6.2v5:amd64.\n",
            "Preparing to unpack .../06-libtinyxml2.6.2v5_2.6.2-4_amd64.deb ...\n",
            "Unpacking libtinyxml2.6.2v5:amd64 (2.6.2-4) ...\n",
            "Selecting previously unselected package libyaml-cpp0.5v5:amd64.\n",
            "Preparing to unpack .../07-libyaml-cpp0.5v5_0.5.2-4ubuntu1_amd64.deb ...\n",
            "Unpacking libyaml-cpp0.5v5:amd64 (0.5.2-4ubuntu1) ...\n",
            "Selecting previously unselected package libopencolorio1v5.\n",
            "Preparing to unpack .../08-libopencolorio1v5_1.1.0~dfsg0-1_amd64.deb ...\n",
            "Unpacking libopencolorio1v5 (1.1.0~dfsg0-1) ...\n",
            "Selecting previously unselected package libraw16:amd64.\n",
            "Preparing to unpack .../09-libraw16_0.18.8-1ubuntu0.2_amd64.deb ...\n",
            "Unpacking libraw16:amd64 (0.18.8-1ubuntu0.2) ...\n",
            "Selecting previously unselected package libopenimageio1.7.\n",
            "Preparing to unpack .../10-libopenimageio1.7_1.7.17~dfsg0-1ubuntu2_amd64.deb ...\n",
            "Unpacking libopenimageio1.7 (1.7.17~dfsg0-1ubuntu2) ...\n",
            "Selecting previously unselected package libblosc1.\n",
            "Preparing to unpack .../11-libblosc1_1.14.2+ds1-1_amd64.deb ...\n",
            "Unpacking libblosc1 (1.14.2+ds1-1) ...\n",
            "Selecting previously unselected package liblog4cplus-1.1-9.\n",
            "Preparing to unpack .../12-liblog4cplus-1.1-9_1.1.2-3.2_amd64.deb ...\n",
            "Unpacking liblog4cplus-1.1-9 (1.1.2-3.2) ...\n",
            "Selecting previously unselected package libopenvdb5.0.\n",
            "Preparing to unpack .../13-libopenvdb5.0_5.0.0-1_amd64.deb ...\n",
            "Unpacking libopenvdb5.0 (5.0.0-1) ...\n",
            "Selecting previously unselected package libspnav0.\n",
            "Preparing to unpack .../14-libspnav0_0.2.3-1_amd64.deb ...\n",
            "Unpacking libspnav0 (0.2.3-1) ...\n",
            "Selecting previously unselected package blender.\n",
            "Preparing to unpack .../15-blender_2.79.b+dfsg0-1ubuntu1.18.04.1_amd64.deb ...\n",
            "Unpacking blender (2.79.b+dfsg0-1ubuntu1.18.04.1) ...\n",
            "Setting up libblosc1 (1.14.2+ds1-1) ...\n",
            "Setting up libspnav0 (0.2.3-1) ...\n",
            "Setting up libtinyxml2.6.2v5:amd64 (2.6.2-4) ...\n",
            "Processing triggers for mime-support (3.60ubuntu1) ...\n",
            "Setting up libjemalloc1 (3.6.0-11) ...\n",
            "Setting up fonts-dejavu-core (2.37-1) ...\n",
            "Setting up liblog4cplus-1.1-9 (1.1.2-3.2) ...\n",
            "Setting up blender-data (2.79.b+dfsg0-1ubuntu1.18.04.1) ...\n",
            "Processing triggers for libc-bin (2.27-3ubuntu1) ...\n",
            "Setting up libglew2.0:amd64 (2.0.0-5) ...\n",
            "Processing triggers for man-db (2.8.3-2ubuntu0.1) ...\n",
            "Setting up libyaml-cpp0.5v5:amd64 (0.5.2-4ubuntu1) ...\n",
            "Setting up fonts-dejavu-extra (2.37-1) ...\n",
            "Processing triggers for hicolor-icon-theme (0.17-2) ...\n",
            "Setting up libraw16:amd64 (0.18.8-1ubuntu0.2) ...\n",
            "Setting up libopenvdb5.0 (5.0.0-1) ...\n",
            "Processing triggers for fontconfig (2.12.6-0ubuntu2) ...\n",
            "Setting up fonts-dejavu (2.37-1) ...\n",
            "Setting up libopencolorio1v5 (1.1.0~dfsg0-1) ...\n",
            "Setting up libopenimageio1.7 (1.7.17~dfsg0-1ubuntu2) ...\n",
            "Setting up blender (2.79.b+dfsg0-1ubuntu1.18.04.1) ...\n",
            "Processing triggers for libc-bin (2.27-3ubuntu1) ...\n",
            "Reading package lists... Done\n",
            "Building dependency tree       \n",
            "Reading state information... Done\n",
            "python2.7 is already the newest version (2.7.15~rc1-1ubuntu0.1).\n",
            "python2.7 set to manually installed.\n",
            "The following package was automatically installed and is no longer required:\n",
            "  libnvidia-common-410\n",
            "Use 'apt autoremove' to remove it.\n",
            "The following additional packages will be installed:\n",
            "  libpython-all-dev python-all python-all-dev python-asn1crypto\n",
            "  python-cffi-backend python-crypto python-cryptography python-dbus\n",
            "  python-enum34 python-gi python-idna python-ipaddress python-keyring\n",
            "  python-keyrings.alt python-pip-whl python-pkg-resources python-secretstorage\n",
            "  python-setuptools python-six python-wheel python-xdg\n",
            "Suggested packages:\n",
            "  python-crypto-doc python-cryptography-doc python-cryptography-vectors\n",
            "  python-dbus-dbg python-dbus-doc python-enum34-doc python-gi-cairo\n",
            "  gnome-keyring libkf5wallet-bin gir1.2-gnomekeyring-1.0 python-fs\n",
            "  python-gdata python-keyczar python-secretstorage-doc python-setuptools-doc\n",
            "The following NEW packages will be installed:\n",
            "  libpython-all-dev python-all python-all-dev python-asn1crypto\n",
            "  python-cffi-backend python-crypto python-cryptography python-dbus\n",
            "  python-enum34 python-gi python-idna python-ipaddress python-keyring\n",
            "  python-keyrings.alt python-pip python-pip-whl python-pkg-resources\n",
            "  python-secretstorage python-setuptools python-six python-wheel python-xdg\n",
            "0 upgraded, 22 newly installed, 0 to remove and 16 not upgraded.\n",
            "Need to get 3,376 kB of archives.\n",
            "After this operation, 10.5 MB of additional disk space will be used.\n",
            "Get:1 http://archive.ubuntu.com/ubuntu bionic/main amd64 libpython-all-dev amd64 2.7.15~rc1-1 [1,092 B]\n",
            "Get:2 http://archive.ubuntu.com/ubuntu bionic/main amd64 python-all amd64 2.7.15~rc1-1 [1,076 B]\n",
            "Get:3 http://archive.ubuntu.com/ubuntu bionic/main amd64 python-all-dev amd64 2.7.15~rc1-1 [1,100 B]\n",
            "Get:4 http://archive.ubuntu.com/ubuntu bionic/main amd64 python-asn1crypto all 0.24.0-1 [72.7 kB]\n",
            "Get:5 http://archive.ubuntu.com/ubuntu bionic/main amd64 python-cffi-backend amd64 1.11.5-1 [63.4 kB]\n",
            "Get:6 http://archive.ubuntu.com/ubuntu bionic/main amd64 python-crypto amd64 2.6.1-8ubuntu2 [244 kB]\n",
            "Get:7 http://archive.ubuntu.com/ubuntu bionic/main amd64 python-enum34 all 1.1.6-2 [34.8 kB]\n",
            "Get:8 http://archive.ubuntu.com/ubuntu bionic/main amd64 python-idna all 2.6-1 [32.4 kB]\n",
            "Get:9 http://archive.ubuntu.com/ubuntu bionic/main amd64 python-ipaddress all 1.0.17-1 [18.2 kB]\n",
            "Get:10 http://archive.ubuntu.com/ubuntu bionic/main amd64 python-six all 1.11.0-2 [11.3 kB]\n",
            "Get:11 http://archive.ubuntu.com/ubuntu bionic-updates/main amd64 python-cryptography amd64 2.1.4-1ubuntu1.2 [221 kB]\n",
            "Get:12 http://archive.ubuntu.com/ubuntu bionic/main amd64 python-dbus amd64 1.2.6-1 [90.2 kB]\n",
            "Get:13 http://archive.ubuntu.com/ubuntu bionic-updates/main amd64 python-gi amd64 3.26.1-2ubuntu1 [197 kB]\n",
            "Get:14 http://archive.ubuntu.com/ubuntu bionic/main amd64 python-secretstorage all 2.3.1-2 [11.8 kB]\n",
            "Get:15 http://archive.ubuntu.com/ubuntu bionic/main amd64 python-keyring all 10.6.0-1 [30.6 kB]\n",
            "Get:16 http://archive.ubuntu.com/ubuntu bionic/main amd64 python-keyrings.alt all 3.0-1 [16.7 kB]\n",
            "Get:17 http://archive.ubuntu.com/ubuntu bionic-updates/universe amd64 python-pip-whl all 9.0.1-2.3~ubuntu1 [1,652 kB]\n",
            "Get:18 http://archive.ubuntu.com/ubuntu bionic-updates/universe amd64 python-pip all 9.0.1-2.3~ubuntu1 [151 kB]\n",
            "Get:19 http://archive.ubuntu.com/ubuntu bionic/main amd64 python-pkg-resources all 39.0.1-2 [128 kB]\n",
            "Get:20 http://archive.ubuntu.com/ubuntu bionic/main amd64 python-setuptools all 39.0.1-2 [329 kB]\n",
            "Get:21 http://archive.ubuntu.com/ubuntu bionic/universe amd64 python-wheel all 0.30.0-0.2 [36.4 kB]\n",
            "Get:22 http://archive.ubuntu.com/ubuntu bionic/universe amd64 python-xdg all 0.25-4ubuntu1 [31.3 kB]\n",
            "Fetched 3,376 kB in 0s (21.0 MB/s)\n",
            "Selecting previously unselected package libpython-all-dev:amd64.\n",
            "(Reading database ... 132737 files and directories currently installed.)\n",
            "Preparing to unpack .../00-libpython-all-dev_2.7.15~rc1-1_amd64.deb ...\n",
            "Unpacking libpython-all-dev:amd64 (2.7.15~rc1-1) ...\n",
            "Selecting previously unselected package python-all.\n",
            "Preparing to unpack .../01-python-all_2.7.15~rc1-1_amd64.deb ...\n",
            "Unpacking python-all (2.7.15~rc1-1) ...\n",
            "Selecting previously unselected package python-all-dev.\n",
            "Preparing to unpack .../02-python-all-dev_2.7.15~rc1-1_amd64.deb ...\n",
            "Unpacking python-all-dev (2.7.15~rc1-1) ...\n",
            "Selecting previously unselected package python-asn1crypto.\n",
            "Preparing to unpack .../03-python-asn1crypto_0.24.0-1_all.deb ...\n",
            "Unpacking python-asn1crypto (0.24.0-1) ...\n",
            "Selecting previously unselected package python-cffi-backend.\n",
            "Preparing to unpack .../04-python-cffi-backend_1.11.5-1_amd64.deb ...\n",
            "Unpacking python-cffi-backend (1.11.5-1) ...\n",
            "Selecting previously unselected package python-crypto.\n",
            "Preparing to unpack .../05-python-crypto_2.6.1-8ubuntu2_amd64.deb ...\n",
            "Unpacking python-crypto (2.6.1-8ubuntu2) ...\n",
            "Selecting previously unselected package python-enum34.\n",
            "Preparing to unpack .../06-python-enum34_1.1.6-2_all.deb ...\n",
            "Unpacking python-enum34 (1.1.6-2) ...\n",
            "Selecting previously unselected package python-idna.\n",
            "Preparing to unpack .../07-python-idna_2.6-1_all.deb ...\n",
            "Unpacking python-idna (2.6-1) ...\n",
            "Selecting previously unselected package python-ipaddress.\n",
            "Preparing to unpack .../08-python-ipaddress_1.0.17-1_all.deb ...\n",
            "Unpacking python-ipaddress (1.0.17-1) ...\n",
            "Selecting previously unselected package python-six.\n",
            "Preparing to unpack .../09-python-six_1.11.0-2_all.deb ...\n",
            "Unpacking python-six (1.11.0-2) ...\n",
            "Selecting previously unselected package python-cryptography.\n",
            "Preparing to unpack .../10-python-cryptography_2.1.4-1ubuntu1.2_amd64.deb ...\n",
            "Unpacking python-cryptography (2.1.4-1ubuntu1.2) ...\n",
            "Selecting previously unselected package python-dbus.\n",
            "Preparing to unpack .../11-python-dbus_1.2.6-1_amd64.deb ...\n",
            "Unpacking python-dbus (1.2.6-1) ...\n",
            "Selecting previously unselected package python-gi.\n",
            "Preparing to unpack .../12-python-gi_3.26.1-2ubuntu1_amd64.deb ...\n",
            "Unpacking python-gi (3.26.1-2ubuntu1) ...\n",
            "Selecting previously unselected package python-secretstorage.\n",
            "Preparing to unpack .../13-python-secretstorage_2.3.1-2_all.deb ...\n",
            "Unpacking python-secretstorage (2.3.1-2) ...\n",
            "Selecting previously unselected package python-keyring.\n",
            "Preparing to unpack .../14-python-keyring_10.6.0-1_all.deb ...\n",
            "Unpacking python-keyring (10.6.0-1) ...\n",
            "Selecting previously unselected package python-keyrings.alt.\n",
            "Preparing to unpack .../15-python-keyrings.alt_3.0-1_all.deb ...\n",
            "Unpacking python-keyrings.alt (3.0-1) ...\n",
            "Selecting previously unselected package python-pip-whl.\n",
            "Preparing to unpack .../16-python-pip-whl_9.0.1-2.3~ubuntu1_all.deb ...\n",
            "Unpacking python-pip-whl (9.0.1-2.3~ubuntu1) ...\n",
            "Selecting previously unselected package python-pip.\n",
            "Preparing to unpack .../17-python-pip_9.0.1-2.3~ubuntu1_all.deb ...\n",
            "Unpacking python-pip (9.0.1-2.3~ubuntu1) ...\n",
            "Selecting previously unselected package python-pkg-resources.\n",
            "Preparing to unpack .../18-python-pkg-resources_39.0.1-2_all.deb ...\n",
            "Unpacking python-pkg-resources (39.0.1-2) ...\n",
            "Selecting previously unselected package python-setuptools.\n",
            "Preparing to unpack .../19-python-setuptools_39.0.1-2_all.deb ...\n",
            "Unpacking python-setuptools (39.0.1-2) ...\n",
            "Selecting previously unselected package python-wheel.\n",
            "Preparing to unpack .../20-python-wheel_0.30.0-0.2_all.deb ...\n",
            "Unpacking python-wheel (0.30.0-0.2) ...\n",
            "Selecting previously unselected package python-xdg.\n",
            "Preparing to unpack .../21-python-xdg_0.25-4ubuntu1_all.deb ...\n",
            "Unpacking python-xdg (0.25-4ubuntu1) ...\n",
            "Setting up python-idna (2.6-1) ...\n",
            "Setting up python-pip-whl (9.0.1-2.3~ubuntu1) ...\n",
            "Setting up python-asn1crypto (0.24.0-1) ...\n",
            "Setting up python-crypto (2.6.1-8ubuntu2) ...\n",
            "Setting up python-wheel (0.30.0-0.2) ...\n",
            "Setting up libpython-all-dev:amd64 (2.7.15~rc1-1) ...\n",
            "Setting up python-pkg-resources (39.0.1-2) ...\n",
            "Setting up python-cffi-backend (1.11.5-1) ...\n",
            "Setting up python-gi (3.26.1-2ubuntu1) ...\n",
            "Setting up python-six (1.11.0-2) ...\n",
            "Setting up python-enum34 (1.1.6-2) ...\n",
            "Processing triggers for man-db (2.8.3-2ubuntu0.1) ...\n",
            "Setting up python-dbus (1.2.6-1) ...\n",
            "Setting up python-ipaddress (1.0.17-1) ...\n",
            "Setting up python-pip (9.0.1-2.3~ubuntu1) ...\n",
            "Setting up python-all (2.7.15~rc1-1) ...\n",
            "Setting up python-xdg (0.25-4ubuntu1) ...\n",
            "Setting up python-setuptools (39.0.1-2) ...\n",
            "Setting up python-keyrings.alt (3.0-1) ...\n",
            "Setting up python-all-dev (2.7.15~rc1-1) ...\n",
            "Setting up python-cryptography (2.1.4-1ubuntu1.2) ...\n",
            "Setting up python-secretstorage (2.3.1-2) ...\n",
            "Setting up python-keyring (10.6.0-1) ...\n",
            "Cloning into 'hmr'...\n",
            "remote: Enumerating objects: 3, done.\u001b[K\n",
            "remote: Counting objects: 100% (3/3), done.\u001b[K\n",
            "remote: Compressing objects: 100% (3/3), done.\u001b[K\n",
            "remote: Total 201 (delta 0), reused 0 (delta 0), pack-reused 198\u001b[K\n",
            "Receiving objects: 100% (201/201), 4.02 MiB | 6.14 MiB/s, done.\n",
            "Resolving deltas: 100% (78/78), done.\n",
            "--2019-05-13 22:44:31--  https://people.eecs.berkeley.edu/~kanazawa/cachedir/hmr/models.tar.gz\n",
            "Resolving people.eecs.berkeley.edu (people.eecs.berkeley.edu)... 128.32.189.73\n",
            "Connecting to people.eecs.berkeley.edu (people.eecs.berkeley.edu)|128.32.189.73|:443... connected.\n",
            "HTTP request sent, awaiting response... 200 OK\n",
            "Length: 385846404 (368M) [application/x-gzip]\n",
            "Saving to: ‘models.tar.gz’\n",
            "\n",
            "models.tar.gz       100%[===================>] 367.97M  19.5MB/s    in 19s     \n",
            "\n",
            "2019-05-13 22:44:51 (18.9 MB/s) - ‘models.tar.gz’ saved [385846404/385846404]\n",
            "\n",
            "Requirement already satisfied: pip>=9.0 in /usr/local/lib/python2.7/dist-packages (from -r hmr/requirements.txt (line 2)) (19.1.1)\n",
            "Requirement already satisfied: scipy in /usr/local/lib/python2.7/dist-packages (from -r hmr/requirements.txt (line 3)) (1.2.1)\n",
            "Requirement already satisfied: numpy in /usr/local/lib/python2.7/dist-packages (from -r hmr/requirements.txt (line 4)) (1.16.3)\n",
            "Collecting opendr (from -r hmr/requirements.txt (line 5))\n",
            "\u001b[?25l  Downloading https://files.pythonhosted.org/packages/52/7e/937b09016c1b2c0f59629584429d3c63d2d50878464c5d3afd47444b7953/opendr-0.78.tar.gz (581kB)\n",
            "\u001b[K     |████████████████████████████████| 583kB 9.5MB/s \n",
            "\u001b[?25hRequirement already satisfied: matplotlib in /usr/local/lib/python2.7/dist-packages (from -r hmr/requirements.txt (line 6)) (2.2.4)\n",
            "Requirement already satisfied: scikit-image in /usr/local/lib/python2.7/dist-packages (from -r hmr/requirements.txt (line 7)) (0.14.2)\n",
            "Collecting deepdish>=0.3 (from -r hmr/requirements.txt (line 8))\n",
            "  Downloading https://files.pythonhosted.org/packages/6e/39/2a47c852651982bc5eb39212ac110284dd20126bdc7b49bde401a0139f5d/deepdish-0.3.6-py2.py3-none-any.whl\n",
            "Requirement already satisfied: opencv-python in /usr/local/lib/python2.7/dist-packages (from -r hmr/requirements.txt (line 9)) (3.4.5.20)\n",
            "Requirement already satisfied: absl-py in /usr/local/lib/python2.7/dist-packages (from -r hmr/requirements.txt (line 10)) (0.7.1)\n",
            "Collecting ipdb (from -r hmr/requirements.txt (line 11))\n",
            "  Downloading https://files.pythonhosted.org/packages/6d/43/c3c2e866a8803e196d6209595020a4a6db1a3c5d07c01455669497ae23d0/ipdb-0.12.tar.gz\n",
            "Requirement already satisfied: Cython in /usr/local/lib/python2.7/dist-packages (from opendr->-r hmr/requirements.txt (line 5)) (0.29.7)\n",
            "Collecting chumpy>=0.58 (from opendr->-r hmr/requirements.txt (line 5))\n",
            "\u001b[?25l  Downloading https://files.pythonhosted.org/packages/29/b2/16d3e76b7fa0a37e6a9fcdea15cf0db1feb24349605969a952f476305784/chumpy-0.68.tar.gz (47kB)\n",
            "\u001b[K     |████████████████████████████████| 51kB 25.2MB/s \n",
            "\u001b[?25hRequirement already satisfied: cycler>=0.10 in /usr/local/lib/python2.7/dist-packages (from matplotlib->-r hmr/requirements.txt (line 6)) (0.10.0)\n",
            "Requirement already satisfied: backports.functools-lru-cache in /usr/local/lib/python2.7/dist-packages (from matplotlib->-r hmr/requirements.txt (line 6)) (1.5)\n",
            "Requirement already satisfied: subprocess32 in /usr/local/lib/python2.7/dist-packages (from matplotlib->-r hmr/requirements.txt (line 6)) (3.5.3)\n",
            "Requirement already satisfied: kiwisolver>=1.0.1 in /usr/local/lib/python2.7/dist-packages (from matplotlib->-r hmr/requirements.txt (line 6)) (1.1.0)\n",
            "Requirement already satisfied: pytz in /usr/local/lib/python2.7/dist-packages (from matplotlib->-r hmr/requirements.txt (line 6)) (2018.9)\n",
            "Requirement already satisfied: six>=1.10 in /usr/local/lib/python2.7/dist-packages (from matplotlib->-r hmr/requirements.txt (line 6)) (1.12.0)\n",
            "Requirement already satisfied: python-dateutil>=2.1 in /usr/local/lib/python2.7/dist-packages (from matplotlib->-r hmr/requirements.txt (line 6)) (2.5.3)\n",
            "Requirement already satisfied: pyparsing!=2.0.4,!=2.1.2,!=2.1.6,>=2.0.1 in /usr/local/lib/python2.7/dist-packages (from matplotlib->-r hmr/requirements.txt (line 6)) (2.4.0)\n",
            "Requirement already satisfied: PyWavelets>=0.4.0 in /usr/local/lib/python2.7/dist-packages (from scikit-image->-r hmr/requirements.txt (line 7)) (1.0.3)\n",
            "Requirement already satisfied: cloudpickle>=0.2.1 in /usr/local/lib/python2.7/dist-packages (from scikit-image->-r hmr/requirements.txt (line 7)) (0.6.1)\n",
            "Requirement already satisfied: networkx>=1.8 in /usr/local/lib/python2.7/dist-packages (from scikit-image->-r hmr/requirements.txt (line 7)) (2.2)\n",
            "Requirement already satisfied: dask[array]>=1.0.0 in /usr/local/lib/python2.7/dist-packages (from scikit-image->-r hmr/requirements.txt (line 7)) (1.1.5)\n",
            "Requirement already satisfied: pillow>=4.3.0 in /usr/local/lib/python2.7/dist-packages (from scikit-image->-r hmr/requirements.txt (line 7)) (4.3.0)\n",
            "Requirement already satisfied: tables in /usr/local/lib/python2.7/dist-packages (from deepdish>=0.3->-r hmr/requirements.txt (line 8)) (3.4.4)\n",
            "Requirement already satisfied: enum34; python_version < \"3.4\" in /usr/local/lib/python2.7/dist-packages (from absl-py->-r hmr/requirements.txt (line 10)) (1.1.6)\n",
            "Requirement already satisfied: setuptools in /usr/local/lib/python2.7/dist-packages (from ipdb->-r hmr/requirements.txt (line 11)) (41.0.1)\n",
            "Requirement already satisfied: ipython<6.0.0,>=5.1.0 in /usr/local/lib/python2.7/dist-packages (from ipdb->-r hmr/requirements.txt (line 11)) (5.5.0)\n",
            "Requirement already satisfied: decorator>=4.3.0 in /usr/local/lib/python2.7/dist-packages (from networkx>=1.8->scikit-image->-r hmr/requirements.txt (line 7)) (4.4.0)\n",
            "Requirement already satisfied: toolz>=0.7.3; extra == \"array\" in /usr/local/lib/python2.7/dist-packages (from dask[array]>=1.0.0->scikit-image->-r hmr/requirements.txt (line 7)) (0.9.0)\n",
            "Requirement already satisfied: olefile in /usr/local/lib/python2.7/dist-packages (from pillow>=4.3.0->scikit-image->-r hmr/requirements.txt (line 7)) (0.46)\n",
            "Requirement already satisfied: numexpr>=2.5.2 in /usr/local/lib/python2.7/dist-packages (from tables->deepdish>=0.3->-r hmr/requirements.txt (line 8)) (2.6.9)\n",
            "Requirement already satisfied: simplegeneric>0.8 in /usr/local/lib/python2.7/dist-packages (from ipython<6.0.0,>=5.1.0->ipdb->-r hmr/requirements.txt (line 11)) (0.8.1)\n",
            "Requirement already satisfied: pickleshare in /usr/local/lib/python2.7/dist-packages (from ipython<6.0.0,>=5.1.0->ipdb->-r hmr/requirements.txt (line 11)) (0.7.5)\n",
            "Requirement already satisfied: backports.shutil-get-terminal-size; python_version == \"2.7\" in /usr/local/lib/python2.7/dist-packages (from ipython<6.0.0,>=5.1.0->ipdb->-r hmr/requirements.txt (line 11)) (1.0.0)\n",
            "Requirement already satisfied: pathlib2; python_version == \"2.7\" or python_version == \"3.3\" in /usr/local/lib/python2.7/dist-packages (from ipython<6.0.0,>=5.1.0->ipdb->-r hmr/requirements.txt (line 11)) (2.3.3)\n",
            "Requirement already satisfied: pexpect; sys_platform != \"win32\" in /usr/local/lib/python2.7/dist-packages (from ipython<6.0.0,>=5.1.0->ipdb->-r hmr/requirements.txt (line 11)) (4.7.0)\n",
            "Requirement already satisfied: traitlets>=4.2 in /usr/local/lib/python2.7/dist-packages (from ipython<6.0.0,>=5.1.0->ipdb->-r hmr/requirements.txt (line 11)) (4.3.2)\n",
            "Requirement already satisfied: pygments in /usr/local/lib/python2.7/dist-packages (from ipython<6.0.0,>=5.1.0->ipdb->-r hmr/requirements.txt (line 11)) (2.1.3)\n",
            "Requirement already satisfied: prompt-toolkit<2.0.0,>=1.0.4 in /usr/local/lib/python2.7/dist-packages (from ipython<6.0.0,>=5.1.0->ipdb->-r hmr/requirements.txt (line 11)) (1.0.16)\n",
            "Requirement already satisfied: scandir; python_version < \"3.5\" in /usr/local/lib/python2.7/dist-packages (from pathlib2; python_version == \"2.7\" or python_version == \"3.3\"->ipython<6.0.0,>=5.1.0->ipdb->-r hmr/requirements.txt (line 11)) (1.10.0)\n",
            "Requirement already satisfied: ptyprocess>=0.5 in /usr/local/lib/python2.7/dist-packages (from pexpect; sys_platform != \"win32\"->ipython<6.0.0,>=5.1.0->ipdb->-r hmr/requirements.txt (line 11)) (0.6.0)\n",
            "Requirement already satisfied: ipython-genutils in /usr/local/lib/python2.7/dist-packages (from traitlets>=4.2->ipython<6.0.0,>=5.1.0->ipdb->-r hmr/requirements.txt (line 11)) (0.2.0)\n",
            "Requirement already satisfied: wcwidth in /usr/local/lib/python2.7/dist-packages (from prompt-toolkit<2.0.0,>=1.0.4->ipython<6.0.0,>=5.1.0->ipdb->-r hmr/requirements.txt (line 11)) (0.1.7)\n",
            "Building wheels for collected packages: opendr, ipdb, chumpy\n",
            "  Building wheel for opendr (setup.py) ... \u001b[?25lerror\n",
            "\u001b[31m  ERROR: Failed building wheel for opendr\u001b[0m\n",
            "\u001b[?25h  Running setup.py clean for opendr\n",
            "  Building wheel for ipdb (setup.py) ... \u001b[?25l\u001b[?25hdone\n",
            "  Stored in directory: /root/.cache/pip/wheels/59/24/91/695211bd228d40fb22dff0ce3f05ba41ab724ab771736233f3\n",
            "  Building wheel for chumpy (setup.py) ... \u001b[?25l\u001b[?25hdone\n",
            "  Stored in directory: /root/.cache/pip/wheels/bd/34/cf/3719f67895ddd6d8668f861bfebb7a879ea86a747ff5b952d5\n",
            "Successfully built ipdb chumpy\n",
            "Failed to build opendr\n",
            "Installing collected packages: chumpy, opendr, deepdish, ipdb\n",
            "  Running setup.py install for opendr ... \u001b[?25l\u001b[?25herror\n",
            "\u001b[31mERROR: Command \"/usr/bin/python2 -u -c 'import setuptools, tokenize;__file__='\"'\"'/tmp/pip-install-DWIPG8/opendr/setup.py'\"'\"';f=getattr(tokenize, '\"'\"'open'\"'\"', open)(__file__);code=f.read().replace('\"'\"'\\r\\n'\"'\"', '\"'\"'\\n'\"'\"');f.close();exec(compile(code, __file__, '\"'\"'exec'\"'\"'))' install --record /tmp/pip-record-ciHNlW/install-record.txt --single-version-externally-managed --compile\" failed with error code 1 in /tmp/pip-install-DWIPG8/opendr/\u001b[0m\n",
            "--2019-05-13 22:45:36--  https://www.dropbox.com/s/llpxd14is7gyj0z/model.h5\n",
            "Resolving www.dropbox.com (www.dropbox.com)... 162.125.65.1, 2620:100:6021:1::a27d:4101\n",
            "Connecting to www.dropbox.com (www.dropbox.com)|162.125.65.1|:443... connected.\n",
            "HTTP request sent, awaiting response... 301 Moved Permanently\n",
            "Location: /s/raw/llpxd14is7gyj0z/model.h5 [following]\n",
            "--2019-05-13 22:45:36--  https://www.dropbox.com/s/raw/llpxd14is7gyj0z/model.h5\n",
            "Reusing existing connection to www.dropbox.com:443.\n",
            "HTTP request sent, awaiting response... 302 Found\n",
            "Location: https://ucc0b2005217dee9a90cec82408e.dl.dropboxusercontent.com/cd/0/inline/Ag1uc4x6w25OU5-mZ9iqFijQdyCfVVVsnYTfxwVUbhkTphHjT3a63NuK1TWOX_s1TNfotU7CzKebxBQeKCoTedsgNtIDVbcfhNf88rWX5gK8BA/file# [following]\n",
            "--2019-05-13 22:45:37--  https://ucc0b2005217dee9a90cec82408e.dl.dropboxusercontent.com/cd/0/inline/Ag1uc4x6w25OU5-mZ9iqFijQdyCfVVVsnYTfxwVUbhkTphHjT3a63NuK1TWOX_s1TNfotU7CzKebxBQeKCoTedsgNtIDVbcfhNf88rWX5gK8BA/file\n",
            "Resolving ucc0b2005217dee9a90cec82408e.dl.dropboxusercontent.com (ucc0b2005217dee9a90cec82408e.dl.dropboxusercontent.com)... 162.125.65.6, 2620:100:6021:6::a27d:4106\n",
            "Connecting to ucc0b2005217dee9a90cec82408e.dl.dropboxusercontent.com (ucc0b2005217dee9a90cec82408e.dl.dropboxusercontent.com)|162.125.65.6|:443... connected.\n",
            "HTTP request sent, awaiting response... 200 OK\n",
            "Length: 209602136 (200M) [text/plain]\n",
            "Saving to: ‘./keras/model.h5’\n",
            "\n",
            "model.h5            100%[===================>] 199.89M  44.2MB/s    in 4.5s    \n",
            "\n",
            "2019-05-13 22:45:42 (44.7 MB/s) - ‘./keras/model.h5’ saved [209602136/209602136]\n",
            "\n"
          ],
          "name": "stdout"
        },
        {
          "output_type": "stream",
          "text": [
            "Using TensorFlow backend.\n"
          ],
          "name": "stderr"
        },
        {
          "output_type": "stream",
          "text": [
            "WARNING:tensorflow:From /usr/local/lib/python3.6/dist-packages/tensorflow/python/framework/op_def_library.py:263: colocate_with (from tensorflow.python.framework.ops) is deprecated and will be removed in a future version.\n",
            "Instructions for updating:\n",
            "Colocations handled automatically by placer.\n",
            "Collecting opendr==0.77\n",
            "\u001b[?25l  Downloading https://files.pythonhosted.org/packages/ed/d5/d833f874c8fd12c5d5289e3091b3391fa36f5fe9cb8e086263d46dd44b60/opendr-0.77.tar.gz (240kB)\n",
            "\u001b[K     |████████████████████████████████| 245kB 9.3MB/s \n",
            "\u001b[?25hRequirement already satisfied: Cython in /usr/local/lib/python2.7/dist-packages (from opendr==0.77) (0.29.7)\n",
            "Requirement already satisfied: chumpy>=0.58 in /usr/local/lib/python2.7/dist-packages (from opendr==0.77) (0.68)\n",
            "Requirement already satisfied: matplotlib in /usr/local/lib/python2.7/dist-packages (from opendr==0.77) (2.2.4)\n",
            "Requirement already satisfied: six>=1.11.0 in /usr/local/lib/python2.7/dist-packages (from chumpy>=0.58->opendr==0.77) (1.12.0)\n",
            "Requirement already satisfied: numpy>=1.8.1 in /usr/local/lib/python2.7/dist-packages (from chumpy>=0.58->opendr==0.77) (1.16.3)\n",
            "Requirement already satisfied: scipy>=0.13.0 in /usr/local/lib/python2.7/dist-packages (from chumpy>=0.58->opendr==0.77) (1.2.1)\n",
            "Requirement already satisfied: cycler>=0.10 in /usr/local/lib/python2.7/dist-packages (from matplotlib->opendr==0.77) (0.10.0)\n",
            "Requirement already satisfied: backports.functools-lru-cache in /usr/local/lib/python2.7/dist-packages (from matplotlib->opendr==0.77) (1.5)\n",
            "Requirement already satisfied: subprocess32 in /usr/local/lib/python2.7/dist-packages (from matplotlib->opendr==0.77) (3.5.3)\n",
            "Requirement already satisfied: kiwisolver>=1.0.1 in /usr/local/lib/python2.7/dist-packages (from matplotlib->opendr==0.77) (1.1.0)\n",
            "Requirement already satisfied: pytz in /usr/local/lib/python2.7/dist-packages (from matplotlib->opendr==0.77) (2018.9)\n",
            "Requirement already satisfied: python-dateutil>=2.1 in /usr/local/lib/python2.7/dist-packages (from matplotlib->opendr==0.77) (2.5.3)\n",
            "Requirement already satisfied: pyparsing!=2.0.4,!=2.1.2,!=2.1.6,>=2.0.1 in /usr/local/lib/python2.7/dist-packages (from matplotlib->opendr==0.77) (2.4.0)\n",
            "Requirement already satisfied: setuptools in /usr/local/lib/python2.7/dist-packages (from kiwisolver>=1.0.1->matplotlib->opendr==0.77) (41.0.1)\n",
            "Building wheels for collected packages: opendr\n",
            "  Building wheel for opendr (setup.py) ... \u001b[?25l\u001b[?25hdone\n",
            "  Stored in directory: /root/.cache/pip/wheels/5c/cd/7c/8f4035d040aacef26bccc11cebfe69cc44871e020b1f5e598b\n",
            "Successfully built opendr\n",
            "Installing collected packages: opendr\n",
            "Successfully installed opendr-0.77\n"
          ],
          "name": "stdout"
        }
      ]
    },
    {
      "cell_type": "markdown",
      "metadata": {
        "id": "XNg9osekfr9o",
        "colab_type": "text"
      },
      "source": [
        "##Upload video"
      ]
    },
    {
      "cell_type": "code",
      "metadata": {
        "id": "20WUpg6ffraY",
        "colab_type": "code",
        "colab": {
          "resources": {
            "http://localhost:8080/nbextensions/google.colab/files.js": {
              "data": "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",
              "ok": true,
              "headers": [
                [
                  "content-type",
                  "application/javascript"
                ]
              ],
              "status": 200,
              "status_text": ""
            }
          },
          "base_uri": "https://localhost:8080/",
          "height": 37
        },
        "outputId": "fde1e270-656c-4c6f-91fe-d831b58fa01f"
      },
      "source": [
        "#upload video\n",
        "exec(open('upload_videos.py').read())"
      ],
      "execution_count": 3,
      "outputs": [
        {
          "output_type": "display_data",
          "data": {
            "text/html": [
              "\n",
              "     <input type=\"file\" id=\"files-54245e98-d848-4a27-9469-191a427dbbc5\" name=\"files[]\" multiple disabled />\n",
              "     <output id=\"result-54245e98-d848-4a27-9469-191a427dbbc5\">\n",
              "      Upload widget is only available when the cell has been executed in the\n",
              "      current browser session. Please rerun this cell to enable.\n",
              "      </output>\n",
              "      <script src=\"/nbextensions/google.colab/files.js\"></script> "
            ],
            "text/plain": [
              "<IPython.core.display.HTML object>"
            ]
          },
          "metadata": {
            "tags": []
          }
        }
      ]
    },
    {
      "cell_type": "code",
      "metadata": {
        "id": "H6HOLFfAZxpa",
        "colab_type": "code",
        "colab": {
          "base_uri": "https://localhost:8080/",
          "height": 34
        },
        "outputId": "58211d17-5624-4ab6-c4fe-df29a3268640"
      },
      "source": [
        "%cd /content/\n",
        "!cp -r hmr keras_Realtime_Multi-Person_Pose_Estimation/hmr"
      ],
      "execution_count": 17,
      "outputs": [
        {
          "output_type": "stream",
          "text": [
            "/content/keras_Realtime_Multi-Person_Pose_Estimation\n"
          ],
          "name": "stdout"
        }
      ]
    },
    {
      "cell_type": "markdown",
      "metadata": {
        "colab_type": "text",
        "id": "gwTyO3683c08"
      },
      "source": [
        "##Process the video\n",
        "####<font color='green'>`24`</font> in `video_to_images.sh` stands for desired fps rate at which you want to convert video to images"
      ]
    },
    {
      "cell_type": "code",
      "metadata": {
        "id": "UIAyAmBJ3bJf",
        "colab_type": "code",
        "colab": {
          "base_uri": "https://localhost:8080/",
          "height": 1261
        },
        "outputId": "7c1a43e0-940d-4d1c-df48-c9ad4110ec26"
      },
      "source": [
        "%cd /content/keras_Realtime_Multi-Person_Pose_Estimation/\n",
        "# keras_Realtime_Multi-Person_Pose_Estimation/\n",
        "\n",
        "#convert to images, specify fps rate\n",
        "!bash video_to_images.sh 24\n",
        "\n",
        "#2d pose estimation. For each image creates corresponding .json file with format\n",
        "#similar to output .json format of openpose (https://github.com/CMU-Perceptual-Computing-Lab/openpose)\n",
        "exec(open('2d_pose_estimation.py').read())\n",
        "\n",
        "#3d pose estimation\n",
        "os.chdir('..')\n",
        "!bash hmr/3dpose_estimate.sh\n",
        "\n",
        "#convert estimated .csv files to bvh\n",
        "!blender --background hmr/csv_to_bvh.blend -noaudio -P hmr/csv_to_bvh.py"
      ],
      "execution_count": 20,
      "outputs": [
        {
          "output_type": "stream",
          "text": [
            "/content/keras_Realtime_Multi-Person_Pose_Estimation\n",
            "Processing *\n",
            "ffmpeg version 3.4.6-0ubuntu0.18.04.1 Copyright (c) 2000-2019 the FFmpeg developers\n",
            "  built with gcc 7 (Ubuntu 7.3.0-16ubuntu3)\n",
            "  configuration: --prefix=/usr --extra-version=0ubuntu0.18.04.1 --toolchain=hardened --libdir=/usr/lib/x86_64-linux-gnu --incdir=/usr/include/x86_64-linux-gnu --enable-gpl --disable-stripping --enable-avresample --enable-avisynth --enable-gnutls --enable-ladspa --enable-libass --enable-libbluray --enable-libbs2b --enable-libcaca --enable-libcdio --enable-libflite --enable-libfontconfig --enable-libfreetype --enable-libfribidi --enable-libgme --enable-libgsm --enable-libmp3lame --enable-libmysofa --enable-libopenjpeg --enable-libopenmpt --enable-libopus --enable-libpulse --enable-librubberband --enable-librsvg --enable-libshine --enable-libsnappy --enable-libsoxr --enable-libspeex --enable-libssh --enable-libtheora --enable-libtwolame --enable-libvorbis --enable-libvpx --enable-libwavpack --enable-libwebp --enable-libx265 --enable-libxml2 --enable-libxvid --enable-libzmq --enable-libzvbi --enable-omx --enable-openal --enable-opengl --enable-sdl2 --enable-libdc1394 --enable-libdrm --enable-libiec61883 --enable-chromaprint --enable-frei0r --enable-libopencv --enable-libx264 --enable-shared\n",
            "  libavutil      55. 78.100 / 55. 78.100\n",
            "  libavcodec     57.107.100 / 57.107.100\n",
            "  libavformat    57. 83.100 / 57. 83.100\n",
            "  libavdevice    57. 10.100 / 57. 10.100\n",
            "  libavfilter     6.107.100 /  6.107.100\n",
            "  libavresample   3.  7.  0 /  3.  7.  0\n",
            "  libswscale      4.  8.100 /  4.  8.100\n",
            "  libswresample   2.  9.100 /  2.  9.100\n",
            "  libpostproc    54.  7.100 / 54.  7.100\n",
            "\u001b[1;31msample_videos/*: No such file or directory\n",
            "\u001b[0mDone\n",
            "Processing *\n",
            "2019-05-13 22:56:40.490105: I tensorflow/core/platform/profile_utils/cpu_utils.cc:94] CPU Frequency: 2300000000 Hz\n",
            "2019-05-13 22:56:40.490356: I tensorflow/compiler/xla/service/service.cc:150] XLA service 0x5653910e5600 executing computations on platform Host. Devices:\n",
            "2019-05-13 22:56:40.490389: I tensorflow/compiler/xla/service/service.cc:158]   StreamExecutor device (0): <undefined>, <undefined>\n",
            "2019-05-13 22:56:40.616186: I tensorflow/stream_executor/cuda/cuda_gpu_executor.cc:998] successful NUMA node read from SysFS had negative value (-1), but there must be at least one NUMA node, so returning NUMA node zero\n",
            "2019-05-13 22:56:40.616729: I tensorflow/compiler/xla/service/service.cc:150] XLA service 0x5653910e7020 executing computations on platform CUDA. Devices:\n",
            "2019-05-13 22:56:40.616759: I tensorflow/compiler/xla/service/service.cc:158]   StreamExecutor device (0): Tesla T4, Compute Capability 7.5\n",
            "2019-05-13 22:56:40.617131: I tensorflow/core/common_runtime/gpu/gpu_device.cc:1433] Found device 0 with properties: \n",
            "name: Tesla T4 major: 7 minor: 5 memoryClockRate(GHz): 1.59\n",
            "pciBusID: 0000:00:04.0\n",
            "totalMemory: 14.73GiB freeMemory: 13.89GiB\n",
            "2019-05-13 22:56:40.617155: I tensorflow/core/common_runtime/gpu/gpu_device.cc:1512] Adding visible gpu devices: 0\n",
            "2019-05-13 22:56:41.103865: I tensorflow/core/common_runtime/gpu/gpu_device.cc:984] Device interconnect StreamExecutor with strength 1 edge matrix:\n",
            "2019-05-13 22:56:41.103925: I tensorflow/core/common_runtime/gpu/gpu_device.cc:990]      0 \n",
            "2019-05-13 22:56:41.103939: I tensorflow/core/common_runtime/gpu/gpu_device.cc:1003] 0:   N \n",
            "2019-05-13 22:56:41.104233: W tensorflow/core/common_runtime/gpu/gpu_bfc_allocator.cc:42] Overriding allow_growth setting because the TF_FORCE_GPU_ALLOW_GROWTH environment variable is set. Original config value was 0.\n",
            "2019-05-13 22:56:41.104297: I tensorflow/core/common_runtime/gpu/gpu_device.cc:1115] Created TensorFlow device (/job:localhost/replica:0/task:0/device:GPU:0 with 13428 MB memory) -> physical GPU (device: 0, name: Tesla T4, pci bus id: 0000:00:04.0, compute capability: 7.5)\n",
            "WARNING:tensorflow:From /usr/local/lib/python2.7/dist-packages/tensorflow/python/framework/op_def_library.py:263: colocate_with (from tensorflow.python.framework.ops) is deprecated and will be removed in a future version.\n",
            "Instructions for updating:\n",
            "Colocations handled automatically by placer.\n",
            "Iteration 0\n",
            "WARNING:tensorflow:From /content/hmr/src/tf_smpl/batch_lbs.py:53: div (from tensorflow.python.ops.math_ops) is deprecated and will be removed in a future version.\n",
            "Instructions for updating:\n",
            "Deprecated in favor of operator or tf.math.divide.\n",
            "Iteration 1\n",
            "Reuse is on!\n",
            "Iteration 2\n",
            "Reuse is on!\n",
            "Restoring checkpoint /content/hmr/src/../models/model.ckpt-667589..\n",
            "WARNING:tensorflow:From /usr/local/lib/python2.7/dist-packages/tensorflow/python/training/saver.py:1266: checkpoint_exists (from tensorflow.python.training.checkpoint_management) is deprecated and will be removed in a future version.\n",
            "Instructions for updating:\n",
            "Use standard file APIs to check for files with this prefix.\n",
            "Traceback (most recent call last):\n",
            "  File \"hmr/demo.py\", line 211, in <module>\n",
            "    main(config.img_path, config.json_path)\n",
            "  File \"hmr/demo.py\", line 127, in main\n",
            "    input_img, proc_param, img = preprocess_image(img_path, json_path)\n",
            "  File \"hmr/demo.py\", line 98, in preprocess_image\n",
            "    img = io.imread(img_path)\n",
            "  File \"/usr/local/lib/python2.7/dist-packages/skimage/io/_io.py\", line 62, in imread\n",
            "    img = call_plugin('imread', fname, plugin=plugin, **plugin_args)\n",
            "  File \"/usr/local/lib/python2.7/dist-packages/skimage/io/manage_plugins.py\", line 214, in call_plugin\n",
            "    return func(*args, **kwargs)\n",
            "  File \"/usr/local/lib/python2.7/dist-packages/skimage/io/_plugins/pil_plugin.py\", line 35, in imread\n",
            "    with open(fname, 'rb') as f:\n",
            "IOError: [Errno 2] No such file or directory: 'keras_Realtime_Multi-Person_Pose_Estimation/sample_images/*'\n",
            "Done\n",
            "Read blend: /content/hmr/csv_to_bvh.blend\n",
            "[bpy.data.objects['Ankle.R'], bpy.data.objects['Knee.R'], bpy.data.objects['Hip.R'], bpy.data.objects['Hip.L'], bpy.data.objects['Knee.L'], bpy.data.objects['Ankle.L'], bpy.data.objects['Wrist.R'], bpy.data.objects['Elbow.R'], bpy.data.objects['Shoulder.R'], bpy.data.objects['Shoulder.L'], bpy.data.objects['Elbow.L'], bpy.data.objects['Wrist.L'], bpy.data.objects['Neck'], bpy.data.objects['Head'], bpy.data.objects['Nose'], bpy.data.objects['Eye.L'], bpy.data.objects['Eye.R'], bpy.data.objects['Ear.L'], bpy.data.objects['Ear.R'], bpy.data.objects['Hip.Center']]\n",
            "Traceback (most recent call last):\n",
            "  File \"/content/hmr/csv_to_bvh.py\", line 20, in <module>\n",
            "    with open(fullpath, 'r', newline='') as csvfile:\n",
            "FileNotFoundError: [Errno 2] No such file or directory: 'hmr/output/csv_joined/csv_joined.csv'\n",
            "\n",
            "Blender quit\n",
            "src/tcmalloc.cc:283] Attempt to free invalid pointer 0x7fe72900e400 \n"
          ],
          "name": "stdout"
        }
      ]
    },
    {
      "cell_type": "markdown",
      "metadata": {
        "id": "nTjDp_WpOK2r",
        "colab_type": "text"
      },
      "source": [
        "##Download .bvh"
      ]
    },
    {
      "cell_type": "code",
      "metadata": {
        "id": "GE3TrWCq6jP_",
        "colab_type": "code",
        "colab": {
          "base_uri": "https://localhost:8080/",
          "height": 300
        },
        "outputId": "eb8e1e43-ce2e-4465-c3c8-4b699491a464"
      },
      "source": [
        "from google.colab import files\n",
        "files.download('hmr/output/bvh_animation/estimated_animation.bvh')"
      ],
      "execution_count": 5,
      "outputs": [
        {
          "output_type": "error",
          "ename": "FileNotFoundError",
          "evalue": "ignored",
          "traceback": [
            "\u001b[0;31m---------------------------------------------------------------------------\u001b[0m",
            "\u001b[0;31mFileNotFoundError\u001b[0m                         Traceback (most recent call last)",
            "\u001b[0;32m<ipython-input-5-7db220c7b02f>\u001b[0m in \u001b[0;36m<module>\u001b[0;34m()\u001b[0m\n\u001b[1;32m      1\u001b[0m \u001b[0;32mfrom\u001b[0m \u001b[0mgoogle\u001b[0m\u001b[0;34m.\u001b[0m\u001b[0mcolab\u001b[0m \u001b[0;32mimport\u001b[0m \u001b[0mfiles\u001b[0m\u001b[0;34m\u001b[0m\u001b[0;34m\u001b[0m\u001b[0m\n\u001b[0;32m----> 2\u001b[0;31m \u001b[0mfiles\u001b[0m\u001b[0;34m.\u001b[0m\u001b[0mdownload\u001b[0m\u001b[0;34m(\u001b[0m\u001b[0;34m'hmr/output/bvh_animation/estimated_animation.bvh'\u001b[0m\u001b[0;34m)\u001b[0m\u001b[0;34m\u001b[0m\u001b[0;34m\u001b[0m\u001b[0m\n\u001b[0m",
            "\u001b[0;32m/usr/local/lib/python3.6/dist-packages/google/colab/files.py\u001b[0m in \u001b[0;36mdownload\u001b[0;34m(filename)\u001b[0m\n\u001b[1;32m    142\u001b[0m       \u001b[0;32mraise\u001b[0m \u001b[0mOSError\u001b[0m\u001b[0;34m(\u001b[0m\u001b[0mmsg\u001b[0m\u001b[0;34m)\u001b[0m\u001b[0;34m\u001b[0m\u001b[0;34m\u001b[0m\u001b[0m\n\u001b[1;32m    143\u001b[0m     \u001b[0;32melse\u001b[0m\u001b[0;34m:\u001b[0m\u001b[0;34m\u001b[0m\u001b[0;34m\u001b[0m\u001b[0m\n\u001b[0;32m--> 144\u001b[0;31m       \u001b[0;32mraise\u001b[0m \u001b[0mFileNotFoundError\u001b[0m\u001b[0;34m(\u001b[0m\u001b[0mmsg\u001b[0m\u001b[0;34m)\u001b[0m  \u001b[0;31m# pylint: disable=undefined-variable\u001b[0m\u001b[0;34m\u001b[0m\u001b[0;34m\u001b[0m\u001b[0m\n\u001b[0m\u001b[1;32m    145\u001b[0m \u001b[0;34m\u001b[0m\u001b[0m\n\u001b[1;32m    146\u001b[0m   \u001b[0mstarted\u001b[0m \u001b[0;34m=\u001b[0m \u001b[0m_threading\u001b[0m\u001b[0;34m.\u001b[0m\u001b[0mEvent\u001b[0m\u001b[0;34m(\u001b[0m\u001b[0;34m)\u001b[0m\u001b[0;34m\u001b[0m\u001b[0;34m\u001b[0m\u001b[0m\n",
            "\u001b[0;31mFileNotFoundError\u001b[0m: Cannot find file: hmr/output/bvh_animation/estimated_animation.bvh"
          ]
        }
      ]
    },
    {
      "cell_type": "markdown",
      "metadata": {
        "id": "e3mfmjKlWJxS",
        "colab_type": "text"
      },
      "source": [
        "##Display results of 3d pose estimation (optional)"
      ]
    },
    {
      "cell_type": "code",
      "metadata": {
        "id": "sLFtmdXWVztJ",
        "colab_type": "code",
        "colab": {}
      },
      "source": [
        "from IPython.display import Image, display\n",
        "\n",
        "images = os.listdir('hmr/output/images')\n",
        "extensions = {\".jpg\", \".png\", \".gif\", \".bmp\", \".jpeg\"}\n",
        "\n",
        "for image in sorted(images):\n",
        "  for ext in extensions:\n",
        "    if image.endswith(ext):\n",
        "      display(Image('hmr/output/images/'+image, width=512))"
      ],
      "execution_count": 0,
      "outputs": []
    },
    {
      "cell_type": "markdown",
      "metadata": {
        "id": "3b7kJVtZfMj6",
        "colab_type": "text"
      },
      "source": [
        "##Clear all the generated data if you want to process new video"
      ]
    },
    {
      "cell_type": "code",
      "metadata": {
        "id": "jIWBMk8rfMuB",
        "colab_type": "code",
        "colab": {}
      },
      "source": [
        "!rm keras_Realtime_Multi-Person_Pose_Estimation/sample_images/*\n",
        "!rm keras_Realtime_Multi-Person_Pose_Estimation/sample_jsons/*\n",
        "!rm keras_Realtime_Multi-Person_Pose_Estimation/sample_videos/*\n",
        "!rm hmr/output/bvh_animation/*\n",
        "!rm hmr/output/csv/*\n",
        "!rm hmr/output/csv_joined/*\n",
        "!rm hmr/output/images/*"
      ],
      "execution_count": 0,
      "outputs": []
    },
    {
      "cell_type": "markdown",
      "metadata": {
        "id": "4o7jqjHAW7pA",
        "colab_type": "text"
      },
      "source": [
        "####Based on:\n",
        "\n",
        "\n",
        "1.   **End-to-end Recovery of Human Shape and Pose** by *Angjoo Kanazawa, Michael J. Black, David W. Jacobs, Jitendra Malik *\n",
        "https://github.com/akanazawa/hmr  \n",
        "\n",
        "  Corresponding fork by *Denis Cera*: https://github.com/Dene33/hmr\n",
        "\n",
        "2.   **Realtime Multi-Person 2D Pose Estimation using Part Affinity Fields** by *Zhe Cao, Tomas Simon, Shih-En Wei, Yaser Sheikh* \\\n",
        "Keras implementation by *Michal Faber*: https://github.com/michalfaber/keras_Realtime_Multi-Person_Pose_Estimation\n",
        "\n",
        "  Corresponding fork by *Denis Cera*: https://github.com/Dene33/keras_Realtime_Multi-Person_Pose_Estimation\n",
        "\n",
        "\n"
      ]
    }
  ]
}