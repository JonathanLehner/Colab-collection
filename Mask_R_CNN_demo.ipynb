{
  "nbformat": 4,
  "nbformat_minor": 0,
  "metadata": {
    "colab": {
      "name": "Mask_R-CNN_demo.ipynb",
      "version": "0.3.2",
      "provenance": [],
      "collapsed_sections": [],
      "include_colab_link": true
    },
    "language_info": {
      "codemirror_mode": {
        "name": "ipython",
        "version": 3
      },
      "file_extension": ".py",
      "mimetype": "text/x-python",
      "name": "python",
      "nbconvert_exporter": "python",
      "pygments_lexer": "ipython3",
      "version": "3.7.2"
    },
    "kernelspec": {
      "display_name": "maskrcnn_benchmark",
      "language": "python",
      "name": "maskrcnn_benchmark"
    }
  },
  "cells": [
    {
      "cell_type": "markdown",
      "metadata": {
        "id": "view-in-github",
        "colab_type": "text"
      },
      "source": [
        "<a href=\"https://colab.research.google.com/github/JonathanLehner/Colab-collection/blob/master/Mask_R_CNN_demo.ipynb\" target=\"_parent\"><img src=\"https://colab.research.google.com/assets/colab-badge.svg\" alt=\"Open In Colab\"/></a>"
      ]
    },
    {
      "cell_type": "markdown",
      "metadata": {
        "id": "WF43Caaprl8Z",
        "colab_type": "text"
      },
      "source": [
        "# Mask R-CNN demo\n",
        "\n",
        "This notebook illustrates one possible way of using `maskrcnn_benchmark` for computing predictions on images from an arbitrary URL.\n",
        "\n",
        "Let's start with a few standard imports"
      ]
    },
    {
      "cell_type": "code",
      "metadata": {
        "id": "2tMosUGgrm6u",
        "colab_type": "code",
        "colab": {}
      },
      "source": [
        "# https://github.com/facebookresearch/maskrcnn-benchmark/blob/master/demo/Mask_R-CNN_demo.ipynb"
      ],
      "execution_count": 0,
      "outputs": []
    },
    {
      "cell_type": "code",
      "metadata": {
        "id": "rwkJz569rm9w",
        "colab_type": "code",
        "colab": {}
      },
      "source": [
        ""
      ],
      "execution_count": 0,
      "outputs": []
    },
    {
      "cell_type": "markdown",
      "metadata": {
        "id": "3tW2RcUirnRI",
        "colab_type": "text"
      },
      "source": [
        ""
      ]
    },
    {
      "cell_type": "code",
      "metadata": {
        "id": "0BH4WeRHrl8a",
        "colab_type": "code",
        "colab": {}
      },
      "source": [
        "import matplotlib.pyplot as plt\n",
        "import matplotlib.pylab as pylab\n",
        "\n",
        "import requests\n",
        "from io import BytesIO\n",
        "from PIL import Image\n",
        "import numpy as np"
      ],
      "execution_count": 0,
      "outputs": []
    },
    {
      "cell_type": "code",
      "metadata": {
        "id": "GTBB9Ojarl8d",
        "colab_type": "code",
        "colab": {}
      },
      "source": [
        "# this makes our figures bigger\n",
        "pylab.rcParams['figure.figsize'] = 20, 12"
      ],
      "execution_count": 0,
      "outputs": []
    },
    {
      "cell_type": "markdown",
      "metadata": {
        "id": "zMeOpczwrl8h",
        "colab_type": "text"
      },
      "source": [
        "Those are the relevant imports for the detection model"
      ]
    },
    {
      "cell_type": "code",
      "metadata": {
        "id": "FgUkEC5Vrl8i",
        "colab_type": "code",
        "colab": {
          "base_uri": "https://localhost:8080/",
          "height": 317
        },
        "outputId": "3612103c-3142-4e33-ee89-3905358cbbd2"
      },
      "source": [
        "from maskrcnn_benchmark.config import cfg\n",
        "from predictor import COCODemo"
      ],
      "execution_count": 4,
      "outputs": [
        {
          "output_type": "error",
          "ename": "ModuleNotFoundError",
          "evalue": "ignored",
          "traceback": [
            "\u001b[0;31m---------------------------------------------------------------------------\u001b[0m",
            "\u001b[0;31mModuleNotFoundError\u001b[0m                       Traceback (most recent call last)",
            "\u001b[0;32m<ipython-input-4-63734ee6f49e>\u001b[0m in \u001b[0;36m<module>\u001b[0;34m()\u001b[0m\n\u001b[0;32m----> 1\u001b[0;31m \u001b[0;32mfrom\u001b[0m \u001b[0mmaskrcnn_benchmark\u001b[0m\u001b[0;34m.\u001b[0m\u001b[0mconfig\u001b[0m \u001b[0;32mimport\u001b[0m \u001b[0mcfg\u001b[0m\u001b[0;34m\u001b[0m\u001b[0;34m\u001b[0m\u001b[0m\n\u001b[0m\u001b[1;32m      2\u001b[0m \u001b[0;32mfrom\u001b[0m \u001b[0mpredictor\u001b[0m \u001b[0;32mimport\u001b[0m \u001b[0mCOCODemo\u001b[0m\u001b[0;34m\u001b[0m\u001b[0;34m\u001b[0m\u001b[0m\n",
            "\u001b[0;31mModuleNotFoundError\u001b[0m: No module named 'maskrcnn_benchmark'",
            "",
            "\u001b[0;31m---------------------------------------------------------------------------\u001b[0;32m\nNOTE: If your import is failing due to a missing package, you can\nmanually install dependencies using either !pip or !apt.\n\nTo view examples of installing some common dependencies, click the\n\"Open Examples\" button below.\n\u001b[0;31m---------------------------------------------------------------------------\u001b[0m\n"
          ]
        }
      ]
    },
    {
      "cell_type": "markdown",
      "metadata": {
        "id": "Syef7glerl8m",
        "colab_type": "text"
      },
      "source": [
        "We provide a helper class `COCODemo`, which loads a model from the config file, and performs pre-processing, model prediction and post-processing for us.\n",
        "\n",
        "We can configure several model options by overriding the config options.\n",
        "In here, we make the model run on the CPU"
      ]
    },
    {
      "cell_type": "code",
      "metadata": {
        "id": "Oil7kfqerl8n",
        "colab_type": "code",
        "colab": {}
      },
      "source": [
        "config_file = \"../configs/caffe2/e2e_mask_rcnn_R_50_FPN_1x_caffe2.yaml\"\n",
        "\n",
        "# update the config options with the config file\n",
        "cfg.merge_from_file(config_file)\n",
        "# manual override some options\n",
        "cfg.merge_from_list([\"MODEL.DEVICE\", \"cpu\"])"
      ],
      "execution_count": 0,
      "outputs": []
    },
    {
      "cell_type": "markdown",
      "metadata": {
        "id": "978z_M_trl8q",
        "colab_type": "text"
      },
      "source": [
        "Now we create the `COCODemo` object. It contains a few extra options for conveniency, such as the confidence threshold for detections to be shown."
      ]
    },
    {
      "cell_type": "code",
      "metadata": {
        "id": "-6EX9cn1rl8r",
        "colab_type": "code",
        "colab": {}
      },
      "source": [
        "coco_demo = COCODemo(\n",
        "    cfg,\n",
        "    min_image_size=800,\n",
        "    confidence_threshold=0.7,\n",
        ")"
      ],
      "execution_count": 0,
      "outputs": []
    },
    {
      "cell_type": "markdown",
      "metadata": {
        "id": "4IRlxHjJrl8x",
        "colab_type": "text"
      },
      "source": [
        "Let's define a few helper functions for loading images from a URL"
      ]
    },
    {
      "cell_type": "code",
      "metadata": {
        "id": "LmW5RgwHrl8y",
        "colab_type": "code",
        "colab": {}
      },
      "source": [
        "def load(url):\n",
        "    \"\"\"\n",
        "    Given an url of an image, downloads the image and\n",
        "    returns a PIL image\n",
        "    \"\"\"\n",
        "    response = requests.get(url)\n",
        "    pil_image = Image.open(BytesIO(response.content)).convert(\"RGB\")\n",
        "    # convert to BGR format\n",
        "    image = np.array(pil_image)[:, :, [2, 1, 0]]\n",
        "    return image\n",
        "\n",
        "def imshow(img):\n",
        "    plt.imshow(img[:, :, [2, 1, 0]])\n",
        "    plt.axis(\"off\")"
      ],
      "execution_count": 0,
      "outputs": []
    },
    {
      "cell_type": "markdown",
      "metadata": {
        "id": "8Tv9KFZsrl82",
        "colab_type": "text"
      },
      "source": [
        "Let's now load an image from the COCO dataset. It's reference is in the comment"
      ]
    },
    {
      "cell_type": "code",
      "metadata": {
        "id": "fRseINOQrl83",
        "colab_type": "code",
        "colab": {}
      },
      "source": [
        "# from http://cocodataset.org/#explore?id=345434\n",
        "image = load(\"http://farm3.staticflickr.com/2469/3915380994_2e611b1779_z.jpg\")\n",
        "imshow(image)"
      ],
      "execution_count": 0,
      "outputs": []
    },
    {
      "cell_type": "markdown",
      "metadata": {
        "id": "MXj1B3-xrl9E",
        "colab_type": "text"
      },
      "source": [
        "### Computing the predictions\n",
        "\n",
        "We provide a `run_on_opencv_image` function, which takes an image as it was loaded by OpenCV (in `BGR` format), and computes the predictions on them, returning an image with the predictions overlayed on the image."
      ]
    },
    {
      "cell_type": "code",
      "metadata": {
        "id": "QMkTWI15rl9H",
        "colab_type": "code",
        "colab": {}
      },
      "source": [
        "# compute predictions\n",
        "predictions = coco_demo.run_on_opencv_image(image)\n",
        "imshow(predictions)"
      ],
      "execution_count": 0,
      "outputs": []
    },
    {
      "cell_type": "markdown",
      "metadata": {
        "id": "-5LPk0OArl9K",
        "colab_type": "text"
      },
      "source": [
        "## Keypoints Demo"
      ]
    },
    {
      "cell_type": "code",
      "metadata": {
        "id": "DLNIEZGfrl9L",
        "colab_type": "code",
        "colab": {}
      },
      "source": [
        "# set up demo for keypoints\n",
        "config_file = \"../configs/caffe2/e2e_keypoint_rcnn_R_50_FPN_1x_caffe2.yaml\"\n",
        "cfg.merge_from_file(config_file)\n",
        "cfg.merge_from_list([\"MODEL.DEVICE\", \"cpu\"])\n",
        "cfg.merge_from_list([\"MODEL.MASK_ON\", False])\n",
        "\n",
        "coco_demo = COCODemo(\n",
        "    cfg,\n",
        "    min_image_size=800,\n",
        "    confidence_threshold=0.7,\n",
        ")"
      ],
      "execution_count": 0,
      "outputs": []
    },
    {
      "cell_type": "code",
      "metadata": {
        "id": "NKWsSJ9Grl9O",
        "colab_type": "code",
        "colab": {}
      },
      "source": [
        "# run demo\n",
        "image = load(\"http://farm9.staticflickr.com/8419/8710147224_ff637cc4fc_z.jpg\")\n",
        "predictions = coco_demo.run_on_opencv_image(image)\n",
        "imshow(predictions)"
      ],
      "execution_count": 0,
      "outputs": []
    }
  ]
}