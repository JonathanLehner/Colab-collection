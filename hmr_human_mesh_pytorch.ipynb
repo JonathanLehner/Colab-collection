{
  "nbformat": 4,
  "nbformat_minor": 0,
  "metadata": {
    "colab": {
      "name": "hmr_human_mesh_pytorch.ipynb",
      "version": "0.3.2",
      "provenance": [],
      "collapsed_sections": [],
      "include_colab_link": true
    },
    "kernelspec": {
      "name": "python3",
      "display_name": "Python 3"
    }
  },
  "cells": [
    {
      "cell_type": "markdown",
      "metadata": {
        "id": "view-in-github",
        "colab_type": "text"
      },
      "source": [
        "<a href=\"https://colab.research.google.com/github/JonathanLehner/Colab-collection/blob/master/hmr_human_mesh_pytorch.ipynb\" target=\"_parent\"><img src=\"https://colab.research.google.com/assets/colab-badge.svg\" alt=\"Open In Colab\"/></a>"
      ]
    },
    {
      "cell_type": "code",
      "metadata": {
        "id": "Ph9n4wic9-Z4",
        "colab_type": "code",
        "colab": {}
      },
      "source": [
        ""
      ],
      "execution_count": 0,
      "outputs": []
    },
    {
      "cell_type": "code",
      "metadata": {
        "id": "4V8jSdww9_WB",
        "colab_type": "code",
        "colab": {}
      },
      "source": [
        "# This is for https://github.com/MandyMo/pytorch_HMR\n",
        "# TODO:  --> need to train model.zip and save it somewhere\n",
        "\n",
        "\n",
        "# https://github.com/akanazawa/hmr\n",
        "# https://github.com/MandyMo/pytorch_HMR\n",
        "# https://github.com/Dene33/video_to_bvh"
      ],
      "execution_count": 0,
      "outputs": []
    },
    {
      "cell_type": "code",
      "metadata": {
        "id": "OJpGzKSf-GNB",
        "colab_type": "code",
        "colab": {}
      },
      "source": [
        "# environment configurations\n",
        "!pip install pytorch==0.4\n",
        "!pip install torchvision\n",
        "!pip install numpy\n",
        "!pip install scipy\n",
        "!pip install h5py\n",
        "!pip install opencv-python"
      ],
      "execution_count": 0,
      "outputs": []
    }
  ]
}