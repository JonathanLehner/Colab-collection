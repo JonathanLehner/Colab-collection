{
  "nbformat": 4,
  "nbformat_minor": 0,
  "metadata": {
    "colab": {
      "name": "PyrenderEGLSample.ipynb",
      "version": "0.3.2",
      "provenance": [],
      "include_colab_link": true
    },
    "kernelspec": {
      "name": "python3",
      "display_name": "Python 3"
    },
    "accelerator": "GPU"
  },
  "cells": [
    {
      "cell_type": "markdown",
      "metadata": {
        "id": "view-in-github",
        "colab_type": "text"
      },
      "source": [
        "<a href=\"https://colab.research.google.com/github/JonathanLehner/Colab-collection/blob/master/PyrenderEGLSample.ipynb\" target=\"_parent\"><img src=\"https://colab.research.google.com/assets/colab-badge.svg\" alt=\"Open In Colab\"/></a>"
      ]
    },
    {
      "metadata": {
        "id": "3xMW1-wKQ8nS",
        "colab_type": "code",
        "colab": {}
      },
      "cell_type": "code",
      "source": [
        "\n",
        "# https://github.com/mmatl/pyrender\n",
        "# https://github.com/JonathanLehner/Colab-collection\n",
        "\n"
      ],
      "execution_count": 0,
      "outputs": []
    },
    {
      "metadata": {
        "id": "NVTb1atw4Xlv",
        "colab_type": "code",
        "colab": {}
      },
      "cell_type": "code",
      "source": [
        ""
      ],
      "execution_count": 0,
      "outputs": []
    },
    {
      "metadata": {
        "id": "VsqIYP0F4Vwj",
        "colab_type": "code",
        "colab": {
          "base_uri": "https://localhost:8080/",
          "height": 700
        },
        "outputId": "ef4a8d97-3144-40b9-d850-b544696b43d1"
      },
      "cell_type": "code",
      "source": [
        "# Install pyrender\n",
        "!pip install pyrender"
      ],
      "execution_count": 1,
      "outputs": [
        {
          "output_type": "stream",
          "text": [
            "Collecting pyrender\n",
            "\u001b[?25l  Downloading https://files.pythonhosted.org/packages/3e/6f/c0d554c8b77dcebf0150bac23a07d5b940a5bda5422b1ad5f7c67d3f6543/pyrender-0.1.23-py3-none-any.whl (1.2MB)\n",
            "\u001b[K    100% |████████████████████████████████| 1.2MB 24.8MB/s \n",
            "\u001b[?25hRequirement already satisfied: numpy in /usr/local/lib/python3.6/dist-packages (from pyrender) (1.16.3)\n",
            "Requirement already satisfied: Pillow in /usr/local/lib/python3.6/dist-packages (from pyrender) (4.3.0)\n",
            "Requirement already satisfied: imageio in /usr/local/lib/python3.6/dist-packages (from pyrender) (2.4.1)\n",
            "Collecting trimesh>=2.37.6 (from pyrender)\n",
            "\u001b[?25l  Downloading https://files.pythonhosted.org/packages/cd/78/314a448265d0104162ce11ccfca5566504c9ad732d268375a5e734bed19a/trimesh-2.38.2.tar.gz (324kB)\n",
            "\u001b[K    100% |████████████████████████████████| 327kB 36.7MB/s \n",
            "\u001b[?25hCollecting networkx==2.2 (from pyrender)\n",
            "\u001b[?25l  Downloading https://files.pythonhosted.org/packages/f3/f4/7e20ef40b118478191cec0b58c3192f822cace858c19505c7670961b76b2/networkx-2.2.zip (1.7MB)\n",
            "\u001b[K    100% |████████████████████████████████| 1.7MB 20.1MB/s \n",
            "\u001b[?25hCollecting pyglet==1.4.0b1 (from pyrender)\n",
            "\u001b[?25l  Downloading https://files.pythonhosted.org/packages/96/3e/b1a3a39771d8452a89920b779678dbd9160634f38eee8a202c5696ed755e/pyglet-1.4.0b1-py2.py3-none-any.whl (1.0MB)\n",
            "\u001b[K    100% |████████████████████████████████| 1.0MB 30.5MB/s \n",
            "\u001b[?25hRequirement already satisfied: PyOpenGL==3.1.0 in /usr/local/lib/python3.6/dist-packages (from pyrender) (3.1.0)\n",
            "Requirement already satisfied: six in /usr/local/lib/python3.6/dist-packages (from pyrender) (1.12.0)\n",
            "Collecting freetype-py (from pyrender)\n",
            "\u001b[?25l  Downloading https://files.pythonhosted.org/packages/f2/00/6f332e63b33d24dc3761916e6d51402a7a82dd43c6ca8a96e24dda32c6b5/freetype_py-2.1.0.post1-py2.py3-none-manylinux1_x86_64.whl (883kB)\n",
            "\u001b[K    100% |████████████████████████████████| 890kB 35.9MB/s \n",
            "\u001b[?25hRequirement already satisfied: olefile in /usr/local/lib/python3.6/dist-packages (from Pillow->pyrender) (0.46)\n",
            "Requirement already satisfied: scipy in /usr/local/lib/python3.6/dist-packages (from trimesh>=2.37.6->pyrender) (1.2.1)\n",
            "Requirement already satisfied: decorator>=4.3.0 in /usr/local/lib/python3.6/dist-packages (from networkx==2.2->pyrender) (4.4.0)\n",
            "Requirement already satisfied: future in /usr/local/lib/python3.6/dist-packages (from pyglet==1.4.0b1->pyrender) (0.16.0)\n",
            "Building wheels for collected packages: trimesh, networkx\n",
            "  Building wheel for trimesh (setup.py) ... \u001b[?25ldone\n",
            "\u001b[?25h  Stored in directory: /root/.cache/pip/wheels/6f/51/06/a87be22e27875c892bb4abc0cc29d29fbe5ba24bb04bba6fa8\n",
            "  Building wheel for networkx (setup.py) ... \u001b[?25ldone\n",
            "\u001b[?25h  Stored in directory: /root/.cache/pip/wheels/68/f8/29/b53346a112a07d30a5a84d53f19aeadaa1a474897c0423af91\n",
            "Successfully built trimesh networkx\n",
            "\u001b[31malbumentations 0.1.12 has requirement imgaug<0.2.7,>=0.2.5, but you'll have imgaug 0.2.8 which is incompatible.\u001b[0m\n",
            "Installing collected packages: networkx, trimesh, pyglet, freetype-py, pyrender\n",
            "  Found existing installation: networkx 2.3\n",
            "    Uninstalling networkx-2.3:\n",
            "      Successfully uninstalled networkx-2.3\n",
            "  Found existing installation: pyglet 1.3.2\n",
            "    Uninstalling pyglet-1.3.2:\n",
            "      Successfully uninstalled pyglet-1.3.2\n",
            "Successfully installed freetype-py-2.1.0.post1 networkx-2.2 pyglet-1.4.0b1 pyrender-0.1.23 trimesh-2.38.2\n"
          ],
          "name": "stdout"
        }
      ]
    },
    {
      "metadata": {
        "id": "IeQw-UvdRM--",
        "colab_type": "code",
        "outputId": "7a8c800a-74c8-4bb8-d96f-d87a16114aa6",
        "colab": {
          "base_uri": "https://localhost:8080/",
          "height": 136
        }
      },
      "cell_type": "code",
      "source": [
        "# Clone pyrender to get some sample models\n",
        "!git clone https://github.com/mmatl/pyrender.git"
      ],
      "execution_count": 2,
      "outputs": [
        {
          "output_type": "stream",
          "text": [
            "Cloning into 'pyrender'...\n",
            "remote: Enumerating objects: 60, done.\u001b[K\n",
            "remote: Counting objects:   1% (1/60)   \u001b[K\rremote: Counting objects:   3% (2/60)   \u001b[K\rremote: Counting objects:   5% (3/60)   \u001b[K\rremote: Counting objects:   6% (4/60)   \u001b[K\rremote: Counting objects:   8% (5/60)   \u001b[K\rremote: Counting objects:  10% (6/60)   \u001b[K\rremote: Counting objects:  11% (7/60)   \u001b[K\rremote: Counting objects:  13% (8/60)   \u001b[K\rremote: Counting objects:  15% (9/60)   \u001b[K\rremote: Counting objects:  16% (10/60)   \u001b[K\rremote: Counting objects:  18% (11/60)   \u001b[K\rremote: Counting objects:  20% (12/60)   \u001b[K\rremote: Counting objects:  21% (13/60)   \u001b[K\rremote: Counting objects:  23% (14/60)   \u001b[K\rremote: Counting objects:  25% (15/60)   \u001b[K\rremote: Counting objects:  26% (16/60)   \u001b[K\rremote: Counting objects:  28% (17/60)   \u001b[K\rremote: Counting objects:  30% (18/60)   \u001b[K\rremote: Counting objects:  31% (19/60)   \u001b[K\rremote: Counting objects:  33% (20/60)   \u001b[K\rremote: Counting objects:  35% (21/60)   \u001b[K\rremote: Counting objects:  36% (22/60)   \u001b[K\rremote: Counting objects:  38% (23/60)   \u001b[K\rremote: Counting objects:  40% (24/60)   \u001b[K\rremote: Counting objects:  41% (25/60)   \u001b[K\rremote: Counting objects:  43% (26/60)   \u001b[K\rremote: Counting objects:  45% (27/60)   \u001b[K\rremote: Counting objects:  46% (28/60)   \u001b[K\rremote: Counting objects:  48% (29/60)   \u001b[K\rremote: Counting objects:  50% (30/60)   \u001b[K\rremote: Counting objects:  51% (31/60)   \u001b[K\rremote: Counting objects:  53% (32/60)   \u001b[K\rremote: Counting objects:  55% (33/60)   \u001b[K\rremote: Counting objects:  56% (34/60)   \u001b[K\rremote: Counting objects:  58% (35/60)   \u001b[K\rremote: Counting objects:  60% (36/60)   \u001b[K\rremote: Counting objects:  61% (37/60)   \u001b[K\rremote: Counting objects:  63% (38/60)   \u001b[K\rremote: Counting objects:  65% (39/60)   \u001b[K\rremote: Counting objects:  66% (40/60)   \u001b[K\rremote: Counting objects:  68% (41/60)   \u001b[K\rremote: Counting objects:  70% (42/60)   \u001b[K\rremote: Counting objects:  71% (43/60)   \u001b[K\rremote: Counting objects:  73% (44/60)   \u001b[K\rremote: Counting objects:  75% (45/60)   \u001b[K\rremote: Counting objects:  76% (46/60)   \u001b[K\rremote: Counting objects:  78% (47/60)   \u001b[K\rremote: Counting objects:  80% (48/60)   \u001b[K\rremote: Counting objects:  81% (49/60)   \u001b[K\rremote: Counting objects:  83% (50/60)   \u001b[K\rremote: Counting objects:  85% (51/60)   \u001b[K\rremote: Counting objects:  86% (52/60)   \u001b[K\rremote: Counting objects:  88% (53/60)   \u001b[K\rremote: Counting objects:  90% (54/60)   \u001b[K\rremote: Counting objects:  91% (55/60)   \u001b[K\rremote: Counting objects:  93% (56/60)   \u001b[K\rremote: Counting objects:  95% (57/60)   \u001b[K\rremote: Counting objects:  96% (58/60)   \u001b[K\rremote: Counting objects:  98% (59/60)   \u001b[K\rremote: Counting objects: 100% (60/60)   \u001b[K\rremote: Counting objects: 100% (60/60), done.\u001b[K\n",
            "remote: Compressing objects: 100% (37/37), done.\u001b[K\n",
            "remote: Total 768 (delta 26), reused 46 (delta 16), pack-reused 708\u001b[K\n",
            "Receiving objects: 100% (768/768), 28.18 MiB | 37.97 MiB/s, done.\n",
            "Resolving deltas: 100% (413/413), done.\n"
          ],
          "name": "stdout"
        }
      ]
    },
    {
      "metadata": {
        "id": "KR22a3AzRP-y",
        "colab_type": "code",
        "outputId": "3055f017-58ad-4d4b-c48f-b0203be5d2d6",
        "colab": {
          "base_uri": "https://localhost:8080/",
          "height": 308
        }
      },
      "cell_type": "code",
      "source": [
        "# Render offscreen -- make sure to set the PyOpenGL platform\n",
        "import os\n",
        "os.environ[\"PYOPENGL_PLATFORM\"] = \"egl\"\n",
        "import numpy as np\n",
        "import trimesh\n",
        "import pyrender\n",
        "\n",
        "# Load the FUZE bottle trimesh and put it in a scene\n",
        "fuze_trimesh = trimesh.load('pyrender/examples/models/fuze.obj')\n",
        "mesh = pyrender.Mesh.from_trimesh(fuze_trimesh)\n",
        "scene = pyrender.Scene()\n",
        "scene.add(mesh)\n",
        "\n",
        "# Set up the camera -- z-axis away from the scene, x-axis right, y-axis up\n",
        "camera = pyrender.PerspectiveCamera(yfov=np.pi / 3.0)\n",
        "s = np.sqrt(2)/2\n",
        "camera_pose = np.array([\n",
        "       [0.0, -s,   s,   0.3],\n",
        "       [1.0,  0.0, 0.0, 0.0],\n",
        "       [0.0,  s,   s,   0.35],\n",
        "       [0.0,  0.0, 0.0, 1.0],\n",
        "    ])\n",
        "scene.add(camera, pose=camera_pose)\n",
        "\n",
        "# Set up the light -- a single spot light in the same spot as the camera\n",
        "light = pyrender.SpotLight(color=np.ones(3), intensity=3.0,\n",
        "                               innerConeAngle=np.pi/16.0)\n",
        "scene.add(light, pose=camera_pose)\n",
        "\n",
        "# Render the scene\n",
        "r = pyrender.OffscreenRenderer(640, 480)\n",
        "color, depth = r.render(scene)\n",
        "\n",
        "# Show the images\n",
        "import matplotlib.pyplot as plt\n",
        "plt.figure(num=None, figsize=(12, 12), dpi=80, facecolor='w', edgecolor='k')\n",
        "plt.subplot(1,2,1)\n",
        "plt.axis('off')\n",
        "plt.imshow(color)\n",
        "plt.subplot(1,2,2)\n",
        "plt.axis('off')\n",
        "plt.imshow(depth, cmap=plt.cm.gray_r)\n",
        "plt.show()"
      ],
      "execution_count": 3,
      "outputs": [
        {
          "output_type": "display_data",
          "data": {
            "image/png": "[encoded data removed]",
            "text/plain": [
              "<Figure size 960x960 with 2 Axes>"
            ]
          },
          "metadata": {
            "tags": []
          }
        }
      ]
    },
    {
      "metadata": {
        "id": "atdyLEHBfYw_",
        "colab_type": "code",
        "outputId": "80f66e6e-b2ce-4964-8ae1-a6954a8df23f",
        "colab": {
          "base_uri": "https://localhost:8080/",
          "height": 136
        }
      },
      "cell_type": "code",
      "source": [
        "depth"
      ],
      "execution_count": 4,
      "outputs": [
        {
          "output_type": "execute_result",
          "data": {
            "text/plain": [
              "array([[0., 0., 0., ..., 0., 0., 0.],\n",
              "       [0., 0., 0., ..., 0., 0., 0.],\n",
              "       [0., 0., 0., ..., 0., 0., 0.],\n",
              "       ...,\n",
              "       [0., 0., 0., ..., 0., 0., 0.],\n",
              "       [0., 0., 0., ..., 0., 0., 0.],\n",
              "       [0., 0., 0., ..., 0., 0., 0.]], dtype=float32)"
            ]
          },
          "metadata": {
            "tags": []
          },
          "execution_count": 4
        }
      ]
    },
    {
      "metadata": {
        "id": "ryNr02GBYGvu",
        "colab_type": "code",
        "colab": {}
      },
      "cell_type": "code",
      "source": [
        ""
      ],
      "execution_count": 0,
      "outputs": []
    }
  ]
}