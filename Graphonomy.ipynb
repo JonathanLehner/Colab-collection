{
  "nbformat": 4,
  "nbformat_minor": 0,
  "metadata": {
    "colab": {
      "name": "Graphonomy.ipynb",
      "version": "0.3.2",
      "provenance": [],
      "collapsed_sections": [],
      "include_colab_link": true
    },
    "kernelspec": {
      "name": "python3",
      "display_name": "Python 3"
    },
    "accelerator": "GPU"
  },
  "cells": [
    {
      "cell_type": "markdown",
      "metadata": {
        "id": "view-in-github",
        "colab_type": "text"
      },
      "source": [
        "<a href=\"https://colab.research.google.com/github/JonathanLehner/Colab-collection/blob/master/Graphonomy.ipynb\" target=\"_parent\"><img src=\"https://colab.research.google.com/assets/colab-badge.svg\" alt=\"Open In Colab\"/></a>"
      ]
    },
    {
      "cell_type": "code",
      "metadata": {
        "id": "MQQKL2l1RKo4",
        "colab_type": "code",
        "colab": {}
      },
      "source": [
        ""
      ],
      "execution_count": 0,
      "outputs": []
    },
    {
      "cell_type": "code",
      "metadata": {
        "id": "k_SeMU33RMxK",
        "colab_type": "code",
        "colab": {}
      },
      "source": [
        ""
      ],
      "execution_count": 0,
      "outputs": []
    },
    {
      "cell_type": "markdown",
      "metadata": {
        "id": "5YQtmMoARM6-",
        "colab_type": "text"
      },
      "source": [
        "https://github.com/Gaoyiminggithub/Graphonomy"
      ]
    },
    {
      "cell_type": "code",
      "metadata": {
        "id": "Fg9EHsnoSL0c",
        "colab_type": "code",
        "colab": {
          "base_uri": "https://localhost:8080/",
          "height": 122
        },
        "outputId": "90972e6b-5b1f-4e29-a7c9-0bbe79341cfe"
      },
      "source": [
        "#https://stackoverflow.com/questions/53417976/import-data-from-shared-google-drive-into-google-colaboratory\n",
        "#Click on the folder and then click on an option that says \"Add to My Drive.\" The shared folder should now be visible in Google Colab.\n",
        "\n",
        "# connect to google drive, need to copy auth code from new page\n",
        "from google.colab import drive\n",
        "# gdrive not working somehow\n",
        "drive.mount('/content/gdrive')"
      ],
      "execution_count": 1,
      "outputs": [
        {
          "output_type": "stream",
          "text": [
            "Go to this URL in a browser: https://accounts.google.com/o/oauth2/auth?client_id=947318989803-6bn6qk8qdgf4n4g3pfee6491hc0brc4i.apps.googleusercontent.com&redirect_uri=urn%3Aietf%3Awg%3Aoauth%3A2.0%3Aoob&scope=email%20https%3A%2F%2Fwww.googleapis.com%2Fauth%2Fdocs.test%20https%3A%2F%2Fwww.googleapis.com%2Fauth%2Fdrive%20https%3A%2F%2Fwww.googleapis.com%2Fauth%2Fdrive.photos.readonly%20https%3A%2F%2Fwww.googleapis.com%2Fauth%2Fpeopleapi.readonly&response_type=code\n",
            "\n",
            "Enter your authorization code:\n",
            "··········\n",
            "Mounted at /content/gdrive\n"
          ],
          "name": "stdout"
        }
      ]
    },
    {
      "cell_type": "code",
      "metadata": {
        "id": "DiqJiVOuRPn3",
        "colab_type": "code",
        "colab": {}
      },
      "source": [
        "# download repo from Github\n",
        "import os\n",
        "from os.path import exists, join, basename\n",
        "\n",
        "project_name = \"Graphonomy\"\n",
        "if not exists(project_name):\n",
        "  # clone\n",
        "  !git clone -q https://github.com/Gaoyiminggithub/Graphonomy.git"
      ],
      "execution_count": 0,
      "outputs": []
    },
    {
      "cell_type": "code",
      "metadata": {
        "id": "cWZH6AhBRdZe",
        "colab_type": "code",
        "colab": {
          "base_uri": "https://localhost:8080/",
          "height": 34
        },
        "outputId": "318a43a2-bc02-4ff5-a47a-23133e5789c1"
      },
      "source": [
        "%cd Graphonomy"
      ],
      "execution_count": 3,
      "outputs": [
        {
          "output_type": "stream",
          "text": [
            "/content/Graphonomy\n"
          ],
          "name": "stdout"
        }
      ]
    },
    {
      "cell_type": "code",
      "metadata": {
        "id": "jWoO03dURgRg",
        "colab_type": "code",
        "colab": {}
      },
      "source": [
        "!pip install -r requirements"
      ],
      "execution_count": 0,
      "outputs": []
    },
    {
      "cell_type": "code",
      "metadata": {
        "id": "qQupy1PERzq2",
        "colab_type": "code",
        "colab": {}
      },
      "source": [
        "cihp_path = '/content/gdrive/My Drive/LIP/CIHP'\n",
        "atr_path = '/content/gdrive/My Drive/LIP/ATR'\n",
        "cihp_flipped_path = '/content/gdrive/My Drive/Category_rev_ids.rar'\n",
        "atr_flipped_path = '/content/gdrive/My Drive/SegmentationClassAug_rev.rar'\n",
        "\n",
        "#pretrained models\n",
        "pascal_pt = '/content/gdrive/My Drive/cihp2pascal.pth'\n",
        "cihp_pt = '/content/gdrive/My Drive/inference.pth'\n",
        "universal_pt = '/content/gdrive/My Drive/universal_trained.pth'\n",
        "!mkdir /content/Graphonomy/data/pretrained_model\n",
        "os.system('cp \"{0}\" /content/Graphonomy/data/pretrained_model/'.format(pascal_pt))\n",
        "os.system('cp \"{0}\" /content/Graphonomy/data/pretrained_model/'.format(cihp_pt))\n",
        "os.system('cp \"{0}\" /content/Graphonomy/data/pretrained_model/'.format(universal_pt))\n",
        "\n",
        "!sudo apt-get install unrar\n",
        "#The datasets (CIHP & ATR) are available at google drive and baidu drive. \n",
        "os.system('cp \"{0}\" /content/Graphonomy/data/datasets/ATR/'.format(atr_path))\n",
        "os.system('cp \"{0}\" /content/Graphonomy/data/datasets/CIHP_4w/'.format(cihp_path))\n",
        "\n",
        "#And you also need to download the label with flipped. \n",
        "\n",
        "#Download cihp_flipped, unzip and store in data/datasets/CIHP_4w/.\n",
        "%cd /content/Graphonomy/data/datasets/CIHP_4w\n",
        "os.system('cp \"{0}\" /content/Graphonomy/data/datasets/CIHP_4w/'.format(cihp_flipped_path))\n",
        "!unrar x Category_rev_ids.rar\n",
        "\n",
        "#Download atr_flip, unzip and store in data/datasets/ATR/.\n",
        "%cd /content/Graphonomy/data/datasets/ATR\n",
        "os.system('cp \"{0}\" /content/Graphonomy/data/datasets/CIHP_4w/'.format(atr_flipped_path))\n",
        "!unrar x SegmentationClassAug_rev.rar\n",
        "\n"
      ],
      "execution_count": 0,
      "outputs": []
    },
    {
      "cell_type": "code",
      "metadata": {
        "id": "Q1MsZHcVT_qB",
        "colab_type": "code",
        "colab": {}
      },
      "source": [
        "#!cp \"/content/gdrive/My Drive/Category_rev_ids.rar\" /content/Graphonomy/data/datasets/CIHP_4w/\n",
        "\n"
      ],
      "execution_count": 0,
      "outputs": []
    },
    {
      "cell_type": "code",
      "metadata": {
        "id": "1gT7V8mLbyEj",
        "colab_type": "code",
        "colab": {
          "base_uri": "https://localhost:8080/",
          "height": 1193
        },
        "outputId": "7b555361-f1e0-4d0e-f620-5d3d8d02251d"
      },
      "source": [
        "# load some sample images\n",
        "%cd /content/Graphonomy/img\n",
        "#too big\n",
        "!wget -O 2190.jpg https://cdn-pics.pornhd.com/pornhd/header/category/2_phd_category_big_anal-porn.jpg\n",
        "#too big\n",
        "!wget -O 5008.jpg http://badmilfs.net/wp-content/uploads/2016/06/badmilfs-porn.jpg\n",
        "#works\n",
        "!wget -O 2008.jpg https://images.nubiles-porn.com/assets/common/images/tubeTourThumbs/147/523/147523/fullSizeCropped_147523.jpg?cacheBust=a0966056\n",
        "\n",
        "#medium size\n",
        "!wget -O 1111.jpg http://www.rushporn.com/screen/videos/images/horny-fucker-fucks-sexy-russian-girls-on-hd-quality-group-porn-1502750300.jpg\n",
        "!wget -O 2222.jpg http://www.rexporn.com/static/tehreesome-squirting-porn.-alexis-fawx-and-her-stepdaughter-brittany-shae.jpg\n",
        "!wget -O 3333.jpg https://www.vidtubeporn.com/fullimage/beautiful-porn-started-in-the-kitchen-and-continued-in-the-crib_1.jpg\n",
        "%cd /content/Graphonomy"
      ],
      "execution_count": 18,
      "outputs": [
        {
          "output_type": "stream",
          "text": [
            "/content/Graphonomy/img\n",
            "--2019-05-05 01:03:56--  https://cdn-pics.pornhd.com/pornhd/header/category/2_phd_category_big_anal-porn.jpg\n",
            "Resolving cdn-pics.pornhd.com (cdn-pics.pornhd.com)... 64.210.147.100, 64.210.147.102, 64.210.147.104\n",
            "Connecting to cdn-pics.pornhd.com (cdn-pics.pornhd.com)|64.210.147.100|:443... connected.\n",
            "HTTP request sent, awaiting response... 200 OK\n",
            "Length: 222592 (217K) [image/jpeg]\n",
            "Saving to: ‘2190.jpg’\n",
            "\n",
            "2190.jpg            100%[===================>] 217.38K  --.-KB/s    in 0.03s   \n",
            "\n",
            "2019-05-05 01:03:56 (7.02 MB/s) - ‘2190.jpg’ saved [222592/222592]\n",
            "\n",
            "--2019-05-05 01:03:57--  http://badmilfs.net/wp-content/uploads/2016/06/badmilfs-porn.jpg\n",
            "Resolving badmilfs.net (badmilfs.net)... 5.149.248.193\n",
            "Connecting to badmilfs.net (badmilfs.net)|5.149.248.193|:80... connected.\n",
            "HTTP request sent, awaiting response... 200 OK\n",
            "Length: 414272 (405K) [image/jpeg]\n",
            "Saving to: ‘5008.jpg’\n",
            "\n",
            "5008.jpg            100%[===================>] 404.56K   507KB/s    in 0.8s    \n",
            "\n",
            "2019-05-05 01:03:58 (507 KB/s) - ‘5008.jpg’ saved [414272/414272]\n",
            "\n",
            "--2019-05-05 01:04:00--  https://images.nubiles-porn.com/assets/common/images/tubeTourThumbs/147/523/147523/fullSizeCropped_147523.jpg?cacheBust=a0966056\n",
            "Resolving images.nubiles-porn.com (images.nubiles-porn.com)... 172.98.95.130\n",
            "Connecting to images.nubiles-porn.com (images.nubiles-porn.com)|172.98.95.130|:443... connected.\n",
            "HTTP request sent, awaiting response... 200 OK\n",
            "Length: 270684 (264K) [image/jpeg]\n",
            "Saving to: ‘2008.jpg’\n",
            "\n",
            "2008.jpg            100%[===================>] 264.34K   676KB/s    in 0.4s    \n",
            "\n",
            "2019-05-05 01:04:00 (676 KB/s) - ‘2008.jpg’ saved [270684/270684]\n",
            "\n",
            "--2019-05-05 01:04:02--  http://www.rushporn.com/screen/videos/images/horny-fucker-fucks-sexy-russian-girls-on-hd-quality-group-porn-1502750300.jpg\n",
            "Resolving www.rushporn.com (www.rushporn.com)... 94.23.72.19, 2001:41d0:d:262d::1c\n",
            "Connecting to www.rushporn.com (www.rushporn.com)|94.23.72.19|:80... connected.\n",
            "HTTP request sent, awaiting response... 200 OK\n",
            "Length: 32536 (32K) [image/jpeg]\n",
            "Saving to: ‘1111.jpg’\n",
            "\n",
            "1111.jpg            100%[===================>]  31.77K  --.-KB/s    in 0.1s    \n",
            "\n",
            "2019-05-05 01:04:02 (308 KB/s) - ‘1111.jpg’ saved [32536/32536]\n",
            "\n",
            "--2019-05-05 01:04:03--  http://www.rexporn.com/static/tehreesome-squirting-porn.-alexis-fawx-and-her-stepdaughter-brittany-shae.jpg\n",
            "Resolving www.rexporn.com (www.rexporn.com)... 95.211.170.233\n",
            "Connecting to www.rexporn.com (www.rexporn.com)|95.211.170.233|:80... connected.\n",
            "HTTP request sent, awaiting response... 200 OK\n",
            "Length: 27318 (27K) [image/jpeg]\n",
            "Saving to: ‘2222.jpg’\n",
            "\n",
            "2222.jpg            100%[===================>]  26.68K  --.-KB/s    in 0.1s    \n",
            "\n",
            "2019-05-05 01:04:04 (257 KB/s) - ‘2222.jpg’ saved [27318/27318]\n",
            "\n",
            "--2019-05-05 01:04:05--  https://www.vidtubeporn.com/fullimage/beautiful-porn-started-in-the-kitchen-and-continued-in-the-crib_1.jpg\n",
            "Resolving www.vidtubeporn.com (www.vidtubeporn.com)... 192.124.249.17\n",
            "Connecting to www.vidtubeporn.com (www.vidtubeporn.com)|192.124.249.17|:443... connected.\n",
            "HTTP request sent, awaiting response... 200 OK\n",
            "Length: 27745 (27K) [image/jpeg]\n",
            "Saving to: ‘3333.jpg’\n",
            "\n",
            "3333.jpg            100%[===================>]  27.09K  --.-KB/s    in 0.01s   \n",
            "\n",
            "2019-05-05 01:04:05 (2.48 MB/s) - ‘3333.jpg’ saved [27745/27745]\n",
            "\n",
            "/content/Graphonomy\n"
          ],
          "name": "stdout"
        }
      ]
    },
    {
      "cell_type": "code",
      "metadata": {
        "id": "bC9hWmUgYxAo",
        "colab_type": "code",
        "colab": {
          "base_uri": "https://localhost:8080/",
          "height": 207
        },
        "outputId": "45b4cb5a-b791-4a38-de4d-384d838811f5"
      },
      "source": [
        "import torch\n",
        "torch.cuda.empty_cache()\n",
        "\n",
        "# We provide a simply script to get the visualization result on the CIHP dataset using trained models as follows :\n",
        "# Example of inference\n",
        "%cd /content/Graphonomy\n",
        "!python exp/inference/inference.py  \\\n",
        "--loadmodel ./data/pretrained_model/inference.pth \\\n",
        "--img_path ./img/3333.jpg \\\n",
        "--output_path ./img/ \\\n",
        "--output_name /test.jpg\n",
        "\n"
      ],
      "execution_count": 21,
      "outputs": [
        {
          "output_type": "stream",
          "text": [
            "/content/Graphonomy\n",
            "Constructing DeepLabv3+ model...\n",
            "Number of classes: 20\n",
            "Output stride: 16\n",
            "Number of Input Channels: 3\n",
            "missing keys in state_dict: \"{'xception_features.block17.rep.3.pointwise_bn.num_batches_tracked', 'decoder.1.atrous_convolution.pointwise_bn.num_batches_tracked', 'xception_features.block6.rep.5.depthwise_bn.num_batches_tracked', 'aspp4.atrous_convolution.pointwise_bn.num_batches_tracked', 'xception_features.block4.rep.1.pointwise_bn.num_batches_tracked', 'xception_features.block6.rep.1.pointwise_bn.num_batches_tracked', 'xception_features.block14.rep.1.pointwise_bn.num_batches_tracked', 'aspp3.atrous_convolution.depthwise_bn.num_batches_tracked', 'xception_features.block6.rep.3.pointwise_bn.num_batches_tracked', 'xception_features.block4.rep.1.depthwise_bn.num_batches_tracked', 'xception_features.block1.rep.2.depthwise_bn.num_batches_tracked', 'xception_features.block9.rep.1.pointwise_bn.num_batches_tracked', 'aspp3.atrous_convolution.pointwise_bn.num_batches_tracked', 'xception_features.block15.rep.3.depthwise_bn.num_batches_tracked', 'xception_features.conv4.pointwise_bn.num_batches_tracked', 'xception_features.block5.rep.1.depthwise_bn.num_batches_tracked', 'xception_features.block5.rep.3.depthwise_bn.num_batches_tracked', 'xception_features.block17.rep.5.depthwise_bn.num_batches_tracked', 'xception_features.block10.rep.5.pointwise_bn.num_batches_tracked', 'xception_features.block3.rep.1.depthwise_bn.num_batches_tracked', 'xception_features.block17.rep.1.pointwise_bn.num_batches_tracked', 'xception_features.block18.rep.5.pointwise_bn.num_batches_tracked', 'concat_projection_bn1.num_batches_tracked', 'xception_features.block9.rep.1.depthwise_bn.num_batches_tracked', 'xception_features.block20.rep.1.depthwise_bn.num_batches_tracked', 'xception_features.block7.rep.5.pointwise_bn.num_batches_tracked', 'xception_features.block10.rep.1.depthwise_bn.num_batches_tracked', 'xception_features.block1.rep.0.depthwise_bn.num_batches_tracked', 'aspp4.atrous_convolution.depthwise_bn.num_batches_tracked', 'xception_features.block12.rep.3.pointwise_bn.num_batches_tracked', 'xception_features.block19.rep.3.depthwise_bn.num_batches_tracked', 'xception_features.conv4.depthwise_bn.num_batches_tracked', 'xception_features.block18.rep.1.pointwise_bn.num_batches_tracked', 'xception_features.block5.rep.1.pointwise_bn.num_batches_tracked', 'xception_features.block15.rep.1.depthwise_bn.num_batches_tracked', 'xception_features.block8.rep.3.depthwise_bn.num_batches_tracked', 'xception_features.block8.rep.1.pointwise_bn.num_batches_tracked', 'xception_features.block18.rep.1.depthwise_bn.num_batches_tracked', 'xception_features.block8.rep.1.depthwise_bn.num_batches_tracked', 'xception_features.block18.rep.3.pointwise_bn.num_batches_tracked', 'xception_features.block14.rep.3.depthwise_bn.num_batches_tracked', 'xception_features.block15.rep.5.depthwise_bn.num_batches_tracked', 'xception_features.block19.rep.1.depthwise_bn.num_batches_tracked', 'xception_features.block18.rep.3.depthwise_bn.num_batches_tracked', 'xception_features.block2.rep.1.depthwise_bn.num_batches_tracked', 'xception_features.block17.rep.1.depthwise_bn.num_batches_tracked', 'xception_features.block10.rep.3.pointwise_bn.num_batches_tracked', 'xception_features.block19.rep.1.pointwise_bn.num_batches_tracked', 'xception_features.block11.rep.5.depthwise_bn.num_batches_tracked', 'xception_features.block3.rep.5.depthwise_bn.num_batches_tracked', 'aspp2.atrous_convolution.pointwise_bn.num_batches_tracked', 'xception_features.block20.skipbn.num_batches_tracked', 'xception_features.block14.rep.3.pointwise_bn.num_batches_tracked', 'xception_features.block4.rep.5.depthwise_bn.num_batches_tracked', 'xception_features.bn2.num_batches_tracked', 'xception_features.block4.rep.3.pointwise_bn.num_batches_tracked', 'xception_features.block14.rep.1.depthwise_bn.num_batches_tracked', 'xception_features.block3.rep.3.pointwise_bn.num_batches_tracked', 'xception_features.block11.rep.1.pointwise_bn.num_batches_tracked', 'xception_features.block7.rep.3.pointwise_bn.num_batches_tracked', 'xception_features.block1.rep.0.pointwise_bn.num_batches_tracked', 'xception_features.block13.rep.1.depthwise_bn.num_batches_tracked', 'xception_features.block15.rep.3.pointwise_bn.num_batches_tracked', 'xception_features.block9.rep.5.pointwise_bn.num_batches_tracked', 'xception_features.block20.rep.3.depthwise_bn.num_batches_tracked', 'xception_features.block9.rep.3.depthwise_bn.num_batches_tracked', 'xception_features.block13.rep.1.pointwise_bn.num_batches_tracked', 'xception_features.block8.rep.5.pointwise_bn.num_batches_tracked', 'xception_features.block12.rep.5.depthwise_bn.num_batches_tracked', 'xception_features.block12.rep.5.pointwise_bn.num_batches_tracked', 'decoder.1.atrous_convolution.depthwise_bn.num_batches_tracked', 'xception_features.conv5.depthwise_bn.num_batches_tracked', 'decoder.0.atrous_convolution.depthwise_bn.num_batches_tracked', 'xception_features.block12.rep.3.depthwise_bn.num_batches_tracked', 'feature_projection_bn1.num_batches_tracked', 'xception_features.block12.rep.1.depthwise_bn.num_batches_tracked', 'xception_features.block16.rep.1.depthwise_bn.num_batches_tracked', 'xception_features.block6.rep.1.depthwise_bn.num_batches_tracked', 'xception_features.block2.block2_lastconv.1.pointwise_bn.num_batches_tracked', 'global_avg_pool.2.num_batches_tracked', 'xception_features.bn1.num_batches_tracked', 'xception_features.block7.rep.1.depthwise_bn.num_batches_tracked', 'xception_features.block9.rep.3.pointwise_bn.num_batches_tracked', 'xception_features.block11.rep.5.pointwise_bn.num_batches_tracked', 'xception_features.block6.rep.3.depthwise_bn.num_batches_tracked', 'xception_features.block13.rep.5.pointwise_bn.num_batches_tracked', 'xception_features.block3.rep.5.pointwise_bn.num_batches_tracked', 'xception_features.conv3.depthwise_bn.num_batches_tracked', 'xception_features.block16.rep.1.pointwise_bn.num_batches_tracked', 'xception_features.block11.rep.1.depthwise_bn.num_batches_tracked', 'xception_features.block1.skipbn.num_batches_tracked', 'xception_features.block1.rep.4.depthwise_bn.num_batches_tracked', 'xception_features.block2.skipbn.num_batches_tracked', 'xception_features.block20.rep.3.pointwise_bn.num_batches_tracked', 'xception_features.block11.rep.3.pointwise_bn.num_batches_tracked', 'xception_features.block7.rep.3.depthwise_bn.num_batches_tracked', 'xception_features.block14.rep.5.pointwise_bn.num_batches_tracked', 'xception_features.block7.rep.5.depthwise_bn.num_batches_tracked', 'xception_features.conv3.pointwise_bn.num_batches_tracked', 'xception_features.block20.rep.5.depthwise_bn.num_batches_tracked', 'xception_features.block14.rep.5.depthwise_bn.num_batches_tracked', 'xception_features.block7.rep.1.pointwise_bn.num_batches_tracked', 'xception_features.block1.rep.2.pointwise_bn.num_batches_tracked', 'xception_features.block16.rep.5.depthwise_bn.num_batches_tracked', 'xception_features.block10.rep.3.depthwise_bn.num_batches_tracked', 'xception_features.block1.rep.4.pointwise_bn.num_batches_tracked', 'xception_features.block2.rep.3.depthwise_bn.num_batches_tracked', 'xception_features.block10.rep.5.depthwise_bn.num_batches_tracked', 'xception_features.block18.rep.5.depthwise_bn.num_batches_tracked', 'xception_features.block15.rep.1.pointwise_bn.num_batches_tracked', 'xception_features.block2.block2_lastconv.1.depthwise_bn.num_batches_tracked', 'xception_features.block3.rep.3.depthwise_bn.num_batches_tracked', 'xception_features.block4.rep.3.depthwise_bn.num_batches_tracked', 'xception_features.block6.rep.5.pointwise_bn.num_batches_tracked', 'xception_features.block15.rep.5.pointwise_bn.num_batches_tracked', 'aspp2.atrous_convolution.depthwise_bn.num_batches_tracked', 'xception_features.block5.rep.5.depthwise_bn.num_batches_tracked', 'xception_features.block10.rep.1.pointwise_bn.num_batches_tracked', 'xception_features.block20.rep.1.pointwise_bn.num_batches_tracked', 'xception_features.block17.rep.5.pointwise_bn.num_batches_tracked', 'xception_features.conv5.pointwise_bn.num_batches_tracked', 'xception_features.block3.rep.1.pointwise_bn.num_batches_tracked', 'xception_features.block3.skipbn.num_batches_tracked', 'xception_features.block16.rep.3.depthwise_bn.num_batches_tracked', 'xception_features.block20.rep.5.pointwise_bn.num_batches_tracked', 'xception_features.block16.rep.5.pointwise_bn.num_batches_tracked', 'xception_features.block9.rep.5.depthwise_bn.num_batches_tracked', 'xception_features.block12.rep.1.pointwise_bn.num_batches_tracked', 'aspp1.bn.num_batches_tracked', 'xception_features.block19.rep.3.pointwise_bn.num_batches_tracked', 'xception_features.block2.rep.3.pointwise_bn.num_batches_tracked', 'xception_features.block8.rep.3.pointwise_bn.num_batches_tracked', 'xception_features.block19.rep.5.pointwise_bn.num_batches_tracked', 'xception_features.block5.rep.3.pointwise_bn.num_batches_tracked', 'xception_features.block13.rep.3.pointwise_bn.num_batches_tracked', 'xception_features.block4.rep.5.pointwise_bn.num_batches_tracked', 'xception_features.block2.rep.1.pointwise_bn.num_batches_tracked', 'xception_features.block13.rep.5.depthwise_bn.num_batches_tracked', 'xception_features.block16.rep.3.pointwise_bn.num_batches_tracked', 'xception_features.block13.rep.3.depthwise_bn.num_batches_tracked', 'decoder.0.atrous_convolution.pointwise_bn.num_batches_tracked', 'xception_features.block11.rep.3.depthwise_bn.num_batches_tracked', 'xception_features.block19.rep.5.depthwise_bn.num_batches_tracked', 'xception_features.block5.rep.5.pointwise_bn.num_batches_tracked', 'xception_features.block17.rep.3.depthwise_bn.num_batches_tracked', 'xception_features.block8.rep.5.depthwise_bn.num_batches_tracked'}\"\n",
            "load model: ./data/pretrained_model/inference.pth\n",
            "/usr/local/lib/python3.6/dist-packages/torch/nn/functional.py:2457: UserWarning: nn.functional.upsample is deprecated. Use nn.functional.interpolate instead.\n",
            "  warnings.warn(\"nn.functional.upsample is deprecated. Use nn.functional.interpolate instead.\")\n",
            "time used for the multi-scale image inference is :1.1886482540000998\n"
          ],
          "name": "stdout"
        }
      ]
    },
    {
      "cell_type": "code",
      "metadata": {
        "id": "fsqjFNbDcasU",
        "colab_type": "code",
        "colab": {
          "base_uri": "https://localhost:8080/",
          "height": 545
        },
        "outputId": "55ff3044-709f-4e9e-e56d-a4dccaa11308"
      },
      "source": [
        "!ps\n",
        "!kill 8644"
      ],
      "execution_count": 8,
      "outputs": [
        {
          "output_type": "stream",
          "text": [
            "    PID TTY          TIME CMD\n",
            "      1 ?        00:00:00 run.sh\n",
            "      6 ?        00:00:00 node\n",
            "     26 ?        00:00:01 node\n",
            "     36 ?        00:00:01 jupyter-noteboo\n",
            "    124 ?        00:00:00 tail\n",
            "    135 ?        00:00:06 python3\n",
            "    177 ?        00:00:00 drive\n",
            "    245 ?        00:00:07 drive\n",
            "    257 ?        00:00:00 fusermount <defunct>\n",
            "    301 ?        00:00:00 tail\n",
            "    302 ?        00:00:00 grep\n",
            "    401 ?        00:00:00 ps\n"
          ],
          "name": "stdout"
        },
        {
          "output_type": "error",
          "ename": "KeyboardInterrupt",
          "evalue": "ignored",
          "traceback": [
            "\u001b[0;31m---------------------------------------------------------------------------\u001b[0m",
            "\u001b[0;31mKeyboardInterrupt\u001b[0m                         Traceback (most recent call last)",
            "\u001b[0;32m<ipython-input-8-27846af99448>\u001b[0m in \u001b[0;36m<module>\u001b[0;34m()\u001b[0m\n\u001b[0;32m----> 1\u001b[0;31m \u001b[0mget_ipython\u001b[0m\u001b[0;34m(\u001b[0m\u001b[0;34m)\u001b[0m\u001b[0;34m.\u001b[0m\u001b[0msystem\u001b[0m\u001b[0;34m(\u001b[0m\u001b[0;34m'ps'\u001b[0m\u001b[0;34m)\u001b[0m\u001b[0;34m\u001b[0m\u001b[0;34m\u001b[0m\u001b[0m\n\u001b[0m\u001b[1;32m      2\u001b[0m \u001b[0mget_ipython\u001b[0m\u001b[0;34m(\u001b[0m\u001b[0;34m)\u001b[0m\u001b[0;34m.\u001b[0m\u001b[0msystem\u001b[0m\u001b[0;34m(\u001b[0m\u001b[0;34m'kill 8644'\u001b[0m\u001b[0;34m)\u001b[0m\u001b[0;34m\u001b[0m\u001b[0;34m\u001b[0m\u001b[0m\n",
            "\u001b[0;32m/usr/local/lib/python3.6/dist-packages/google/colab/_shell.py\u001b[0m in \u001b[0;36msystem\u001b[0;34m(self, *args, **kwargs)\u001b[0m\n\u001b[1;32m     71\u001b[0m       \u001b[0mkwargs\u001b[0m\u001b[0;34m.\u001b[0m\u001b[0mupdate\u001b[0m\u001b[0;34m(\u001b[0m\u001b[0;34m{\u001b[0m\u001b[0;34m'also_return_output'\u001b[0m\u001b[0;34m:\u001b[0m \u001b[0;32mTrue\u001b[0m\u001b[0;34m}\u001b[0m\u001b[0;34m)\u001b[0m\u001b[0;34m\u001b[0m\u001b[0;34m\u001b[0m\u001b[0m\n\u001b[1;32m     72\u001b[0m \u001b[0;34m\u001b[0m\u001b[0m\n\u001b[0;32m---> 73\u001b[0;31m     \u001b[0moutput\u001b[0m \u001b[0;34m=\u001b[0m \u001b[0m_system_commands\u001b[0m\u001b[0;34m.\u001b[0m\u001b[0m_system_compat\u001b[0m\u001b[0;34m(\u001b[0m\u001b[0mself\u001b[0m\u001b[0;34m,\u001b[0m \u001b[0;34m*\u001b[0m\u001b[0margs\u001b[0m\u001b[0;34m,\u001b[0m \u001b[0;34m**\u001b[0m\u001b[0mkwargs\u001b[0m\u001b[0;34m)\u001b[0m  \u001b[0;31m# pylint:disable=protected-access\u001b[0m\u001b[0;34m\u001b[0m\u001b[0;34m\u001b[0m\u001b[0m\n\u001b[0m\u001b[1;32m     74\u001b[0m \u001b[0;34m\u001b[0m\u001b[0m\n\u001b[1;32m     75\u001b[0m     \u001b[0;32mif\u001b[0m \u001b[0mpip_warn\u001b[0m\u001b[0;34m:\u001b[0m\u001b[0;34m\u001b[0m\u001b[0;34m\u001b[0m\u001b[0m\n",
            "\u001b[0;32m/usr/local/lib/python3.6/dist-packages/google/colab/_system_commands.py\u001b[0m in \u001b[0;36m_system_compat\u001b[0;34m(shell, cmd, also_return_output)\u001b[0m\n\u001b[1;32m    436\u001b[0m   \u001b[0;31m# stack.\u001b[0m\u001b[0;34m\u001b[0m\u001b[0;34m\u001b[0m\u001b[0;34m\u001b[0m\u001b[0m\n\u001b[1;32m    437\u001b[0m   result = _run_command(\n\u001b[0;32m--> 438\u001b[0;31m       shell.var_expand(cmd, depth=2), clear_streamed_output=False)\n\u001b[0m\u001b[1;32m    439\u001b[0m   \u001b[0mshell\u001b[0m\u001b[0;34m.\u001b[0m\u001b[0muser_ns\u001b[0m\u001b[0;34m[\u001b[0m\u001b[0;34m'_exit_code'\u001b[0m\u001b[0;34m]\u001b[0m \u001b[0;34m=\u001b[0m \u001b[0mresult\u001b[0m\u001b[0;34m.\u001b[0m\u001b[0mreturncode\u001b[0m\u001b[0;34m\u001b[0m\u001b[0;34m\u001b[0m\u001b[0m\n\u001b[1;32m    440\u001b[0m   \u001b[0;32mif\u001b[0m \u001b[0;34m-\u001b[0m\u001b[0mresult\u001b[0m\u001b[0;34m.\u001b[0m\u001b[0mreturncode\u001b[0m \u001b[0;32min\u001b[0m \u001b[0m_INTERRUPTED_SIGNALS\u001b[0m\u001b[0;34m:\u001b[0m\u001b[0;34m\u001b[0m\u001b[0;34m\u001b[0m\u001b[0m\n",
            "\u001b[0;32m/usr/local/lib/python3.6/dist-packages/google/colab/_system_commands.py\u001b[0m in \u001b[0;36m_run_command\u001b[0;34m(cmd, clear_streamed_output)\u001b[0m\n\u001b[1;32m    193\u001b[0m       \u001b[0mos\u001b[0m\u001b[0;34m.\u001b[0m\u001b[0mclose\u001b[0m\u001b[0;34m(\u001b[0m\u001b[0mchild_pty\u001b[0m\u001b[0;34m)\u001b[0m\u001b[0;34m\u001b[0m\u001b[0;34m\u001b[0m\u001b[0m\n\u001b[1;32m    194\u001b[0m \u001b[0;34m\u001b[0m\u001b[0m\n\u001b[0;32m--> 195\u001b[0;31m       \u001b[0;32mreturn\u001b[0m \u001b[0m_monitor_process\u001b[0m\u001b[0;34m(\u001b[0m\u001b[0mparent_pty\u001b[0m\u001b[0;34m,\u001b[0m \u001b[0mepoll\u001b[0m\u001b[0;34m,\u001b[0m \u001b[0mp\u001b[0m\u001b[0;34m,\u001b[0m \u001b[0mcmd\u001b[0m\u001b[0;34m,\u001b[0m \u001b[0mupdate_stdin_widget\u001b[0m\u001b[0;34m)\u001b[0m\u001b[0;34m\u001b[0m\u001b[0;34m\u001b[0m\u001b[0m\n\u001b[0m\u001b[1;32m    196\u001b[0m   \u001b[0;32mfinally\u001b[0m\u001b[0;34m:\u001b[0m\u001b[0;34m\u001b[0m\u001b[0;34m\u001b[0m\u001b[0m\n\u001b[1;32m    197\u001b[0m     \u001b[0mepoll\u001b[0m\u001b[0;34m.\u001b[0m\u001b[0mclose\u001b[0m\u001b[0;34m(\u001b[0m\u001b[0;34m)\u001b[0m\u001b[0;34m\u001b[0m\u001b[0;34m\u001b[0m\u001b[0m\n",
            "\u001b[0;32m/usr/lib/python3.6/contextlib.py\u001b[0m in \u001b[0;36m__exit__\u001b[0;34m(self, type, value, traceback)\u001b[0m\n\u001b[1;32m     86\u001b[0m         \u001b[0;32mif\u001b[0m \u001b[0mtype\u001b[0m \u001b[0;32mis\u001b[0m \u001b[0;32mNone\u001b[0m\u001b[0;34m:\u001b[0m\u001b[0;34m\u001b[0m\u001b[0;34m\u001b[0m\u001b[0m\n\u001b[1;32m     87\u001b[0m             \u001b[0;32mtry\u001b[0m\u001b[0;34m:\u001b[0m\u001b[0;34m\u001b[0m\u001b[0;34m\u001b[0m\u001b[0m\n\u001b[0;32m---> 88\u001b[0;31m                 \u001b[0mnext\u001b[0m\u001b[0;34m(\u001b[0m\u001b[0mself\u001b[0m\u001b[0;34m.\u001b[0m\u001b[0mgen\u001b[0m\u001b[0;34m)\u001b[0m\u001b[0;34m\u001b[0m\u001b[0;34m\u001b[0m\u001b[0m\n\u001b[0m\u001b[1;32m     89\u001b[0m             \u001b[0;32mexcept\u001b[0m \u001b[0mStopIteration\u001b[0m\u001b[0;34m:\u001b[0m\u001b[0;34m\u001b[0m\u001b[0;34m\u001b[0m\u001b[0m\n\u001b[1;32m     90\u001b[0m                 \u001b[0;32mreturn\u001b[0m \u001b[0;32mFalse\u001b[0m\u001b[0;34m\u001b[0m\u001b[0;34m\u001b[0m\u001b[0m\n",
            "\u001b[0;32m/usr/local/lib/python3.6/dist-packages/google/colab/_system_commands.py\u001b[0m in \u001b[0;36m_display_stdin_widget\u001b[0;34m(delay_millis)\u001b[0m\n\u001b[1;32m    353\u001b[0m \u001b[0;34m\u001b[0m\u001b[0m\n\u001b[1;32m    354\u001b[0m   \u001b[0mhide_args\u001b[0m \u001b[0;34m=\u001b[0m \u001b[0;34m[\u001b[0m\u001b[0;34m'cell_remove_stdin'\u001b[0m\u001b[0;34m,\u001b[0m \u001b[0;34m{\u001b[0m\u001b[0;34m}\u001b[0m\u001b[0;34m]\u001b[0m\u001b[0;34m\u001b[0m\u001b[0;34m\u001b[0m\u001b[0m\n\u001b[0;32m--> 355\u001b[0;31m   \u001b[0m_message\u001b[0m\u001b[0;34m.\u001b[0m\u001b[0mblocking_request\u001b[0m\u001b[0;34m(\u001b[0m\u001b[0;34m*\u001b[0m\u001b[0mhide_args\u001b[0m\u001b[0;34m,\u001b[0m \u001b[0mparent\u001b[0m\u001b[0;34m=\u001b[0m\u001b[0mshell\u001b[0m\u001b[0;34m.\u001b[0m\u001b[0mparent_header\u001b[0m\u001b[0;34m)\u001b[0m\u001b[0;34m\u001b[0m\u001b[0;34m\u001b[0m\u001b[0m\n\u001b[0m\u001b[1;32m    356\u001b[0m \u001b[0;34m\u001b[0m\u001b[0m\n\u001b[1;32m    357\u001b[0m \u001b[0;34m\u001b[0m\u001b[0m\n",
            "\u001b[0;32m/usr/local/lib/python3.6/dist-packages/google/colab/_message.py\u001b[0m in \u001b[0;36mblocking_request\u001b[0;34m(request_type, request, timeout_sec, parent)\u001b[0m\n\u001b[1;32m    169\u001b[0m   \u001b[0;31m# unique.\u001b[0m\u001b[0;34m\u001b[0m\u001b[0;34m\u001b[0m\u001b[0;34m\u001b[0m\u001b[0m\n\u001b[1;32m    170\u001b[0m   \u001b[0mrequest_id\u001b[0m \u001b[0;34m=\u001b[0m \u001b[0msend_request\u001b[0m\u001b[0;34m(\u001b[0m\u001b[0mrequest_type\u001b[0m\u001b[0;34m,\u001b[0m \u001b[0mrequest\u001b[0m\u001b[0;34m,\u001b[0m \u001b[0mparent\u001b[0m\u001b[0;34m=\u001b[0m\u001b[0mparent\u001b[0m\u001b[0;34m)\u001b[0m\u001b[0;34m\u001b[0m\u001b[0;34m\u001b[0m\u001b[0m\n\u001b[0;32m--> 171\u001b[0;31m   \u001b[0;32mreturn\u001b[0m \u001b[0mread_reply_from_input\u001b[0m\u001b[0;34m(\u001b[0m\u001b[0mrequest_id\u001b[0m\u001b[0;34m,\u001b[0m \u001b[0mtimeout_sec\u001b[0m\u001b[0;34m)\u001b[0m\u001b[0;34m\u001b[0m\u001b[0;34m\u001b[0m\u001b[0m\n\u001b[0m",
            "\u001b[0;32m/usr/local/lib/python3.6/dist-packages/google/colab/_message.py\u001b[0m in \u001b[0;36mread_reply_from_input\u001b[0;34m(message_id, timeout_sec)\u001b[0m\n\u001b[1;32m     99\u001b[0m     \u001b[0mreply\u001b[0m \u001b[0;34m=\u001b[0m \u001b[0m_read_next_input_message\u001b[0m\u001b[0;34m(\u001b[0m\u001b[0;34m)\u001b[0m\u001b[0;34m\u001b[0m\u001b[0;34m\u001b[0m\u001b[0m\n\u001b[1;32m    100\u001b[0m     \u001b[0;32mif\u001b[0m \u001b[0mreply\u001b[0m \u001b[0;34m==\u001b[0m \u001b[0m_NOT_READY\u001b[0m \u001b[0;32mor\u001b[0m \u001b[0;32mnot\u001b[0m \u001b[0misinstance\u001b[0m\u001b[0;34m(\u001b[0m\u001b[0mreply\u001b[0m\u001b[0;34m,\u001b[0m \u001b[0mdict\u001b[0m\u001b[0;34m)\u001b[0m\u001b[0;34m:\u001b[0m\u001b[0;34m\u001b[0m\u001b[0;34m\u001b[0m\u001b[0m\n\u001b[0;32m--> 101\u001b[0;31m       \u001b[0mtime\u001b[0m\u001b[0;34m.\u001b[0m\u001b[0msleep\u001b[0m\u001b[0;34m(\u001b[0m\u001b[0;36m0.025\u001b[0m\u001b[0;34m)\u001b[0m\u001b[0;34m\u001b[0m\u001b[0;34m\u001b[0m\u001b[0m\n\u001b[0m\u001b[1;32m    102\u001b[0m       \u001b[0;32mcontinue\u001b[0m\u001b[0;34m\u001b[0m\u001b[0;34m\u001b[0m\u001b[0m\n\u001b[1;32m    103\u001b[0m     if (reply.get('type') == 'colab_reply' and\n",
            "\u001b[0;31mKeyboardInterrupt\u001b[0m: "
          ]
        }
      ]
    }
  ]
}