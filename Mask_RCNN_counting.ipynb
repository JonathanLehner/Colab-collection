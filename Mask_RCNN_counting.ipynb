{
  "nbformat": 4,
  "nbformat_minor": 0,
  "metadata": {
    "colab": {
      "name": "Mask_RCNN_counting.ipynb",
      "version": "0.3.2",
      "provenance": [],
      "collapsed_sections": [],
      "toc_visible": true,
      "include_colab_link": true
    },
    "kernelspec": {
      "name": "python3",
      "display_name": "Python 3"
    },
    "accelerator": "GPU"
  },
  "cells": [
    {
      "cell_type": "markdown",
      "metadata": {
        "id": "view-in-github",
        "colab_type": "text"
      },
      "source": [
        "<a href=\"https://colab.research.google.com/github/JonathanLehner/Colab-collection/blob/master/Mask_RCNN_counting.ipynb\" target=\"_parent\"><img src=\"https://colab.research.google.com/assets/colab-badge.svg\" alt=\"Open In Colab\"/></a>"
      ]
    },
    {
      "metadata": {
        "id": "AyGKBgaOhfoM",
        "colab_type": "text"
      },
      "cell_type": "markdown",
      "source": [
        "# Mask R-CNN Demo\n",
        "\n",
        "This is a [Mask R-CNN](https://arxiv.org/abs/1703.06870) colab notebook using the open source project [matterport/Mask_RCNN](https://github.com/matterport/Mask_RCNN).\n",
        "\n",
        "Follow this to make your picam stream:\n",
        "https://docs.dataplicity.com/docs/stream-live-video-from-your-pi\n",
        "\n",
        "Our pi is at \n",
        "https://absorptive-heron-4484.dataplicity.io/"
      ]
    },
    {
      "metadata": {
        "id": "3vf5QKv1w2OJ",
        "colab_type": "code",
        "colab": {}
      },
      "cell_type": "code",
      "source": [
        "# define variables\n",
        "import os\n",
        "repository_url = 'https://github.com/JonathanLehner/Colab-collection'\n",
        "repository_name = os.path.basename(repository_url)\n",
        "loader_path = './products.py'\n",
        "\n",
        "products_model = 'https://github.com/JonathanLehner/Colab-collection/releases/download/0.1/mask_rcnn_products_0060.h5'\n",
        "products_model_name = os.path.basename(products_model)\n",
        "products_data_url = 'https://github.com/JonathanLehner/Colab-collection/releases/download/0.1/labeled_training_images3.0.zip'\n",
        "products_filename = os.path.basename(products_data_url)\n",
        "products_filename_wo_ext = 'labeled_training_images'\n",
        "\n",
        "test_category = \"/test_do_not_label\""
      ],
      "execution_count": 0,
      "outputs": []
    },
    {
      "metadata": {
        "id": "hqXhYOb6dF-X",
        "colab_type": "code",
        "colab": {}
      },
      "cell_type": "code",
      "source": [
        "# install Mask RCNN\n",
        "import os\n",
        "from os.path import exists, join, basename\n",
        "\n",
        "project_name = \"Mask_RCNN\"\n",
        "if not exists(project_name):\n",
        "  # clone and install\n",
        "  !git clone -q https://github.com/matterport/Mask_RCNN.git\n",
        "  !cd $project_name && pip install -q -r requirements.txt\n",
        "  \n",
        "import sys\n",
        "sys.path.append(project_name)"
      ],
      "execution_count": 0,
      "outputs": []
    },
    {
      "metadata": {
        "id": "u-HaKIlbjd06",
        "colab_type": "text"
      },
      "cell_type": "markdown",
      "source": [
        "## Download and prepare a pretrained model (trained on COCO) \n",
        "\n",
        "Following code is copied from https://github.com/matterport/Mask_RCNN/blob/master/samples/demo.ipynb and updated for the Colab."
      ]
    },
    {
      "metadata": {
        "id": "jagfx2FRrppx",
        "colab_type": "code",
        "outputId": "be7f831b-a2cc-475b-da78-1ab5d36bdd4e",
        "colab": {
          "base_uri": "https://localhost:8080/",
          "height": 51
        }
      },
      "cell_type": "code",
      "source": [
        "%cd /content/Mask_RCNN/\n",
        "os.system('rm {0}'.format(products_model_name))\n",
        "os.system('wget {0}'.format(products_model))\n",
        "%cd /content/"
      ],
      "execution_count": 16,
      "outputs": [
        {
          "output_type": "stream",
          "text": [
            "/content/Mask_RCNN\n",
            "/content\n"
          ],
          "name": "stdout"
        }
      ]
    },
    {
      "metadata": {
        "id": "kKbYoHVNd5F8",
        "colab_type": "code",
        "colab": {}
      },
      "cell_type": "code",
      "source": [
        "import random\n",
        "import math\n",
        "import time\n",
        "import numpy as np\n",
        "import skimage.io\n",
        "import matplotlib\n",
        "import matplotlib.pyplot as plt\n",
        "plt.rcParams[\"axes.grid\"] = False\n",
        "\n",
        "# Root directory of the project\n",
        "ROOT_DIR = os.path.abspath(project_name)\n",
        "\n",
        "# Import Mask RCNN\n",
        "sys.path.append(ROOT_DIR)  # To find local version of the library\n",
        "from mrcnn import utils\n",
        "import mrcnn.model as modellib\n",
        "from mrcnn import visualize\n",
        "# Import COCO config\n",
        "sys.path.append(os.path.join(ROOT_DIR, \"samples/coco/\"))  # To find local version\n",
        "import coco\n",
        "\n",
        "%matplotlib inline \n",
        "\n",
        "# Directory to save logs and trained model\n",
        "MODEL_DIR = os.path.join(ROOT_DIR, \"logs\")\n",
        "\n",
        "# Local path to trained weights file\n",
        "COCO_MODEL_PATH = os.path.join(ROOT_DIR, \"mask_rcnn_coco.h5\")\n",
        "# Download COCO trained weights from Releases if needed\n",
        "if not os.path.exists(COCO_MODEL_PATH):\n",
        "    utils.download_trained_weights(COCO_MODEL_PATH)\n",
        "    \n",
        "    \n",
        "class InferenceConfig(coco.CocoConfig):\n",
        "    # Set batch size to 1 since we'll be running inference on\n",
        "    # one image at a time. Batch size = GPU_COUNT * IMAGES_PER_GPU\n",
        "    GPU_COUNT = 1\n",
        "    IMAGES_PER_GPU = 1\n",
        "\n",
        "config = InferenceConfig()\n",
        "\n",
        "\n",
        "# Create model object in inference mode.\n",
        "model = modellib.MaskRCNN(mode=\"inference\", model_dir=MODEL_DIR, config=config)\n",
        "\n",
        "# Load weights trained on MS-COCO\n",
        "# https://github.com/matterport/Mask_RCNN/issues/849\n",
        "weights_path = '/content/Mask_RCNN/{0}'.format(products_model_name)\n",
        "\n",
        "\n",
        "\n",
        "\n",
        "# COCO Class names\n",
        "# Index of the class in the list is its ID. For example, to get ID of\n",
        "# the teddy bear class, use: class_names.index('teddy bear')\n",
        "class_names = ['BG', 'balloon', 'asds']"
      ],
      "execution_count": 0,
      "outputs": []
    },
    {
      "metadata": {
        "id": "sHmWpQjXkY_0",
        "colab_type": "text"
      },
      "cell_type": "markdown",
      "source": [
        "## Execute on a test image\n",
        "\n",
        "First, download a test image from the internet:"
      ]
    },
    {
      "metadata": {
        "id": "BK0pDn5GeDI-",
        "colab_type": "code",
        "colab": {
          "base_uri": "https://localhost:8080/",
          "height": 54
        },
        "outputId": "d45085e5-470a-4bf4-fed3-55a7d4dbad55"
      },
      "cell_type": "code",
      "source": [
        "#IMAGE_URL = 'https://i.ebayimg.com/images/g/qvUAAOSwinlbnBMy/s-l640.jpg'\n",
        "#IMAGE_URL = 'https://cdn-images-1.medium.com/max/1600/1*OKE6wyZFfh2f_aZ3rd9BRw.png'\n",
        "'''IMAGE_URL = 'https://github.com/JonathanLehner/Mask_RCNN_trainning/releases/download/0.1/huerlimann480.jpg'\n",
        "\n",
        "image_file = basename(IMAGE_URL)\n",
        "!wget -q -O $image_file $IMAGE_URL\n",
        "image = skimage.io.imread(image_file)\n",
        "plt.figure(figsize=(15, 10))\n",
        "plt.imshow(image)'''"
      ],
      "execution_count": 18,
      "outputs": [
        {
          "output_type": "execute_result",
          "data": {
            "text/plain": [
              "\"IMAGE_URL = 'https://github.com/JonathanLehner/Mask_RCNN_trainning/releases/download/0.1/huerlimann480.jpg'\\n\\nimage_file = basename(IMAGE_URL)\\n!wget -q -O $image_file $IMAGE_URL\\nimage = skimage.io.imread(image_file)\\nplt.figure(figsize=(15, 10))\\nplt.imshow(image)\""
            ]
          },
          "metadata": {
            "tags": []
          },
          "execution_count": 18
        }
      ]
    },
    {
      "metadata": {
        "id": "JYk0zQn0lAHd",
        "colab_type": "text"
      },
      "cell_type": "markdown",
      "source": [
        "Now test Mask RCNN on the downloaded image:"
      ]
    },
    {
      "metadata": {
        "id": "ILY5s9FjerfI",
        "colab_type": "code",
        "colab": {
          "base_uri": "https://localhost:8080/",
          "height": 54
        },
        "outputId": "28ec32e5-5eab-46a3-9140-d078931fa1d4"
      },
      "cell_type": "code",
      "source": [
        "'''t = time.time()\n",
        "# Run detection\n",
        "results = model.detect([image], verbose=1)\n",
        "print(\"executed in %.3fs\" % (time.time() - t))\n",
        "print(results)\n",
        "\n",
        "# Visualize results\n",
        "r = results[0]\n",
        "visualize.display_instances(image, r['rois'], r['masks'], r['class_ids'], \n",
        "                            class_names, r['scores'])'''"
      ],
      "execution_count": 19,
      "outputs": [
        {
          "output_type": "execute_result",
          "data": {
            "text/plain": [
              "'t = time.time()\\n# Run detection\\nresults = model.detect([image], verbose=1)\\nprint(\"executed in %.3fs\" % (time.time() - t))\\nprint(results)\\n\\n# Visualize results\\nr = results[0]\\nvisualize.display_instances(image, r[\\'rois\\'], r[\\'masks\\'], r[\\'class_ids\\'], \\n                            class_names, r[\\'scores\\'])'"
            ]
          },
          "metadata": {
            "tags": []
          },
          "execution_count": 19
        }
      ]
    },
    {
      "metadata": {
        "id": "0n8nJXINQrLH",
        "colab_type": "code",
        "colab": {
          "base_uri": "https://localhost:8080/",
          "height": 54
        },
        "outputId": "fdcea508-bded-4d10-8629-79e027c2253c"
      },
      "cell_type": "code",
      "source": [
        "'''print(r['class_ids'])\n",
        "#print(class_names)\n",
        "\n",
        "import collections\n",
        "class_ids = r['class_ids']\n",
        "counter=collections.Counter(class_ids)\n",
        "print(counter)\n",
        "\n",
        "for key in counter:\n",
        "    print(\"Object: {}, Quantity: {}\".format(class_names[key], counter[key]))\n",
        "'''"
      ],
      "execution_count": 20,
      "outputs": [
        {
          "output_type": "execute_result",
          "data": {
            "text/plain": [
              "'print(r[\\'class_ids\\'])\\n#print(class_names)\\n\\nimport collections\\nclass_ids = r[\\'class_ids\\']\\ncounter=collections.Counter(class_ids)\\nprint(counter)\\n\\nfor key in counter:\\n    print(\"Object: {}, Quantity: {}\".format(class_names[key], counter[key]))\\n'"
            ]
          },
          "metadata": {
            "tags": []
          },
          "execution_count": 20
        }
      ]
    },
    {
      "metadata": {
        "id": "5R0Hq_xyh8lm",
        "colab_type": "code",
        "colab": {
          "base_uri": "https://localhost:8080/",
          "height": 156
        },
        "outputId": "ebbabcb8-848c-4d9d-8655-23911aa69098"
      },
      "cell_type": "code",
      "source": [
        "# Connect to the server\n",
        "!pip install python-meteor\n",
        "from MeteorClient import MeteorClient\n",
        "client = MeteorClient('ws://vps486744.ovh.net:3009/websocket')\n",
        "client.connect()\n",
        "print('connected')"
      ],
      "execution_count": 26,
      "outputs": [
        {
          "output_type": "stream",
          "text": [
            "Requirement already satisfied: python-meteor in /usr/local/lib/python3.6/dist-packages (0.1.6)\n",
            "Requirement already satisfied: python-ddp in /usr/local/lib/python3.6/dist-packages (from python-meteor) (0.1.5)\n",
            "Requirement already satisfied: meteor-ejson in /usr/local/lib/python3.6/dist-packages (from python-ddp->python-meteor) (1.1.0)\n",
            "Requirement already satisfied: pyee in /usr/local/lib/python3.6/dist-packages (from python-ddp->python-meteor) (6.0.0)\n",
            "Requirement already satisfied: ws4py in /usr/local/lib/python3.6/dist-packages (from python-ddp->python-meteor) (0.5.1)\n",
            "Requirement already satisfied: six in /usr/local/lib/python3.6/dist-packages (from meteor-ejson->python-ddp->python-meteor) (1.12.0)\n",
            "connected\n"
          ],
          "name": "stdout"
        }
      ]
    },
    {
      "metadata": {
        "id": "w3aKHYYWkOIf",
        "colab_type": "code",
        "colab": {
          "base_uri": "https://localhost:8080/",
          "height": 34
        },
        "outputId": "432be5b9-e69b-46bd-900c-875421b5e7bf"
      },
      "cell_type": "code",
      "source": [
        "def changed(collection, id, fields, cleared):\n",
        "    print('* CHANGED {} {}'.format(collection, id))\n",
        "    if(collection == \"users\"):\n",
        "        for key, value in fields.items():\n",
        "            if(key == \"profile\"):\n",
        "                profile = value\n",
        "                #print(profile)\n",
        "                basket_content = profile['basket_content']\n",
        "                print(basket_content)\n",
        "                for item in basket_content:\n",
        "                    item_label = item['name']\n",
        "                    item_qty = item['quantity']\n",
        "                    products[item_label] = item_qty\n",
        "    for key, value in fields.items():\n",
        "        print('  - FIELD {} {}'.format(key, value))\n",
        "    for key, value in cleared.items():\n",
        "        print('  - CLEARED {} {}'.format(key, value))\n",
        "        \n",
        "client.on('changed', changed)\n"
      ],
      "execution_count": 27,
      "outputs": [
        {
          "output_type": "execute_result",
          "data": {
            "text/plain": [
              "<function __main__.changed>"
            ]
          },
          "metadata": {
            "tags": []
          },
          "execution_count": 27
        }
      ]
    },
    {
      "metadata": {
        "id": "1FDuCfhhotj1",
        "colab_type": "code",
        "colab": {}
      },
      "cell_type": "code",
      "source": [
        ""
      ],
      "execution_count": 0,
      "outputs": []
    },
    {
      "metadata": {
        "id": "Xc6Vs49fk-b-",
        "colab_type": "code",
        "colab": {}
      },
      "cell_type": "code",
      "source": [
        "#import time\n",
        "\n",
        "#while True:\n",
        "  #time.sleep(1)"
      ],
      "execution_count": 0,
      "outputs": []
    },
    {
      "metadata": {
        "id": "GbMSB0s8nEDQ",
        "colab_type": "code",
        "colab": {
          "base_uri": "https://localhost:8080/",
          "height": 51
        },
        "outputId": "42bd093e-77ff-488c-da38-43fa42c62647"
      },
      "cell_type": "code",
      "source": [
        "!pip install opencv-python\n",
        "\n",
        "import numpy as np\n",
        "import cv2\n",
        "from google.colab.patches import cv2_imshow"
      ],
      "execution_count": 28,
      "outputs": [
        {
          "output_type": "stream",
          "text": [
            "Requirement already satisfied: opencv-python in /usr/local/lib/python3.6/dist-packages (3.4.5.20)\n",
            "Requirement already satisfied: numpy>=1.11.3 in /usr/local/lib/python3.6/dist-packages (from opencv-python) (1.16.3)\n"
          ],
          "name": "stdout"
        }
      ]
    },
    {
      "metadata": {
        "id": "Dv0b9zmNrARj",
        "colab_type": "code",
        "colab": {}
      },
      "cell_type": "code",
      "source": [
        "from IPython.display import clear_output\n",
        "import matplotlib.pyplot as plt"
      ],
      "execution_count": 0,
      "outputs": []
    },
    {
      "metadata": {
        "id": "N45L9QloowCb",
        "colab_type": "code",
        "colab": {
          "base_uri": "https://localhost:8080/",
          "height": 2009
        },
        "outputId": "8f3c26eb-6159-42ca-db30-0872e4d7602b"
      },
      "cell_type": "code",
      "source": [
        "!pkg-config --list-all | grep libavcodec\n",
        "\n",
        "import cv2\n",
        "print (cv2.getBuildInformation())"
      ],
      "execution_count": 29,
      "outputs": [
        {
          "output_type": "stream",
          "text": [
            "libavcodec            libavcodec - FFmpeg codec library\n",
            "\n",
            "General configuration for OpenCV 3.4.3 =====================================\n",
            "  Version control:               3.4.3\n",
            "\n",
            "  Extra modules:\n",
            "    Location (extra):            /io/opencv_contrib/modules\n",
            "    Version control (extra):     3.4.3\n",
            "\n",
            "  Platform:\n",
            "    Timestamp:                   2018-09-09T13:49:56Z\n",
            "    Host:                        Linux 4.4.0-101-generic x86_64\n",
            "    CMake:                       3.9.0\n",
            "    CMake generator:             Unix Makefiles\n",
            "    CMake build tool:            /usr/bin/gmake\n",
            "    Configuration:               Release\n",
            "\n",
            "  CPU/HW features:\n",
            "    Baseline:                    SSE SSE2 SSE3\n",
            "      requested:                 SSE3\n",
            "    Dispatched code generation:  SSE4_1 SSE4_2 FP16 AVX AVX2\n",
            "      requested:                 SSE4_1 SSE4_2 AVX FP16 AVX2 AVX512_SKX\n",
            "      SSE4_1 (3 files):          + SSSE3 SSE4_1\n",
            "      SSE4_2 (1 files):          + SSSE3 SSE4_1 POPCNT SSE4_2\n",
            "      FP16 (1 files):            + SSSE3 SSE4_1 POPCNT SSE4_2 FP16 AVX\n",
            "      AVX (5 files):             + SSSE3 SSE4_1 POPCNT SSE4_2 AVX\n",
            "      AVX2 (9 files):            + SSSE3 SSE4_1 POPCNT SSE4_2 FP16 FMA3 AVX AVX2\n",
            "\n",
            "  C/C++:\n",
            "    Built as dynamic libs?:      NO\n",
            "    C++ Compiler:                /opt/rh/devtoolset-2/root/usr/bin/c++  (ver 4.8.2)\n",
            "    C++ flags (Release):         -Wl,-strip-all   -fsigned-char -W -Wall -Werror=return-type -Werror=non-virtual-dtor -Werror=address -Werror=sequence-point -Wformat -Werror=format-security -Wmissing-declarations -Wundef -Winit-self -Wpointer-arith -Wshadow -Wsign-promo -Wuninitialized -Winit-self -Wno-narrowing -Wno-delete-non-virtual-dtor -Wno-comment -fdiagnostics-show-option -Wno-long-long -pthread -fomit-frame-pointer -ffunction-sections -fdata-sections  -msse -msse2 -msse3 -fvisibility=hidden -fvisibility-inlines-hidden -O3 -DNDEBUG  -DNDEBUG\n",
            "    C++ flags (Debug):           -Wl,-strip-all   -fsigned-char -W -Wall -Werror=return-type -Werror=non-virtual-dtor -Werror=address -Werror=sequence-point -Wformat -Werror=format-security -Wmissing-declarations -Wundef -Winit-self -Wpointer-arith -Wshadow -Wsign-promo -Wuninitialized -Winit-self -Wno-narrowing -Wno-delete-non-virtual-dtor -Wno-comment -fdiagnostics-show-option -Wno-long-long -pthread -fomit-frame-pointer -ffunction-sections -fdata-sections  -msse -msse2 -msse3 -fvisibility=hidden -fvisibility-inlines-hidden -g  -O0 -DDEBUG -D_DEBUG\n",
            "    C Compiler:                  /opt/rh/devtoolset-2/root/usr/bin/cc\n",
            "    C flags (Release):           -Wl,-strip-all   -fsigned-char -W -Wall -Werror=return-type -Werror=non-virtual-dtor -Werror=address -Werror=sequence-point -Wformat -Werror=format-security -Wmissing-declarations -Wmissing-prototypes -Wstrict-prototypes -Wundef -Winit-self -Wpointer-arith -Wshadow -Wuninitialized -Winit-self -Wno-narrowing -Wno-comment -fdiagnostics-show-option -Wno-long-long -pthread -fomit-frame-pointer -ffunction-sections -fdata-sections  -msse -msse2 -msse3 -fvisibility=hidden -O3 -DNDEBUG  -DNDEBUG\n",
            "    C flags (Debug):             -Wl,-strip-all   -fsigned-char -W -Wall -Werror=return-type -Werror=non-virtual-dtor -Werror=address -Werror=sequence-point -Wformat -Werror=format-security -Wmissing-declarations -Wmissing-prototypes -Wstrict-prototypes -Wundef -Winit-self -Wpointer-arith -Wshadow -Wuninitialized -Winit-self -Wno-narrowing -Wno-comment -fdiagnostics-show-option -Wno-long-long -pthread -fomit-frame-pointer -ffunction-sections -fdata-sections  -msse -msse2 -msse3 -fvisibility=hidden -g  -O0 -DDEBUG -D_DEBUG\n",
            "    Linker flags (Release):      -L/root/ffmpeg_build/lib   \n",
            "    Linker flags (Debug):        -L/root/ffmpeg_build/lib   \n",
            "    ccache:                      NO\n",
            "    Precompiled headers:         NO\n",
            "    Extra dependencies:          /opt/Qt4.8.7/lib/libQtGui.so /opt/Qt4.8.7/lib/libQtTest.so /opt/Qt4.8.7/lib/libQtCore.so /lib64/libz.so /opt/libjpeg-turbo/lib64/libjpeg.a avcodec avformat avutil swscale dl m pthread rt\n",
            "    3rdparty dependencies:       ittnotify libprotobuf libwebp libpng libtiff libjasper IlmImf\n",
            "\n",
            "  OpenCV modules:\n",
            "    To be built:                 aruco bgsegm bioinspired calib3d ccalib core datasets dnn dnn_objdetect dpm face features2d flann fuzzy hfs highgui img_hash imgcodecs imgproc java_bindings_generator line_descriptor ml objdetect optflow phase_unwrapping photo plot python3 python_bindings_generator reg rgbd saliency shape stereo stitching structured_light superres surface_matching text tracking video videoio videostab xfeatures2d ximgproc xobjdetect xphoto\n",
            "    Disabled:                    js world\n",
            "    Disabled by dependency:      -\n",
            "    Unavailable:                 cnn_3dobj cudaarithm cudabgsegm cudacodec cudafeatures2d cudafilters cudaimgproc cudalegacy cudaobjdetect cudaoptflow cudastereo cudawarping cudev cvv freetype hdf java matlab ovis python2 sfm ts viz\n",
            "    Applications:                -\n",
            "    Documentation:               NO\n",
            "    Non-free algorithms:         NO\n",
            "\n",
            "  GUI: \n",
            "    QT:                          YES (ver 4.8.7 EDITION = OpenSource)\n",
            "      QT OpenGL support:         NO\n",
            "    GTK+:                        NO\n",
            "    VTK support:                 NO\n",
            "\n",
            "  Media I/O: \n",
            "    ZLib:                        /lib64/libz.so (ver 1.2.3)\n",
            "    JPEG:                        /opt/libjpeg-turbo/lib64/libjpeg.a (ver 62)\n",
            "    WEBP:                        build (ver encoder: 0x020e)\n",
            "    PNG:                         build (ver 1.6.34)\n",
            "    TIFF:                        build (ver 42 - 4.0.9)\n",
            "    JPEG 2000:                   build (ver 1.900.1)\n",
            "    OpenEXR:                     build (ver 1.7.1)\n",
            "    HDR:                         YES\n",
            "    SUNRASTER:                   YES\n",
            "    PXM:                         YES\n",
            "\n",
            "  Video I/O:\n",
            "    DC1394:                      NO\n",
            "    FFMPEG:                      YES\n",
            "      avcodec:                   YES (ver 58.21.104)\n",
            "      avformat:                  YES (ver 58.17.101)\n",
            "      avutil:                    YES (ver 56.18.102)\n",
            "      swscale:                   YES (ver 5.2.100)\n",
            "      avresample:                NO\n",
            "    GStreamer:                   NO\n",
            "    libv4l/libv4l2:              NO\n",
            "    v4l/v4l2:                    linux/videodev.h linux/videodev2.h\n",
            "\n",
            "  Parallel framework:            pthreads\n",
            "\n",
            "  Trace:                         YES (with Intel ITT)\n",
            "\n",
            "  Other third-party libraries:\n",
            "    Lapack:                      NO\n",
            "    Eigen:                       NO\n",
            "    Custom HAL:                  NO\n",
            "    Protobuf:                    build (3.5.1)\n",
            "\n",
            "  OpenCL:                        YES (no extra features)\n",
            "    Include path:                /io/opencv/3rdparty/include/opencl/1.2\n",
            "    Link libraries:              Dynamic load\n",
            "\n",
            "  Python 3:\n",
            "    Interpreter:                 /opt/python/cp36-cp36m/bin/python (ver 3.6.5)\n",
            "    Libraries:                   libpython3.6m.a (ver 3.6.5)\n",
            "    numpy:                       /opt/python/cp36-cp36m/lib/python3.6/site-packages/numpy/core/include (ver 1.11.3)\n",
            "    packages path:               lib/python3.6/site-packages\n",
            "\n",
            "  Python (for build):            /opt/python/cp36-cp36m/bin/python\n",
            "\n",
            "  Java:                          \n",
            "    ant:                         NO\n",
            "    JNI:                         NO\n",
            "    Java wrappers:               NO\n",
            "    Java tests:                  NO\n",
            "\n",
            "  Matlab:                        NO\n",
            "\n",
            "  Install to:                    /io/_skbuild/linux-x86_64-3.6/cmake-install\n",
            "-----------------------------------------------------------------\n",
            "\n",
            "\n"
          ],
          "name": "stdout"
        }
      ]
    },
    {
      "metadata": {
        "id": "MTH3gNSZOwoO",
        "colab_type": "code",
        "colab": {
          "base_uri": "https://localhost:8080/",
          "height": 34
        },
        "outputId": "cc0edf1c-a693-4986-c9f5-cb3b0b136d31"
      },
      "cell_type": "code",
      "source": [
        "!pwd\n",
        "!mkdir training_images\n"
      ],
      "execution_count": 30,
      "outputs": [
        {
          "output_type": "stream",
          "text": [
            "/content\n"
          ],
          "name": "stdout"
        }
      ]
    },
    {
      "metadata": {
        "id": "RN-2_eCOXcGE",
        "colab_type": "code",
        "colab": {}
      },
      "cell_type": "code",
      "source": [
        "training_label = \"test\"\n",
        "os.mkdir(\"training_images/\"+training_label)"
      ],
      "execution_count": 0,
      "outputs": []
    },
    {
      "metadata": {
        "id": "wvKXQunKlawb",
        "colab_type": "code",
        "colab": {}
      },
      "cell_type": "code",
      "source": [
        "mode = \"training\""
      ],
      "execution_count": 0,
      "outputs": []
    },
    {
      "metadata": {
        "id": "Od9rmkXSptIV",
        "colab_type": "code",
        "colab": {
          "base_uri": "https://localhost:8080/",
          "height": 375
        },
        "outputId": "a0370b93-99f4-4b1d-8de7-78894abe2455"
      },
      "cell_type": "code",
      "source": [
        "import time\n",
        "import cv2\n",
        "import urllib.request as ur\n",
        "\n",
        "import numpy as np\n",
        "from google.colab.patches import cv2_imshow\n",
        "#from IPython.display import clear_output\n",
        "\n",
        "# run sudo ifconfig inside the pi to get the local network address \"inet\" but then need local hw \n",
        "# http://10.4.14.67/?action=stream\n",
        "# https://stackoverflow.com/questions/54949143/opencv-unable-to-read-video-from-mjpeg-stream\n",
        "# https://absorptive-heron-4484.dataplicity.io/?action=stream\n",
        "stream=ur.urlopen('https://absorptive-heron-4484.dataplicity.io/?action=stream')\n",
        "bytestring=b''\n",
        "counter = 0\n",
        "counter_list_prev = dict()\n",
        "while True:\n",
        "    bytestring+=stream.read(1024)\n",
        "    a = bytestring.find(b'\\xff\\xd8')\n",
        "    b = bytestring.find(b'\\xff\\xd9')\n",
        "    if a !=- 1 and b != -1:\n",
        "        jpg = bytestring[a:b+2]\n",
        "        bytestring= bytestring[b+2:]\n",
        "        i = cv2.imdecode(np.fromstring(jpg, dtype=np.uint8),cv2.IMREAD_COLOR)\n",
        "        \n",
        "        if(mode == \"training\" and counter % 10 == 0): # every second\n",
        "            #save image to file\n",
        "            img_label = training_label + str(counter) + \".jpg\"\n",
        "            cv2.imwrite(os.path.join('training_images/'+training_label, img_label), i)\n",
        "            cv2_imshow(i)\n",
        "\n",
        "        if(mode == \"countings\" and counter % 30 == 0): # with 10FPS this is one per three seconds\n",
        "            #from matplotlib import pyplot as plt\n",
        "            #plt.subplot(211),plt.imshow(i)\n",
        "            #plt.xticks([]),plt.yticks([])\n",
        "            #plt.pause(0.2);\n",
        "            #cv2_imshow(i)\n",
        "          \n",
        "            image = cv2.cvtColor(i,cv2.COLOR_BGR2RGB)\n",
        "            # Run detection\n",
        "            results = model.detect([image], verbose=0)\n",
        "            #results = model.detect([image], verbose=1)\n",
        "            #print(results)\n",
        "\n",
        "            # Visualize results\n",
        "            r = results[0]\n",
        "            visualize.display_instances(image, r['rois'], r['masks'], r['class_ids'], \n",
        "                class_names, r['scores'])\n",
        "\n",
        "            import collections\n",
        "            class_ids = r['class_ids']\n",
        "            counter_list = collections.Counter(class_ids)\n",
        "\n",
        "            for key in counter_list:\n",
        "                if not key in counter_list_prev:\n",
        "                    counter_list_prev[key] = 0\n",
        "\n",
        "                print(\"Object: {}, Quantity: {}\".format(class_names[key], counter_list[key]))\n",
        "                if counter_list_prev[key] != counter_list[key]:\n",
        "                    print(\" -- Quantity changed by {}\".format(counter_list[key] - counter_list_prev[key]))\n",
        "\n",
        "            for key in counter_list_prev:  \n",
        "                if key in counter_list_prev and key not in counter_list:\n",
        "                  print(\" -- Object: {}, Quantity: {} was removed\".format(class_names[key], counter_list_prev[key]))\n",
        "              \n",
        "            #save detection result for comparison\n",
        "            counter_list_prev = counter_list\n",
        "\n",
        "        counter += 1\n",
        "        print(counter)\n",
        "        \n",
        "    #not meaningful inside Google colab\n",
        "    #if cv2.waitKey(1) & 0xFF == ord('q'):\n",
        "    #    break\n",
        "\n",
        "    #time.sleep(0.1)"
      ],
      "execution_count": 33,
      "outputs": [
        {
          "output_type": "error",
          "ename": "timeout",
          "evalue": "ignored",
          "traceback": [
            "\u001b[0;31m---------------------------------------------------------------------------\u001b[0m",
            "\u001b[0;31mtimeout\u001b[0m                                   Traceback (most recent call last)",
            "\u001b[0;32m<ipython-input-33-4988ba8f3dcf>\u001b[0m in \u001b[0;36m<module>\u001b[0;34m()\u001b[0m\n\u001b[1;32m     16\u001b[0m \u001b[0mcounter_list_prev\u001b[0m \u001b[0;34m=\u001b[0m \u001b[0mdict\u001b[0m\u001b[0;34m(\u001b[0m\u001b[0;34m)\u001b[0m\u001b[0;34m\u001b[0m\u001b[0;34m\u001b[0m\u001b[0m\n\u001b[1;32m     17\u001b[0m \u001b[0;32mwhile\u001b[0m \u001b[0;32mTrue\u001b[0m\u001b[0;34m:\u001b[0m\u001b[0;34m\u001b[0m\u001b[0;34m\u001b[0m\u001b[0m\n\u001b[0;32m---> 18\u001b[0;31m     \u001b[0mbytestring\u001b[0m\u001b[0;34m+=\u001b[0m\u001b[0mstream\u001b[0m\u001b[0;34m.\u001b[0m\u001b[0mread\u001b[0m\u001b[0;34m(\u001b[0m\u001b[0;36m1024\u001b[0m\u001b[0;34m)\u001b[0m\u001b[0;34m\u001b[0m\u001b[0;34m\u001b[0m\u001b[0m\n\u001b[0m\u001b[1;32m     19\u001b[0m     \u001b[0ma\u001b[0m \u001b[0;34m=\u001b[0m \u001b[0mbytestring\u001b[0m\u001b[0;34m.\u001b[0m\u001b[0mfind\u001b[0m\u001b[0;34m(\u001b[0m\u001b[0;34mb'\\xff\\xd8'\u001b[0m\u001b[0;34m)\u001b[0m\u001b[0;34m\u001b[0m\u001b[0;34m\u001b[0m\u001b[0m\n\u001b[1;32m     20\u001b[0m     \u001b[0mb\u001b[0m \u001b[0;34m=\u001b[0m \u001b[0mbytestring\u001b[0m\u001b[0;34m.\u001b[0m\u001b[0mfind\u001b[0m\u001b[0;34m(\u001b[0m\u001b[0;34mb'\\xff\\xd9'\u001b[0m\u001b[0;34m)\u001b[0m\u001b[0;34m\u001b[0m\u001b[0;34m\u001b[0m\u001b[0m\n",
            "\u001b[0;32m/usr/lib/python3.6/http/client.py\u001b[0m in \u001b[0;36mread\u001b[0;34m(self, amt)\u001b[0m\n\u001b[1;32m    447\u001b[0m             \u001b[0;31m# Amount is given, implement using readinto\u001b[0m\u001b[0;34m\u001b[0m\u001b[0;34m\u001b[0m\u001b[0;34m\u001b[0m\u001b[0m\n\u001b[1;32m    448\u001b[0m             \u001b[0mb\u001b[0m \u001b[0;34m=\u001b[0m \u001b[0mbytearray\u001b[0m\u001b[0;34m(\u001b[0m\u001b[0mamt\u001b[0m\u001b[0;34m)\u001b[0m\u001b[0;34m\u001b[0m\u001b[0;34m\u001b[0m\u001b[0m\n\u001b[0;32m--> 449\u001b[0;31m             \u001b[0mn\u001b[0m \u001b[0;34m=\u001b[0m \u001b[0mself\u001b[0m\u001b[0;34m.\u001b[0m\u001b[0mreadinto\u001b[0m\u001b[0;34m(\u001b[0m\u001b[0mb\u001b[0m\u001b[0;34m)\u001b[0m\u001b[0;34m\u001b[0m\u001b[0;34m\u001b[0m\u001b[0m\n\u001b[0m\u001b[1;32m    450\u001b[0m             \u001b[0;32mreturn\u001b[0m \u001b[0mmemoryview\u001b[0m\u001b[0;34m(\u001b[0m\u001b[0mb\u001b[0m\u001b[0;34m)\u001b[0m\u001b[0;34m[\u001b[0m\u001b[0;34m:\u001b[0m\u001b[0mn\u001b[0m\u001b[0;34m]\u001b[0m\u001b[0;34m.\u001b[0m\u001b[0mtobytes\u001b[0m\u001b[0;34m(\u001b[0m\u001b[0;34m)\u001b[0m\u001b[0;34m\u001b[0m\u001b[0;34m\u001b[0m\u001b[0m\n\u001b[1;32m    451\u001b[0m         \u001b[0;32melse\u001b[0m\u001b[0;34m:\u001b[0m\u001b[0;34m\u001b[0m\u001b[0;34m\u001b[0m\u001b[0m\n",
            "\u001b[0;32m/usr/lib/python3.6/http/client.py\u001b[0m in \u001b[0;36mreadinto\u001b[0;34m(self, b)\u001b[0m\n\u001b[1;32m    481\u001b[0m \u001b[0;34m\u001b[0m\u001b[0m\n\u001b[1;32m    482\u001b[0m         \u001b[0;32mif\u001b[0m \u001b[0mself\u001b[0m\u001b[0;34m.\u001b[0m\u001b[0mchunked\u001b[0m\u001b[0;34m:\u001b[0m\u001b[0;34m\u001b[0m\u001b[0;34m\u001b[0m\u001b[0m\n\u001b[0;32m--> 483\u001b[0;31m             \u001b[0;32mreturn\u001b[0m \u001b[0mself\u001b[0m\u001b[0;34m.\u001b[0m\u001b[0m_readinto_chunked\u001b[0m\u001b[0;34m(\u001b[0m\u001b[0mb\u001b[0m\u001b[0;34m)\u001b[0m\u001b[0;34m\u001b[0m\u001b[0;34m\u001b[0m\u001b[0m\n\u001b[0m\u001b[1;32m    484\u001b[0m \u001b[0;34m\u001b[0m\u001b[0m\n\u001b[1;32m    485\u001b[0m         \u001b[0;32mif\u001b[0m \u001b[0mself\u001b[0m\u001b[0;34m.\u001b[0m\u001b[0mlength\u001b[0m \u001b[0;32mis\u001b[0m \u001b[0;32mnot\u001b[0m \u001b[0;32mNone\u001b[0m\u001b[0;34m:\u001b[0m\u001b[0;34m\u001b[0m\u001b[0;34m\u001b[0m\u001b[0m\n",
            "\u001b[0;32m/usr/lib/python3.6/http/client.py\u001b[0m in \u001b[0;36m_readinto_chunked\u001b[0;34m(self, b)\u001b[0m\n\u001b[1;32m    576\u001b[0m         \u001b[0;32mtry\u001b[0m\u001b[0;34m:\u001b[0m\u001b[0;34m\u001b[0m\u001b[0;34m\u001b[0m\u001b[0m\n\u001b[1;32m    577\u001b[0m             \u001b[0;32mwhile\u001b[0m \u001b[0;32mTrue\u001b[0m\u001b[0;34m:\u001b[0m\u001b[0;34m\u001b[0m\u001b[0;34m\u001b[0m\u001b[0m\n\u001b[0;32m--> 578\u001b[0;31m                 \u001b[0mchunk_left\u001b[0m \u001b[0;34m=\u001b[0m \u001b[0mself\u001b[0m\u001b[0;34m.\u001b[0m\u001b[0m_get_chunk_left\u001b[0m\u001b[0;34m(\u001b[0m\u001b[0;34m)\u001b[0m\u001b[0;34m\u001b[0m\u001b[0;34m\u001b[0m\u001b[0m\n\u001b[0m\u001b[1;32m    579\u001b[0m                 \u001b[0;32mif\u001b[0m \u001b[0mchunk_left\u001b[0m \u001b[0;32mis\u001b[0m \u001b[0;32mNone\u001b[0m\u001b[0;34m:\u001b[0m\u001b[0;34m\u001b[0m\u001b[0;34m\u001b[0m\u001b[0m\n\u001b[1;32m    580\u001b[0m                     \u001b[0;32mreturn\u001b[0m \u001b[0mtotal_bytes\u001b[0m\u001b[0;34m\u001b[0m\u001b[0;34m\u001b[0m\u001b[0m\n",
            "\u001b[0;32m/usr/lib/python3.6/http/client.py\u001b[0m in \u001b[0;36m_get_chunk_left\u001b[0;34m(self)\u001b[0m\n\u001b[1;32m    544\u001b[0m                 \u001b[0mself\u001b[0m\u001b[0;34m.\u001b[0m\u001b[0m_safe_read\u001b[0m\u001b[0;34m(\u001b[0m\u001b[0;36m2\u001b[0m\u001b[0;34m)\u001b[0m  \u001b[0;31m# toss the CRLF at the end of the chunk\u001b[0m\u001b[0;34m\u001b[0m\u001b[0;34m\u001b[0m\u001b[0m\n\u001b[1;32m    545\u001b[0m             \u001b[0;32mtry\u001b[0m\u001b[0;34m:\u001b[0m\u001b[0;34m\u001b[0m\u001b[0;34m\u001b[0m\u001b[0m\n\u001b[0;32m--> 546\u001b[0;31m                 \u001b[0mchunk_left\u001b[0m \u001b[0;34m=\u001b[0m \u001b[0mself\u001b[0m\u001b[0;34m.\u001b[0m\u001b[0m_read_next_chunk_size\u001b[0m\u001b[0;34m(\u001b[0m\u001b[0;34m)\u001b[0m\u001b[0;34m\u001b[0m\u001b[0;34m\u001b[0m\u001b[0m\n\u001b[0m\u001b[1;32m    547\u001b[0m             \u001b[0;32mexcept\u001b[0m \u001b[0mValueError\u001b[0m\u001b[0;34m:\u001b[0m\u001b[0;34m\u001b[0m\u001b[0;34m\u001b[0m\u001b[0m\n\u001b[1;32m    548\u001b[0m                 \u001b[0;32mraise\u001b[0m \u001b[0mIncompleteRead\u001b[0m\u001b[0;34m(\u001b[0m\u001b[0;34mb''\u001b[0m\u001b[0;34m)\u001b[0m\u001b[0;34m\u001b[0m\u001b[0;34m\u001b[0m\u001b[0m\n",
            "\u001b[0;32m/usr/lib/python3.6/http/client.py\u001b[0m in \u001b[0;36m_read_next_chunk_size\u001b[0;34m(self)\u001b[0m\n\u001b[1;32m    504\u001b[0m     \u001b[0;32mdef\u001b[0m \u001b[0m_read_next_chunk_size\u001b[0m\u001b[0;34m(\u001b[0m\u001b[0mself\u001b[0m\u001b[0;34m)\u001b[0m\u001b[0;34m:\u001b[0m\u001b[0;34m\u001b[0m\u001b[0;34m\u001b[0m\u001b[0m\n\u001b[1;32m    505\u001b[0m         \u001b[0;31m# Read the next chunk size from the file\u001b[0m\u001b[0;34m\u001b[0m\u001b[0;34m\u001b[0m\u001b[0;34m\u001b[0m\u001b[0m\n\u001b[0;32m--> 506\u001b[0;31m         \u001b[0mline\u001b[0m \u001b[0;34m=\u001b[0m \u001b[0mself\u001b[0m\u001b[0;34m.\u001b[0m\u001b[0mfp\u001b[0m\u001b[0;34m.\u001b[0m\u001b[0mreadline\u001b[0m\u001b[0;34m(\u001b[0m\u001b[0m_MAXLINE\u001b[0m \u001b[0;34m+\u001b[0m \u001b[0;36m1\u001b[0m\u001b[0;34m)\u001b[0m\u001b[0;34m\u001b[0m\u001b[0;34m\u001b[0m\u001b[0m\n\u001b[0m\u001b[1;32m    507\u001b[0m         \u001b[0;32mif\u001b[0m \u001b[0mlen\u001b[0m\u001b[0;34m(\u001b[0m\u001b[0mline\u001b[0m\u001b[0;34m)\u001b[0m \u001b[0;34m>\u001b[0m \u001b[0m_MAXLINE\u001b[0m\u001b[0;34m:\u001b[0m\u001b[0;34m\u001b[0m\u001b[0;34m\u001b[0m\u001b[0m\n\u001b[1;32m    508\u001b[0m             \u001b[0;32mraise\u001b[0m \u001b[0mLineTooLong\u001b[0m\u001b[0;34m(\u001b[0m\u001b[0;34m\"chunk size\"\u001b[0m\u001b[0;34m)\u001b[0m\u001b[0;34m\u001b[0m\u001b[0;34m\u001b[0m\u001b[0m\n",
            "\u001b[0;32m/usr/lib/python3.6/socket.py\u001b[0m in \u001b[0;36mreadinto\u001b[0;34m(self, b)\u001b[0m\n\u001b[1;32m    584\u001b[0m         \u001b[0;32mwhile\u001b[0m \u001b[0;32mTrue\u001b[0m\u001b[0;34m:\u001b[0m\u001b[0;34m\u001b[0m\u001b[0;34m\u001b[0m\u001b[0m\n\u001b[1;32m    585\u001b[0m             \u001b[0;32mtry\u001b[0m\u001b[0;34m:\u001b[0m\u001b[0;34m\u001b[0m\u001b[0;34m\u001b[0m\u001b[0m\n\u001b[0;32m--> 586\u001b[0;31m                 \u001b[0;32mreturn\u001b[0m \u001b[0mself\u001b[0m\u001b[0;34m.\u001b[0m\u001b[0m_sock\u001b[0m\u001b[0;34m.\u001b[0m\u001b[0mrecv_into\u001b[0m\u001b[0;34m(\u001b[0m\u001b[0mb\u001b[0m\u001b[0;34m)\u001b[0m\u001b[0;34m\u001b[0m\u001b[0;34m\u001b[0m\u001b[0m\n\u001b[0m\u001b[1;32m    587\u001b[0m             \u001b[0;32mexcept\u001b[0m \u001b[0mtimeout\u001b[0m\u001b[0;34m:\u001b[0m\u001b[0;34m\u001b[0m\u001b[0;34m\u001b[0m\u001b[0m\n\u001b[1;32m    588\u001b[0m                 \u001b[0mself\u001b[0m\u001b[0;34m.\u001b[0m\u001b[0m_timeout_occurred\u001b[0m \u001b[0;34m=\u001b[0m \u001b[0;32mTrue\u001b[0m\u001b[0;34m\u001b[0m\u001b[0;34m\u001b[0m\u001b[0m\n",
            "\u001b[0;32m/usr/lib/python3.6/ssl.py\u001b[0m in \u001b[0;36mrecv_into\u001b[0;34m(self, buffer, nbytes, flags)\u001b[0m\n\u001b[1;32m   1010\u001b[0m                   \u001b[0;34m\"non-zero flags not allowed in calls to recv_into() on %s\"\u001b[0m \u001b[0;34m%\u001b[0m\u001b[0;34m\u001b[0m\u001b[0;34m\u001b[0m\u001b[0m\n\u001b[1;32m   1011\u001b[0m                   self.__class__)\n\u001b[0;32m-> 1012\u001b[0;31m             \u001b[0;32mreturn\u001b[0m \u001b[0mself\u001b[0m\u001b[0;34m.\u001b[0m\u001b[0mread\u001b[0m\u001b[0;34m(\u001b[0m\u001b[0mnbytes\u001b[0m\u001b[0;34m,\u001b[0m \u001b[0mbuffer\u001b[0m\u001b[0;34m)\u001b[0m\u001b[0;34m\u001b[0m\u001b[0;34m\u001b[0m\u001b[0m\n\u001b[0m\u001b[1;32m   1013\u001b[0m         \u001b[0;32melse\u001b[0m\u001b[0;34m:\u001b[0m\u001b[0;34m\u001b[0m\u001b[0;34m\u001b[0m\u001b[0m\n\u001b[1;32m   1014\u001b[0m             \u001b[0;32mreturn\u001b[0m \u001b[0msocket\u001b[0m\u001b[0;34m.\u001b[0m\u001b[0mrecv_into\u001b[0m\u001b[0;34m(\u001b[0m\u001b[0mself\u001b[0m\u001b[0;34m,\u001b[0m \u001b[0mbuffer\u001b[0m\u001b[0;34m,\u001b[0m \u001b[0mnbytes\u001b[0m\u001b[0;34m,\u001b[0m \u001b[0mflags\u001b[0m\u001b[0;34m)\u001b[0m\u001b[0;34m\u001b[0m\u001b[0;34m\u001b[0m\u001b[0m\n",
            "\u001b[0;32m/usr/lib/python3.6/ssl.py\u001b[0m in \u001b[0;36mread\u001b[0;34m(self, len, buffer)\u001b[0m\n\u001b[1;32m    872\u001b[0m             \u001b[0;32mraise\u001b[0m \u001b[0mValueError\u001b[0m\u001b[0;34m(\u001b[0m\u001b[0;34m\"Read on closed or unwrapped SSL socket.\"\u001b[0m\u001b[0;34m)\u001b[0m\u001b[0;34m\u001b[0m\u001b[0;34m\u001b[0m\u001b[0m\n\u001b[1;32m    873\u001b[0m         \u001b[0;32mtry\u001b[0m\u001b[0;34m:\u001b[0m\u001b[0;34m\u001b[0m\u001b[0;34m\u001b[0m\u001b[0m\n\u001b[0;32m--> 874\u001b[0;31m             \u001b[0;32mreturn\u001b[0m \u001b[0mself\u001b[0m\u001b[0;34m.\u001b[0m\u001b[0m_sslobj\u001b[0m\u001b[0;34m.\u001b[0m\u001b[0mread\u001b[0m\u001b[0;34m(\u001b[0m\u001b[0mlen\u001b[0m\u001b[0;34m,\u001b[0m \u001b[0mbuffer\u001b[0m\u001b[0;34m)\u001b[0m\u001b[0;34m\u001b[0m\u001b[0;34m\u001b[0m\u001b[0m\n\u001b[0m\u001b[1;32m    875\u001b[0m         \u001b[0;32mexcept\u001b[0m \u001b[0mSSLError\u001b[0m \u001b[0;32mas\u001b[0m \u001b[0mx\u001b[0m\u001b[0;34m:\u001b[0m\u001b[0;34m\u001b[0m\u001b[0;34m\u001b[0m\u001b[0m\n\u001b[1;32m    876\u001b[0m             \u001b[0;32mif\u001b[0m \u001b[0mx\u001b[0m\u001b[0;34m.\u001b[0m\u001b[0margs\u001b[0m\u001b[0;34m[\u001b[0m\u001b[0;36m0\u001b[0m\u001b[0;34m]\u001b[0m \u001b[0;34m==\u001b[0m \u001b[0mSSL_ERROR_EOF\u001b[0m \u001b[0;32mand\u001b[0m \u001b[0mself\u001b[0m\u001b[0;34m.\u001b[0m\u001b[0msuppress_ragged_eofs\u001b[0m\u001b[0;34m:\u001b[0m\u001b[0;34m\u001b[0m\u001b[0;34m\u001b[0m\u001b[0m\n",
            "\u001b[0;32m/usr/lib/python3.6/ssl.py\u001b[0m in \u001b[0;36mread\u001b[0;34m(self, len, buffer)\u001b[0m\n\u001b[1;32m    629\u001b[0m         \"\"\"\n\u001b[1;32m    630\u001b[0m         \u001b[0;32mif\u001b[0m \u001b[0mbuffer\u001b[0m \u001b[0;32mis\u001b[0m \u001b[0;32mnot\u001b[0m \u001b[0;32mNone\u001b[0m\u001b[0;34m:\u001b[0m\u001b[0;34m\u001b[0m\u001b[0;34m\u001b[0m\u001b[0m\n\u001b[0;32m--> 631\u001b[0;31m             \u001b[0mv\u001b[0m \u001b[0;34m=\u001b[0m \u001b[0mself\u001b[0m\u001b[0;34m.\u001b[0m\u001b[0m_sslobj\u001b[0m\u001b[0;34m.\u001b[0m\u001b[0mread\u001b[0m\u001b[0;34m(\u001b[0m\u001b[0mlen\u001b[0m\u001b[0;34m,\u001b[0m \u001b[0mbuffer\u001b[0m\u001b[0;34m)\u001b[0m\u001b[0;34m\u001b[0m\u001b[0;34m\u001b[0m\u001b[0m\n\u001b[0m\u001b[1;32m    632\u001b[0m         \u001b[0;32melse\u001b[0m\u001b[0;34m:\u001b[0m\u001b[0;34m\u001b[0m\u001b[0;34m\u001b[0m\u001b[0m\n\u001b[1;32m    633\u001b[0m             \u001b[0mv\u001b[0m \u001b[0;34m=\u001b[0m \u001b[0mself\u001b[0m\u001b[0;34m.\u001b[0m\u001b[0m_sslobj\u001b[0m\u001b[0;34m.\u001b[0m\u001b[0mread\u001b[0m\u001b[0;34m(\u001b[0m\u001b[0mlen\u001b[0m\u001b[0;34m)\u001b[0m\u001b[0;34m\u001b[0m\u001b[0;34m\u001b[0m\u001b[0m\n",
            "\u001b[0;31mtimeout\u001b[0m: The read operation timed out"
          ]
        }
      ]
    },
    {
      "metadata": {
        "id": "4opE7cBVMLFm",
        "colab_type": "code",
        "colab": {}
      },
      "cell_type": "code",
      "source": [
        "\n"
      ],
      "execution_count": 0,
      "outputs": []
    },
    {
      "metadata": {
        "id": "VV3OzD5vKJuT",
        "colab_type": "code",
        "colab": {}
      },
      "cell_type": "code",
      "source": [
        "#download the training images\n",
        "!zip -r /content/file.zip /content/training_images\n",
        "from google.colab import files\n",
        "files.download(\"/content/file.zip\")"
      ],
      "execution_count": 0,
      "outputs": []
    },
    {
      "metadata": {
        "id": "c77CJh8iKJ--",
        "colab_type": "code",
        "colab": {}
      },
      "cell_type": "code",
      "source": [
        "#rm -r training_images"
      ],
      "execution_count": 0,
      "outputs": []
    },
    {
      "metadata": {
        "id": "5880tQc3KKE_",
        "colab_type": "code",
        "colab": {}
      },
      "cell_type": "code",
      "source": [
        ""
      ],
      "execution_count": 0,
      "outputs": []
    }
  ]
}