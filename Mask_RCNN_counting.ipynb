{
  "nbformat": 4,
  "nbformat_minor": 0,
  "metadata": {
    "colab": {
      "name": "Mask_RCNN_counting.ipynb",
      "version": "0.3.2",
      "provenance": [],
      "collapsed_sections": [],
      "toc_visible": true,
      "include_colab_link": true
    },
    "kernelspec": {
      "name": "python3",
      "display_name": "Python 3"
    },
    "accelerator": "GPU"
  },
  "cells": [
    {
      "cell_type": "markdown",
      "metadata": {
        "id": "view-in-github",
        "colab_type": "text"
      },
      "source": [
        "<a href=\"https://colab.research.google.com/github/JonathanLehner/Colab-collection/blob/master/Mask_RCNN_counting.ipynb\" target=\"_parent\"><img src=\"https://colab.research.google.com/assets/colab-badge.svg\" alt=\"Open In Colab\"/></a>"
      ]
    },
    {
      "metadata": {
        "id": "AyGKBgaOhfoM",
        "colab_type": "text"
      },
      "cell_type": "markdown",
      "source": [
        "# Mask R-CNN Demo\n",
        "\n",
        "This is a [Mask R-CNN](https://arxiv.org/abs/1703.06870) colab notebook using the open source project [matterport/Mask_RCNN](https://github.com/matterport/Mask_RCNN).\n",
        "\n",
        "Follow this to make your picam stream:\n",
        "https://docs.dataplicity.com/docs/stream-live-video-from-your-pi"
      ]
    },
    {
      "metadata": {
        "id": "3vf5QKv1w2OJ",
        "colab_type": "code",
        "colab": {}
      },
      "cell_type": "code",
      "source": [
        "# define variables\n",
        "import os\n",
        "repository_url = 'https://github.com/JonathanLehner/Colab-collection'\n",
        "repository_name = os.path.basename(repository_url)\n",
        "loader_path = './products.py'\n",
        "\n",
        "products_model = 'https://github.com/JonathanLehner/Colab-collection/releases/download/0.1/mask_rcnn_products_0060.h5'\n",
        "products_model_name = os.path.basename(products_model)\n",
        "products_data_url = 'https://github.com/JonathanLehner/Colab-collection/releases/download/0.1/labeled_training_images3.0.zip'\n",
        "products_filename = os.path.basename(products_data_url)\n",
        "products_filename_wo_ext = 'labeled_training_images'\n",
        "\n",
        "test_category = \"/test_do_not_label\""
      ],
      "execution_count": 0,
      "outputs": []
    },
    {
      "metadata": {
        "id": "hqXhYOb6dF-X",
        "colab_type": "code",
        "colab": {}
      },
      "cell_type": "code",
      "source": [
        "# install Mask RCNN\n",
        "import os\n",
        "from os.path import exists, join, basename\n",
        "\n",
        "project_name = \"Mask_RCNN\"\n",
        "if not exists(project_name):\n",
        "  # clone and install\n",
        "  !git clone -q https://github.com/matterport/Mask_RCNN.git\n",
        "  !cd $project_name && pip install -q -r requirements.txt\n",
        "  \n",
        "import sys\n",
        "sys.path.append(project_name)"
      ],
      "execution_count": 0,
      "outputs": []
    },
    {
      "metadata": {
        "id": "u-HaKIlbjd06",
        "colab_type": "text"
      },
      "cell_type": "markdown",
      "source": [
        "## Download and prepare a pretrained model (trained on COCO) \n",
        "\n",
        "Following code is copied from https://github.com/matterport/Mask_RCNN/blob/master/samples/demo.ipynb and updated for the Colab."
      ]
    },
    {
      "metadata": {
        "id": "jagfx2FRrppx",
        "colab_type": "code",
        "outputId": "be7f831b-a2cc-475b-da78-1ab5d36bdd4e",
        "colab": {
          "base_uri": "https://localhost:8080/",
          "height": 51
        }
      },
      "cell_type": "code",
      "source": [
        "%cd /content/Mask_RCNN/\n",
        "os.system('rm {0}'.format(products_model_name))\n",
        "os.system('wget {0}'.format(products_model))\n",
        "%cd /content/"
      ],
      "execution_count": 16,
      "outputs": [
        {
          "output_type": "stream",
          "text": [
            "/content/Mask_RCNN\n",
            "/content\n"
          ],
          "name": "stdout"
        }
      ]
    },
    {
      "metadata": {
        "id": "kKbYoHVNd5F8",
        "colab_type": "code",
        "colab": {}
      },
      "cell_type": "code",
      "source": [
        "import random\n",
        "import math\n",
        "import time\n",
        "import numpy as np\n",
        "import skimage.io\n",
        "import matplotlib\n",
        "import matplotlib.pyplot as plt\n",
        "plt.rcParams[\"axes.grid\"] = False\n",
        "\n",
        "# Root directory of the project\n",
        "ROOT_DIR = os.path.abspath(project_name)\n",
        "\n",
        "# Import Mask RCNN\n",
        "sys.path.append(ROOT_DIR)  # To find local version of the library\n",
        "from mrcnn import utils\n",
        "import mrcnn.model as modellib\n",
        "from mrcnn import visualize\n",
        "# Import COCO config\n",
        "sys.path.append(os.path.join(ROOT_DIR, \"samples/coco/\"))  # To find local version\n",
        "import coco\n",
        "\n",
        "%matplotlib inline \n",
        "\n",
        "# Directory to save logs and trained model\n",
        "MODEL_DIR = os.path.join(ROOT_DIR, \"logs\")\n",
        "\n",
        "# Local path to trained weights file\n",
        "COCO_MODEL_PATH = os.path.join(ROOT_DIR, \"mask_rcnn_coco.h5\")\n",
        "# Download COCO trained weights from Releases if needed\n",
        "if not os.path.exists(COCO_MODEL_PATH):\n",
        "    utils.download_trained_weights(COCO_MODEL_PATH)\n",
        "    \n",
        "    \n",
        "class InferenceConfig(coco.CocoConfig):\n",
        "    # Set batch size to 1 since we'll be running inference on\n",
        "    # one image at a time. Batch size = GPU_COUNT * IMAGES_PER_GPU\n",
        "    GPU_COUNT = 1\n",
        "    IMAGES_PER_GPU = 1\n",
        "\n",
        "config = InferenceConfig()\n",
        "\n",
        "\n",
        "# Create model object in inference mode.\n",
        "model = modellib.MaskRCNN(mode=\"inference\", model_dir=MODEL_DIR, config=config)\n",
        "\n",
        "# Load weights trained on MS-COCO\n",
        "# https://github.com/matterport/Mask_RCNN/issues/849\n",
        "weights_path = '/content/Mask_RCNN/{0}'.format(products_model_name)\n",
        "\n",
        "\n",
        "\n",
        "\n",
        "# COCO Class names\n",
        "# Index of the class in the list is its ID. For example, to get ID of\n",
        "# the teddy bear class, use: class_names.index('teddy bear')\n",
        "class_names = ['BG', 'balloon', 'asds']"
      ],
      "execution_count": 0,
      "outputs": []
    },
    {
      "metadata": {
        "id": "sHmWpQjXkY_0",
        "colab_type": "text"
      },
      "cell_type": "markdown",
      "source": [
        "## Execute on a test image\n",
        "\n",
        "First, download a test image from the internet:"
      ]
    },
    {
      "metadata": {
        "id": "BK0pDn5GeDI-",
        "colab_type": "code",
        "colab": {
          "base_uri": "https://localhost:8080/",
          "height": 54
        },
        "outputId": "d45085e5-470a-4bf4-fed3-55a7d4dbad55"
      },
      "cell_type": "code",
      "source": [
        "#IMAGE_URL = 'https://i.ebayimg.com/images/g/qvUAAOSwinlbnBMy/s-l640.jpg'\n",
        "#IMAGE_URL = 'https://cdn-images-1.medium.com/max/1600/1*OKE6wyZFfh2f_aZ3rd9BRw.png'\n",
        "'''IMAGE_URL = 'https://github.com/JonathanLehner/Mask_RCNN_trainning/releases/download/0.1/huerlimann480.jpg'\n",
        "\n",
        "image_file = basename(IMAGE_URL)\n",
        "!wget -q -O $image_file $IMAGE_URL\n",
        "image = skimage.io.imread(image_file)\n",
        "plt.figure(figsize=(15, 10))\n",
        "plt.imshow(image)'''"
      ],
      "execution_count": 18,
      "outputs": [
        {
          "output_type": "execute_result",
          "data": {
            "text/plain": [
              "\"IMAGE_URL = 'https://github.com/JonathanLehner/Mask_RCNN_trainning/releases/download/0.1/huerlimann480.jpg'\\n\\nimage_file = basename(IMAGE_URL)\\n!wget -q -O $image_file $IMAGE_URL\\nimage = skimage.io.imread(image_file)\\nplt.figure(figsize=(15, 10))\\nplt.imshow(image)\""
            ]
          },
          "metadata": {
            "tags": []
          },
          "execution_count": 18
        }
      ]
    },
    {
      "metadata": {
        "id": "JYk0zQn0lAHd",
        "colab_type": "text"
      },
      "cell_type": "markdown",
      "source": [
        "Now test Mask RCNN on the downloaded image:"
      ]
    },
    {
      "metadata": {
        "id": "ILY5s9FjerfI",
        "colab_type": "code",
        "colab": {
          "base_uri": "https://localhost:8080/",
          "height": 54
        },
        "outputId": "28ec32e5-5eab-46a3-9140-d078931fa1d4"
      },
      "cell_type": "code",
      "source": [
        "'''t = time.time()\n",
        "# Run detection\n",
        "results = model.detect([image], verbose=1)\n",
        "print(\"executed in %.3fs\" % (time.time() - t))\n",
        "print(results)\n",
        "\n",
        "# Visualize results\n",
        "r = results[0]\n",
        "visualize.display_instances(image, r['rois'], r['masks'], r['class_ids'], \n",
        "                            class_names, r['scores'])'''"
      ],
      "execution_count": 19,
      "outputs": [
        {
          "output_type": "execute_result",
          "data": {
            "text/plain": [
              "'t = time.time()\\n# Run detection\\nresults = model.detect([image], verbose=1)\\nprint(\"executed in %.3fs\" % (time.time() - t))\\nprint(results)\\n\\n# Visualize results\\nr = results[0]\\nvisualize.display_instances(image, r[\\'rois\\'], r[\\'masks\\'], r[\\'class_ids\\'], \\n                            class_names, r[\\'scores\\'])'"
            ]
          },
          "metadata": {
            "tags": []
          },
          "execution_count": 19
        }
      ]
    },
    {
      "metadata": {
        "id": "0n8nJXINQrLH",
        "colab_type": "code",
        "colab": {
          "base_uri": "https://localhost:8080/",
          "height": 54
        },
        "outputId": "fdcea508-bded-4d10-8629-79e027c2253c"
      },
      "cell_type": "code",
      "source": [
        "'''print(r['class_ids'])\n",
        "#print(class_names)\n",
        "\n",
        "import collections\n",
        "class_ids = r['class_ids']\n",
        "counter=collections.Counter(class_ids)\n",
        "print(counter)\n",
        "\n",
        "for key in counter:\n",
        "    print(\"Object: {}, Quantity: {}\".format(class_names[key], counter[key]))\n",
        "'''"
      ],
      "execution_count": 20,
      "outputs": [
        {
          "output_type": "execute_result",
          "data": {
            "text/plain": [
              "'print(r[\\'class_ids\\'])\\n#print(class_names)\\n\\nimport collections\\nclass_ids = r[\\'class_ids\\']\\ncounter=collections.Counter(class_ids)\\nprint(counter)\\n\\nfor key in counter:\\n    print(\"Object: {}, Quantity: {}\".format(class_names[key], counter[key]))\\n'"
            ]
          },
          "metadata": {
            "tags": []
          },
          "execution_count": 20
        }
      ]
    },
    {
      "metadata": {
        "id": "5R0Hq_xyh8lm",
        "colab_type": "code",
        "colab": {
          "base_uri": "https://localhost:8080/",
          "height": 480
        },
        "outputId": "08c54f25-63bd-435f-ff68-7a8d938eab01"
      },
      "cell_type": "code",
      "source": [
        "# Connect to the server\n",
        "!pip install python-meteor\n",
        "from MeteorClient import MeteorClient\n",
        "client = MeteorClient('wss://www.grabigo.com/websocket')\n",
        "client.connect()\n",
        "print('connected')"
      ],
      "execution_count": 21,
      "outputs": [
        {
          "output_type": "stream",
          "text": [
            "Requirement already satisfied: python-meteor in /usr/local/lib/python3.6/dist-packages (0.1.6)\n",
            "Requirement already satisfied: python-ddp in /usr/local/lib/python3.6/dist-packages (from python-meteor) (0.1.5)\n",
            "Requirement already satisfied: ws4py in /usr/local/lib/python3.6/dist-packages (from python-ddp->python-meteor) (0.5.1)\n",
            "Requirement already satisfied: meteor-ejson in /usr/local/lib/python3.6/dist-packages (from python-ddp->python-meteor) (1.1.0)\n",
            "Requirement already satisfied: pyee in /usr/local/lib/python3.6/dist-packages (from python-ddp->python-meteor) (6.0.0)\n",
            "Requirement already satisfied: six in /usr/local/lib/python3.6/dist-packages (from meteor-ejson->python-ddp->python-meteor) (1.12.0)\n"
          ],
          "name": "stdout"
        },
        {
          "output_type": "error",
          "ename": "ConnectionRefusedError",
          "evalue": "ignored",
          "traceback": [
            "\u001b[0;31m---------------------------------------------------------------------------\u001b[0m",
            "\u001b[0;31mConnectionRefusedError\u001b[0m                    Traceback (most recent call last)",
            "\u001b[0;32m<ipython-input-21-a1cf65a6396b>\u001b[0m in \u001b[0;36m<module>\u001b[0;34m()\u001b[0m\n\u001b[1;32m      2\u001b[0m \u001b[0;32mfrom\u001b[0m \u001b[0mMeteorClient\u001b[0m \u001b[0;32mimport\u001b[0m \u001b[0mMeteorClient\u001b[0m\u001b[0;34m\u001b[0m\u001b[0;34m\u001b[0m\u001b[0m\n\u001b[1;32m      3\u001b[0m \u001b[0mclient\u001b[0m \u001b[0;34m=\u001b[0m \u001b[0mMeteorClient\u001b[0m\u001b[0;34m(\u001b[0m\u001b[0;34m'wss://www.grabigo.com/websocket'\u001b[0m\u001b[0;34m)\u001b[0m\u001b[0;34m\u001b[0m\u001b[0;34m\u001b[0m\u001b[0m\n\u001b[0;32m----> 4\u001b[0;31m \u001b[0mclient\u001b[0m\u001b[0;34m.\u001b[0m\u001b[0mconnect\u001b[0m\u001b[0;34m(\u001b[0m\u001b[0;34m)\u001b[0m\u001b[0;34m\u001b[0m\u001b[0;34m\u001b[0m\u001b[0m\n\u001b[0m\u001b[1;32m      5\u001b[0m \u001b[0mprint\u001b[0m\u001b[0;34m(\u001b[0m\u001b[0;34m'connected'\u001b[0m\u001b[0;34m)\u001b[0m\u001b[0;34m\u001b[0m\u001b[0;34m\u001b[0m\u001b[0m\n",
            "\u001b[0;32m/usr/local/lib/python3.6/dist-packages/MeteorClient.py\u001b[0m in \u001b[0;36mconnect\u001b[0;34m(self)\u001b[0m\n\u001b[1;32m     53\u001b[0m     \u001b[0;32mdef\u001b[0m \u001b[0mconnect\u001b[0m\u001b[0;34m(\u001b[0m\u001b[0mself\u001b[0m\u001b[0;34m)\u001b[0m\u001b[0;34m:\u001b[0m\u001b[0;34m\u001b[0m\u001b[0;34m\u001b[0m\u001b[0m\n\u001b[1;32m     54\u001b[0m         \u001b[0;34m\"\"\"Connect to the meteor server\"\"\"\u001b[0m\u001b[0;34m\u001b[0m\u001b[0;34m\u001b[0m\u001b[0m\n\u001b[0;32m---> 55\u001b[0;31m         \u001b[0mself\u001b[0m\u001b[0;34m.\u001b[0m\u001b[0mddp_client\u001b[0m\u001b[0;34m.\u001b[0m\u001b[0mconnect\u001b[0m\u001b[0;34m(\u001b[0m\u001b[0;34m)\u001b[0m\u001b[0;34m\u001b[0m\u001b[0;34m\u001b[0m\u001b[0m\n\u001b[0m\u001b[1;32m     56\u001b[0m \u001b[0;34m\u001b[0m\u001b[0m\n\u001b[1;32m     57\u001b[0m     \u001b[0;32mdef\u001b[0m \u001b[0mclose\u001b[0m\u001b[0;34m(\u001b[0m\u001b[0mself\u001b[0m\u001b[0;34m)\u001b[0m\u001b[0;34m:\u001b[0m\u001b[0;34m\u001b[0m\u001b[0;34m\u001b[0m\u001b[0m\n",
            "\u001b[0;32m/usr/local/lib/python3.6/dist-packages/DDPClient.py\u001b[0m in \u001b[0;36mconnect\u001b[0;34m(self)\u001b[0m\n\u001b[1;32m    117\u001b[0m     \u001b[0;32mdef\u001b[0m \u001b[0mconnect\u001b[0m\u001b[0;34m(\u001b[0m\u001b[0mself\u001b[0m\u001b[0;34m)\u001b[0m\u001b[0;34m:\u001b[0m\u001b[0;34m\u001b[0m\u001b[0;34m\u001b[0m\u001b[0m\n\u001b[1;32m    118\u001b[0m         \u001b[0;32mif\u001b[0m \u001b[0mself\u001b[0m\u001b[0;34m.\u001b[0m\u001b[0mddpsocket\u001b[0m\u001b[0;34m:\u001b[0m\u001b[0;34m\u001b[0m\u001b[0;34m\u001b[0m\u001b[0m\n\u001b[0;32m--> 119\u001b[0;31m             \u001b[0mself\u001b[0m\u001b[0;34m.\u001b[0m\u001b[0mddpsocket\u001b[0m\u001b[0;34m.\u001b[0m\u001b[0mconnect\u001b[0m\u001b[0;34m(\u001b[0m\u001b[0;34m)\u001b[0m\u001b[0;34m\u001b[0m\u001b[0;34m\u001b[0m\u001b[0m\n\u001b[0m\u001b[1;32m    120\u001b[0m \u001b[0;34m\u001b[0m\u001b[0m\n\u001b[1;32m    121\u001b[0m     \u001b[0;32mdef\u001b[0m \u001b[0mclose\u001b[0m\u001b[0;34m(\u001b[0m\u001b[0mself\u001b[0m\u001b[0;34m)\u001b[0m\u001b[0;34m:\u001b[0m\u001b[0;34m\u001b[0m\u001b[0;34m\u001b[0m\u001b[0m\n",
            "\u001b[0;32m/usr/local/lib/python3.6/dist-packages/ws4py/client/__init__.py\u001b[0m in \u001b[0;36mconnect\u001b[0;34m(self)\u001b[0m\n\u001b[1;32m    215\u001b[0m             \u001b[0mself\u001b[0m\u001b[0;34m.\u001b[0m\u001b[0m_is_secure\u001b[0m \u001b[0;34m=\u001b[0m \u001b[0;32mTrue\u001b[0m\u001b[0;34m\u001b[0m\u001b[0;34m\u001b[0m\u001b[0m\n\u001b[1;32m    216\u001b[0m \u001b[0;34m\u001b[0m\u001b[0m\n\u001b[0;32m--> 217\u001b[0;31m         \u001b[0mself\u001b[0m\u001b[0;34m.\u001b[0m\u001b[0msock\u001b[0m\u001b[0;34m.\u001b[0m\u001b[0mconnect\u001b[0m\u001b[0;34m(\u001b[0m\u001b[0mself\u001b[0m\u001b[0;34m.\u001b[0m\u001b[0mbind_addr\u001b[0m\u001b[0;34m)\u001b[0m\u001b[0;34m\u001b[0m\u001b[0;34m\u001b[0m\u001b[0m\n\u001b[0m\u001b[1;32m    218\u001b[0m \u001b[0;34m\u001b[0m\u001b[0m\n\u001b[1;32m    219\u001b[0m         \u001b[0mself\u001b[0m\u001b[0;34m.\u001b[0m\u001b[0m_write\u001b[0m\u001b[0;34m(\u001b[0m\u001b[0mself\u001b[0m\u001b[0;34m.\u001b[0m\u001b[0mhandshake_request\u001b[0m\u001b[0;34m)\u001b[0m\u001b[0;34m\u001b[0m\u001b[0;34m\u001b[0m\u001b[0m\n",
            "\u001b[0;32m/usr/lib/python3.6/ssl.py\u001b[0m in \u001b[0;36mconnect\u001b[0;34m(self, addr)\u001b[0m\n\u001b[1;32m   1107\u001b[0m         \"\"\"Connects to remote ADDR, and then wraps the connection in\n\u001b[1;32m   1108\u001b[0m         an SSL channel.\"\"\"\n\u001b[0;32m-> 1109\u001b[0;31m         \u001b[0mself\u001b[0m\u001b[0;34m.\u001b[0m\u001b[0m_real_connect\u001b[0m\u001b[0;34m(\u001b[0m\u001b[0maddr\u001b[0m\u001b[0;34m,\u001b[0m \u001b[0;32mFalse\u001b[0m\u001b[0;34m)\u001b[0m\u001b[0;34m\u001b[0m\u001b[0;34m\u001b[0m\u001b[0m\n\u001b[0m\u001b[1;32m   1110\u001b[0m \u001b[0;34m\u001b[0m\u001b[0m\n\u001b[1;32m   1111\u001b[0m     \u001b[0;32mdef\u001b[0m \u001b[0mconnect_ex\u001b[0m\u001b[0;34m(\u001b[0m\u001b[0mself\u001b[0m\u001b[0;34m,\u001b[0m \u001b[0maddr\u001b[0m\u001b[0;34m)\u001b[0m\u001b[0;34m:\u001b[0m\u001b[0;34m\u001b[0m\u001b[0;34m\u001b[0m\u001b[0m\n",
            "\u001b[0;32m/usr/lib/python3.6/ssl.py\u001b[0m in \u001b[0;36m_real_connect\u001b[0;34m(self, addr, connect_ex)\u001b[0m\n\u001b[1;32m   1094\u001b[0m             \u001b[0;32melse\u001b[0m\u001b[0;34m:\u001b[0m\u001b[0;34m\u001b[0m\u001b[0;34m\u001b[0m\u001b[0m\n\u001b[1;32m   1095\u001b[0m                 \u001b[0mrc\u001b[0m \u001b[0;34m=\u001b[0m \u001b[0;32mNone\u001b[0m\u001b[0;34m\u001b[0m\u001b[0;34m\u001b[0m\u001b[0m\n\u001b[0;32m-> 1096\u001b[0;31m                 \u001b[0msocket\u001b[0m\u001b[0;34m.\u001b[0m\u001b[0mconnect\u001b[0m\u001b[0;34m(\u001b[0m\u001b[0mself\u001b[0m\u001b[0;34m,\u001b[0m \u001b[0maddr\u001b[0m\u001b[0;34m)\u001b[0m\u001b[0;34m\u001b[0m\u001b[0;34m\u001b[0m\u001b[0m\n\u001b[0m\u001b[1;32m   1097\u001b[0m             \u001b[0;32mif\u001b[0m \u001b[0;32mnot\u001b[0m \u001b[0mrc\u001b[0m\u001b[0;34m:\u001b[0m\u001b[0;34m\u001b[0m\u001b[0;34m\u001b[0m\u001b[0m\n\u001b[1;32m   1098\u001b[0m                 \u001b[0mself\u001b[0m\u001b[0;34m.\u001b[0m\u001b[0m_connected\u001b[0m \u001b[0;34m=\u001b[0m \u001b[0;32mTrue\u001b[0m\u001b[0;34m\u001b[0m\u001b[0;34m\u001b[0m\u001b[0m\n",
            "\u001b[0;31mConnectionRefusedError\u001b[0m: [Errno 111] Connection refused"
          ]
        }
      ]
    },
    {
      "metadata": {
        "id": "w3aKHYYWkOIf",
        "colab_type": "code",
        "colab": {}
      },
      "cell_type": "code",
      "source": [
        "def changed(collection, id, fields, cleared):\n",
        "    print('* CHANGED {} {}'.format(collection, id))\n",
        "    if(collection == \"users\"):\n",
        "        for key, value in fields.items():\n",
        "            if(key == \"profile\"):\n",
        "                profile = value\n",
        "                #print(profile)\n",
        "                basket_content = profile['basket_content']\n",
        "                print(basket_content)\n",
        "                for item in basket_content:\n",
        "                    item_label = item['name']\n",
        "                    item_qty = item['quantity']\n",
        "                    products[item_label] = item_qty\n",
        "    for key, value in fields.items():\n",
        "        print('  - FIELD {} {}'.format(key, value))\n",
        "    for key, value in cleared.items():\n",
        "        print('  - CLEARED {} {}'.format(key, value))\n",
        "        \n",
        "client.on('changed', changed)\n"
      ],
      "execution_count": 0,
      "outputs": []
    },
    {
      "metadata": {
        "id": "1FDuCfhhotj1",
        "colab_type": "code",
        "colab": {}
      },
      "cell_type": "code",
      "source": [
        ""
      ],
      "execution_count": 0,
      "outputs": []
    },
    {
      "metadata": {
        "id": "Xc6Vs49fk-b-",
        "colab_type": "code",
        "colab": {}
      },
      "cell_type": "code",
      "source": [
        "#import time\n",
        "\n",
        "#while True:\n",
        "  #time.sleep(1)"
      ],
      "execution_count": 0,
      "outputs": []
    },
    {
      "metadata": {
        "id": "GbMSB0s8nEDQ",
        "colab_type": "code",
        "colab": {}
      },
      "cell_type": "code",
      "source": [
        "!pip install opencv-python\n",
        "\n",
        "import numpy as np\n",
        "import cv2\n",
        "from google.colab.patches import cv2_imshow"
      ],
      "execution_count": 0,
      "outputs": []
    },
    {
      "metadata": {
        "id": "Dv0b9zmNrARj",
        "colab_type": "code",
        "colab": {}
      },
      "cell_type": "code",
      "source": [
        "from IPython.display import clear_output\n",
        "import matplotlib.pyplot as plt"
      ],
      "execution_count": 0,
      "outputs": []
    },
    {
      "metadata": {
        "id": "N45L9QloowCb",
        "colab_type": "code",
        "colab": {}
      },
      "cell_type": "code",
      "source": [
        "!pkg-config --list-all | grep libavcodec\n",
        "\n",
        "import cv2\n",
        "print (cv2.getBuildInformation())"
      ],
      "execution_count": 0,
      "outputs": []
    },
    {
      "metadata": {
        "id": "MTH3gNSZOwoO",
        "colab_type": "code",
        "colab": {}
      },
      "cell_type": "code",
      "source": [
        "!pwd\n",
        "!mkdir training_images\n"
      ],
      "execution_count": 0,
      "outputs": []
    },
    {
      "metadata": {
        "id": "RN-2_eCOXcGE",
        "colab_type": "code",
        "colab": {}
      },
      "cell_type": "code",
      "source": [
        "training_label = \"test\"\n",
        "os.mkdir(\"training_images/\"+training_label)"
      ],
      "execution_count": 0,
      "outputs": []
    },
    {
      "metadata": {
        "id": "wvKXQunKlawb",
        "colab_type": "code",
        "colab": {}
      },
      "cell_type": "code",
      "source": [
        "mode = \"training\""
      ],
      "execution_count": 0,
      "outputs": []
    },
    {
      "metadata": {
        "id": "Od9rmkXSptIV",
        "colab_type": "code",
        "colab": {}
      },
      "cell_type": "code",
      "source": [
        "import time\n",
        "import cv2\n",
        "import urllib.request as ur\n",
        "\n",
        "import numpy as np\n",
        "from google.colab.patches import cv2_imshow\n",
        "#from IPython.display import clear_output\n",
        "\n",
        "# run sudo ifconfig inside the pi to get the local network address \"inet\" but then need local hw \n",
        "# http://10.4.14.67/?action=stream\n",
        "# https://stackoverflow.com/questions/54949143/opencv-unable-to-read-video-from-mjpeg-stream\n",
        "# https://absorptive-heron-4484.dataplicity.io/?action=stream\n",
        "stream=ur.urlopen('https://absorptive-heron-4484.dataplicity.io/?action=stream')\n",
        "bytestring=b''\n",
        "counter = 0\n",
        "counter_list_prev = dict()\n",
        "while True:\n",
        "    bytestring+=stream.read(1024)\n",
        "    a = bytestring.find(b'\\xff\\xd8')\n",
        "    b = bytestring.find(b'\\xff\\xd9')\n",
        "    if a !=- 1 and b != -1:\n",
        "        jpg = bytestring[a:b+2]\n",
        "        bytestring= bytestring[b+2:]\n",
        "        i = cv2.imdecode(np.fromstring(jpg, dtype=np.uint8),cv2.IMREAD_COLOR)\n",
        "        \n",
        "        if(mode == \"training\" and counter % 10 == 0): # every second\n",
        "            #save image to file\n",
        "            img_label = training_label + str(counter) + \".jpg\"\n",
        "            cv2.imwrite(os.path.join('training_images/'+training_label, img_label), i)\n",
        "            cv2_imshow(i)\n",
        "\n",
        "        if(mode == \"countings\" and counter % 30 == 0): # with 10FPS this is one per three seconds\n",
        "            #from matplotlib import pyplot as plt\n",
        "            #plt.subplot(211),plt.imshow(i)\n",
        "            #plt.xticks([]),plt.yticks([])\n",
        "            #plt.pause(0.2);\n",
        "            #cv2_imshow(i)\n",
        "          \n",
        "            image = cv2.cvtColor(i,cv2.COLOR_BGR2RGB)\n",
        "            # Run detection\n",
        "            results = model.detect([image], verbose=0)\n",
        "            #results = model.detect([image], verbose=1)\n",
        "            #print(results)\n",
        "\n",
        "            # Visualize results\n",
        "            r = results[0]\n",
        "            visualize.display_instances(image, r['rois'], r['masks'], r['class_ids'], \n",
        "                class_names, r['scores'])\n",
        "\n",
        "            import collections\n",
        "            class_ids = r['class_ids']\n",
        "            counter_list = collections.Counter(class_ids)\n",
        "\n",
        "            for key in counter_list:\n",
        "                if not key in counter_list_prev:\n",
        "                    counter_list_prev[key] = 0\n",
        "\n",
        "                print(\"Object: {}, Quantity: {}\".format(class_names[key], counter_list[key]))\n",
        "                if counter_list_prev[key] != counter_list[key]:\n",
        "                    print(\" -- Quantity changed by {}\".format(counter_list[key] - counter_list_prev[key]))\n",
        "\n",
        "            for key in counter_list_prev:  \n",
        "                if key in counter_list_prev and key not in counter_list:\n",
        "                  print(\" -- Object: {}, Quantity: {} was removed\".format(class_names[key], counter_list_prev[key]))\n",
        "              \n",
        "            #save detection result for comparison\n",
        "            counter_list_prev = counter_list\n",
        "\n",
        "        counter += 1\n",
        "        print(counter)\n",
        "        \n",
        "    #not meaningful inside Google colab\n",
        "    #if cv2.waitKey(1) & 0xFF == ord('q'):\n",
        "    #    break\n",
        "\n",
        "    #time.sleep(0.1)"
      ],
      "execution_count": 0,
      "outputs": []
    },
    {
      "metadata": {
        "id": "4opE7cBVMLFm",
        "colab_type": "code",
        "colab": {}
      },
      "cell_type": "code",
      "source": [
        "\n"
      ],
      "execution_count": 0,
      "outputs": []
    },
    {
      "metadata": {
        "id": "VV3OzD5vKJuT",
        "colab_type": "code",
        "colab": {}
      },
      "cell_type": "code",
      "source": [
        "#download the training images\n",
        "!zip -r /content/file.zip /content/training_images\n",
        "from google.colab import files\n",
        "files.download(\"/content/file.zip\")"
      ],
      "execution_count": 0,
      "outputs": []
    },
    {
      "metadata": {
        "id": "c77CJh8iKJ--",
        "colab_type": "code",
        "colab": {}
      },
      "cell_type": "code",
      "source": [
        "#rm -r training_images"
      ],
      "execution_count": 0,
      "outputs": []
    },
    {
      "metadata": {
        "id": "5880tQc3KKE_",
        "colab_type": "code",
        "colab": {}
      },
      "cell_type": "code",
      "source": [
        ""
      ],
      "execution_count": 0,
      "outputs": []
    }
  ]
}