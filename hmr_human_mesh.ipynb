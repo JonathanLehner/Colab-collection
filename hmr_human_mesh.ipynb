{
  "nbformat": 4,
  "nbformat_minor": 0,
  "metadata": {
    "colab": {
      "name": "hmr_human_mesh.ipynb",
      "version": "0.3.2",
      "provenance": [],
      "collapsed_sections": [],
      "include_colab_link": true
    },
    "kernelspec": {
      "name": "python2",
      "display_name": "Python 2"
    },
    "accelerator": "GPU"
  },
  "cells": [
    {
      "cell_type": "markdown",
      "metadata": {
        "id": "view-in-github",
        "colab_type": "text"
      },
      "source": [
        "<a href=\"https://colab.research.google.com/github/JonathanLehner/Colab-collection/blob/master/hmr_human_mesh.ipynb\" target=\"_parent\"><img src=\"https://colab.research.google.com/assets/colab-badge.svg\" alt=\"Open In Colab\"/></a>"
      ]
    },
    {
      "cell_type": "code",
      "metadata": {
        "id": "iJp_iLHzBLDx",
        "colab_type": "code",
        "colab": {}
      },
      "source": [
        "## not working at the moment"
      ],
      "execution_count": 0,
      "outputs": []
    },
    {
      "cell_type": "code",
      "metadata": {
        "id": "t7MPfHrSBSqr",
        "colab_type": "code",
        "colab": {}
      },
      "source": [
        "# This is for https://github.com/akanazawa/hmr\n",
        "\n",
        "\n",
        "# https://github.com/akanazawa/hmr\n",
        "# https://github.com/MandyMo/pytorch_HMR\n",
        "# https://github.com/Dene33/video_to_bvh ---> maybe follow this as guide to get the hmr runnings"
      ],
      "execution_count": 0,
      "outputs": []
    },
    {
      "cell_type": "code",
      "metadata": {
        "id": "eahb5rIASMWj",
        "colab_type": "code",
        "colab": {}
      },
      "source": [
        "# Note: this repo only works with Python 2"
      ],
      "execution_count": 0,
      "outputs": []
    },
    {
      "cell_type": "code",
      "metadata": {
        "id": "4-cXYXWVyDcL",
        "colab_type": "code",
        "outputId": "6630a5aa-7e68-4cb7-c18a-2165d506c919",
        "colab": {
          "base_uri": "https://localhost:8080/",
          "height": 190
        }
      },
      "source": [
        "# clone repo\n",
        "%cd /content/\n",
        "import os\n",
        "from os.path import exists, join, basename\n",
        "\n",
        "project_name = \"hmr\"\n",
        "if not exists(project_name):\n",
        "  # clone and install\n",
        "  !git clone -q https://github.com/akanazawa/hmr.git\n",
        "  !cd $project_name && pip install -q -r requirements.txt\n",
        "  \n",
        "import sys\n",
        "sys.path.append(project_name)"
      ],
      "execution_count": 0,
      "outputs": [
        {
          "output_type": "stream",
          "text": [
            "/content\n",
            "\u001b[K    100% |████████████████████████████████| 583kB 2.2MB/s \n",
            "\u001b[K    100% |████████████████████████████████| 102kB 9.7MB/s \n",
            "\u001b[?25h  Running setup.py bdist_wheel for opendr ... \u001b[?25lerror\n",
            "\u001b[31m  Failed building wheel for opendr\u001b[0m\n",
            "\u001b[?25h  Running setup.py bdist_wheel for absl-py ... \u001b[?25ldone\n",
            "\u001b[?25h  Running setup.py bdist_wheel for ipdb ... \u001b[?25ldone\n",
            "\u001b[?25h  Running setup.py install for opendr ... \u001b[?25lerror\n",
            "\u001b[31mCommand \"/usr/local/bin/python -u -c \"import setuptools, tokenize;__file__='/tmp/pip-build-yktk_xj2/opendr/setup.py';f=getattr(tokenize, 'open', open)(__file__);code=f.read().replace('\\r\\n', '\\n');f.close();exec(compile(code, __file__, 'exec'))\" install --record /tmp/pip-bxt_i6ny-record/install-record.txt --single-version-externally-managed --compile\" failed with error code 1 in /tmp/pip-build-yktk_xj2/opendr/\u001b[0m\n",
            "\u001b[?25h"
          ],
          "name": "stdout"
        }
      ]
    },
    {
      "cell_type": "code",
      "metadata": {
        "id": "V9RgutUWyVHN",
        "colab_type": "code",
        "outputId": "a3ad3363-b76f-4b4f-8880-d1e7e7451fec",
        "colab": {
          "base_uri": "https://localhost:8080/",
          "height": 701
        }
      },
      "source": [
        "!pip install tensorflow-gpu==1.3.0\n"
      ],
      "execution_count": 0,
      "outputs": [
        {
          "output_type": "stream",
          "text": [
            "Collecting tensorflow-gpu==1.3.0\n",
            "  Downloading https://files.pythonhosted.org/packages/b8/16/14fbe414f2b3c39c5d01521e38e7aaec384f8fbf26eec021d247345260c3/tensorflow_gpu-1.3.0-cp36-cp36m-manylinux1_x86_64.whl (159.1MB)\n",
            "\u001b[K    100% |████████████████████████████████| 159.1MB 7.1kB/s \n",
            "\u001b[?25hRequirement already satisfied: numpy>=1.11.0 in /usr/local/lib/python3.6/site-packages (from tensorflow-gpu==1.3.0)\n",
            "Requirement already satisfied: six>=1.10.0 in /usr/local/lib/python3.6/site-packages (from tensorflow-gpu==1.3.0)\n",
            "Requirement already satisfied: wheel>=0.26 in /usr/local/lib/python3.6/site-packages (from tensorflow-gpu==1.3.0)\n",
            "Collecting protobuf>=3.3.0 (from tensorflow-gpu==1.3.0)\n",
            "  Downloading https://files.pythonhosted.org/packages/5a/aa/a858df367b464f5e9452e1c538aa47754d467023850c00b000287750fa77/protobuf-3.7.1-cp36-cp36m-manylinux1_x86_64.whl (1.2MB)\n",
            "\u001b[K    100% |████████████████████████████████| 1.2MB 778kB/s \n",
            "\u001b[?25hCollecting tensorflow-tensorboard<0.2.0,>=0.1.0 (from tensorflow-gpu==1.3.0)\n",
            "  Downloading https://files.pythonhosted.org/packages/93/31/bb4111c3141d22bd7b2b553a26aa0c1863c86cb723919e5bd7847b3de4fc/tensorflow_tensorboard-0.1.8-py3-none-any.whl (1.6MB)\n",
            "\u001b[K    100% |████████████████████████████████| 1.6MB 711kB/s \n",
            "\u001b[?25hRequirement already satisfied: setuptools in /usr/local/lib/python3.6/site-packages (from protobuf>=3.3.0->tensorflow-gpu==1.3.0)\n",
            "Collecting bleach==1.5.0 (from tensorflow-tensorboard<0.2.0,>=0.1.0->tensorflow-gpu==1.3.0)\n",
            "  Downloading https://files.pythonhosted.org/packages/33/70/86c5fec937ea4964184d4d6c4f0b9551564f821e1c3575907639036d9b90/bleach-1.5.0-py2.py3-none-any.whl\n",
            "Collecting html5lib==0.9999999 (from tensorflow-tensorboard<0.2.0,>=0.1.0->tensorflow-gpu==1.3.0)\n",
            "  Downloading https://files.pythonhosted.org/packages/ae/ae/bcb60402c60932b32dfaf19bb53870b29eda2cd17551ba5639219fb5ebf9/html5lib-0.9999999.tar.gz (889kB)\n",
            "\u001b[K    100% |████████████████████████████████| 890kB 960kB/s \n",
            "\u001b[?25hCollecting markdown>=2.6.8 (from tensorflow-tensorboard<0.2.0,>=0.1.0->tensorflow-gpu==1.3.0)\n",
            "  Downloading https://files.pythonhosted.org/packages/f5/e4/d8c18f2555add57ff21bf25af36d827145896a07607486cc79a2aea641af/Markdown-3.1-py2.py3-none-any.whl (87kB)\n",
            "\u001b[K    100% |████████████████████████████████| 92kB 9.0MB/s \n",
            "\u001b[?25hRequirement already satisfied: werkzeug>=0.11.10 in /usr/local/lib/python3.6/site-packages (from tensorflow-tensorboard<0.2.0,>=0.1.0->tensorflow-gpu==1.3.0)\n",
            "Building wheels for collected packages: html5lib\n",
            "  Running setup.py bdist_wheel for html5lib ... \u001b[?25ldone\n",
            "\u001b[?25h  Stored in directory: /root/.cache/pip/wheels/50/ae/f9/d2b189788efcf61d1ee0e36045476735c838898eef1cad6e29\n",
            "Successfully built html5lib\n",
            "Installing collected packages: protobuf, html5lib, bleach, markdown, tensorflow-tensorboard, tensorflow-gpu\n",
            "  Found existing installation: html5lib 1.0.1\n",
            "    Uninstalling html5lib-1.0.1:\n",
            "      Successfully uninstalled html5lib-1.0.1\n",
            "  Found existing installation: bleach 2.1.2\n",
            "    Uninstalling bleach-2.1.2:\n",
            "      Successfully uninstalled bleach-2.1.2\n",
            "Successfully installed bleach-1.5.0 html5lib-0.9999999 markdown-3.1 protobuf-3.7.1 tensorflow-gpu-1.3.0 tensorflow-tensorboard-0.1.8\n"
          ],
          "name": "stdout"
        },
        {
          "output_type": "display_data",
          "data": {
            "application/vnd.colab-display-data+json": {
              "pip_warning": {
                "packages": [
                  "google"
                ]
              }
            }
          },
          "metadata": {
            "tags": []
          }
        }
      ]
    },
    {
      "cell_type": "code",
      "metadata": {
        "id": "VHP68-0MyVw7",
        "colab_type": "code",
        "outputId": "3431e23b-4714-4354-b9b4-7a7e61531e34",
        "colab": {
          "base_uri": "https://localhost:8080/",
          "height": 221
        }
      },
      "source": [
        "%cd /content/hmr\n",
        "\n",
        "# download the pretrained models\n",
        "!wget https://people.eecs.berkeley.edu/~kanazawa/cachedir/hmr/models.tar.gz && tar -xf models.tar.gz\n"
      ],
      "execution_count": 0,
      "outputs": [
        {
          "output_type": "stream",
          "text": [
            "/content/hmr\n",
            "--2019-05-13 22:21:48--  https://people.eecs.berkeley.edu/~kanazawa/cachedir/hmr/models.tar.gz\n",
            "Resolving people.eecs.berkeley.edu (people.eecs.berkeley.edu)... 128.32.189.73\n",
            "Connecting to people.eecs.berkeley.edu (people.eecs.berkeley.edu)|128.32.189.73|:443... connected.\n",
            "HTTP request sent, awaiting response... 200 OK\n",
            "Length: 385846404 (368M) [application/x-gzip]\n",
            "Saving to: ‘models.tar.gz’\n",
            "\n",
            "models.tar.gz       100%[===================>] 367.97M  26.8MB/s    in 15s     \n",
            "\n",
            "2019-05-13 22:22:03 (25.2 MB/s) - ‘models.tar.gz’ saved [385846404/385846404]\n",
            "\n"
          ],
          "name": "stdout"
        }
      ]
    },
    {
      "cell_type": "code",
      "metadata": {
        "id": "5BEntMNsOvm2",
        "colab_type": "code",
        "colab": {}
      },
      "source": [
        "#from https://yangcha.github.io/Install-CUDA8/\n",
        "!wget http://developer.download.nvidia.com/compute/cuda/repos/ubuntu1604/x86_64/cuda-repo-ubuntu1604_8.0.61-1_amd64.deb\n",
        "!wget http://developer.download.nvidia.com/compute/machine-learning/repos/ubuntu1604/x86_64/libcudnn6_6.0.21-1%2Bcuda8.0_amd64.deb\n",
        "!wget http://developer.download.nvidia.com/compute/machine-learning/repos/ubuntu1604/x86_64/libcudnn6-dev_6.0.21-1%2Bcuda8.0_amd64.deb\n",
        "!sudo dpkg -i cuda-repo-ubuntu1604_8.0.61-1_amd64.deb\n",
        "!sudo dpkg -i libcudnn6_6.0.21-1+cuda8.0_amd64.deb\n",
        "!sudo dpkg -i libcudnn6-dev_6.0.21-1+cuda8.0_amd64.deb\n",
        "!sudo apt-get update\n",
        "!sudo apt-get install cuda=8.0.61-1\n",
        "!sudo apt-get install libcudnn6-dev"
      ],
      "execution_count": 0,
      "outputs": []
    },
    {
      "cell_type": "code",
      "metadata": {
        "id": "5Yjff_9cUBx5",
        "colab_type": "code",
        "outputId": "3291f680-be54-4a65-b103-a3a34152d7e0",
        "colab": {
          "base_uri": "https://localhost:8080/",
          "height": 34
        }
      },
      "source": [
        "#os.system(os.path.expandvars(\"export PATH=/usr/local/cuda-8.0/bin${PATH:+:${PATH}}\"))\n",
        "#os.system(os.path.expandvars(\"export LD_LIBRARY_PATH=/usr/local/cuda-8.0/lib64${LD_LIBRARY_PATH:+:${LD_LIBRARY_PATH}}\"))"
      ],
      "execution_count": 0,
      "outputs": [
        {
          "output_type": "execute_result",
          "data": {
            "text/plain": [
              "0"
            ]
          },
          "metadata": {
            "tags": []
          },
          "execution_count": 23
        }
      ]
    },
    {
      "cell_type": "code",
      "metadata": {
        "id": "shz9XHqiU-xd",
        "colab_type": "code",
        "outputId": "001805a4-897c-45f7-c46a-e3200f326537",
        "colab": {
          "base_uri": "https://localhost:8080/",
          "height": 34
        }
      },
      "source": [
        "#os.path.expandvars(\"export LD_LIBRARY_PATH=/usr/local/cuda-8.0/lib64${LD_LIBRARY_PATH:+:${LD_LIBRARY_PATH}}\")\n",
        "#os.path.expandvars('$HOME')\n",
        "#os.path.expandvars('${PATH}')\n",
        "#os.path.expandvars('${PATH:+:${PATH}}')\n"
      ],
      "execution_count": 0,
      "outputs": [
        {
          "output_type": "execute_result",
          "data": {
            "text/plain": [
              "'${PATH:+:${PATH}}'"
            ]
          },
          "metadata": {
            "tags": []
          },
          "execution_count": 30
        }
      ]
    },
    {
      "cell_type": "code",
      "metadata": {
        "id": "RVrQG6tkQDyz",
        "colab_type": "code",
        "outputId": "52415434-c00d-4287-b9f3-77f2c523af15",
        "colab": {
          "base_uri": "https://localhost:8080/",
          "height": 34
        }
      },
      "source": [
        "# not compatible with python3 --> like many other things in the repo\n",
        "!pip install opendr\n"
      ],
      "execution_count": 0,
      "outputs": [
        {
          "output_type": "stream",
          "text": [
            "/bin/bash: pip: command not found\n"
          ],
          "name": "stdout"
        }
      ]
    },
    {
      "cell_type": "code",
      "metadata": {
        "id": "S24iJ2HHTybi",
        "colab_type": "code",
        "outputId": "fb39a966-0af9-4e56-d038-5c63b9ee7f5a",
        "colab": {
          "base_uri": "https://localhost:8080/",
          "height": 683
        }
      },
      "source": [
        "!pip install -r requirements.txt"
      ],
      "execution_count": 0,
      "outputs": [
        {
          "output_type": "stream",
          "text": [
            "Requirement already satisfied: pip>=9.0 in /usr/local/lib/python3.6/site-packages (from -r requirements.txt (line 2))\n",
            "Requirement already satisfied: scipy in /usr/local/lib/python3.6/site-packages (from -r requirements.txt (line 3))\n",
            "Requirement already satisfied: numpy in /usr/local/lib/python3.6/site-packages (from -r requirements.txt (line 4))\n",
            "Requirement already satisfied: opendr in /usr/local/lib/python3.6/site-packages/opendr-0.73-py3.6.egg (from -r requirements.txt (line 5))\n",
            "Requirement already satisfied: matplotlib in /usr/local/lib/python3.6/site-packages (from -r requirements.txt (line 6))\n",
            "Requirement already satisfied: scikit-image in /usr/local/lib/python3.6/site-packages (from -r requirements.txt (line 7))\n",
            "Collecting deepdish>=0.3 (from -r requirements.txt (line 8))\n",
            "  Using cached https://files.pythonhosted.org/packages/6e/39/2a47c852651982bc5eb39212ac110284dd20126bdc7b49bde401a0139f5d/deepdish-0.3.6-py2.py3-none-any.whl\n",
            "Requirement already satisfied: opencv-python in /usr/local/lib/python3.6/site-packages (from -r requirements.txt (line 9))\n",
            "Collecting absl-py (from -r requirements.txt (line 10))\n",
            "Collecting ipdb (from -r requirements.txt (line 11))\n",
            "Requirement already satisfied: Cython in /usr/local/lib/python3.6/site-packages (from opendr->-r requirements.txt (line 5))\n",
            "Requirement already satisfied: chumpy>=0.58 in /usr/local/lib/python3.6/site-packages (from opendr->-r requirements.txt (line 5))\n",
            "Requirement already satisfied: six>=1.10 in /usr/local/lib/python3.6/site-packages (from matplotlib->-r requirements.txt (line 6))\n",
            "Requirement already satisfied: python-dateutil>=2.1 in /usr/local/lib/python3.6/site-packages (from matplotlib->-r requirements.txt (line 6))\n",
            "Requirement already satisfied: pytz in /usr/local/lib/python3.6/site-packages (from matplotlib->-r requirements.txt (line 6))\n",
            "Requirement already satisfied: cycler>=0.10 in /usr/local/lib/python3.6/site-packages (from matplotlib->-r requirements.txt (line 6))\n",
            "Requirement already satisfied: pyparsing!=2.0.4,!=2.1.2,!=2.1.6,>=2.0.1 in /usr/local/lib/python3.6/site-packages (from matplotlib->-r requirements.txt (line 6))\n",
            "Requirement already satisfied: networkx>=1.8 in /usr/local/lib/python3.6/site-packages (from scikit-image->-r requirements.txt (line 7))\n",
            "Requirement already satisfied: pillow>=2.1.0 in /usr/local/lib/python3.6/site-packages (from scikit-image->-r requirements.txt (line 7))\n",
            "Requirement already satisfied: PyWavelets>=0.4.0 in /usr/local/lib/python3.6/site-packages (from scikit-image->-r requirements.txt (line 7))\n",
            "Requirement already satisfied: tables in /usr/local/lib/python3.6/site-packages (from deepdish>=0.3->-r requirements.txt (line 8))\n",
            "Requirement already satisfied: ipython>=5.1.0; python_version >= \"3.4\" in /usr/local/lib/python3.6/site-packages (from ipdb->-r requirements.txt (line 11))\n",
            "Requirement already satisfied: setuptools in /usr/local/lib/python3.6/site-packages (from ipdb->-r requirements.txt (line 11))\n",
            "Requirement already satisfied: decorator>=4.1.0 in /usr/local/lib/python3.6/site-packages (from networkx>=1.8->scikit-image->-r requirements.txt (line 7))\n",
            "Requirement already satisfied: numexpr>=2.5.2 in /usr/local/lib/python3.6/site-packages (from tables->deepdish>=0.3->-r requirements.txt (line 8))\n",
            "Requirement already satisfied: jedi>=0.10 in /usr/local/lib/python3.6/site-packages (from ipython>=5.1.0; python_version >= \"3.4\"->ipdb->-r requirements.txt (line 11))\n",
            "Requirement already satisfied: pickleshare in /usr/local/lib/python3.6/site-packages (from ipython>=5.1.0; python_version >= \"3.4\"->ipdb->-r requirements.txt (line 11))\n",
            "Requirement already satisfied: simplegeneric>0.8 in /usr/local/lib/python3.6/site-packages (from ipython>=5.1.0; python_version >= \"3.4\"->ipdb->-r requirements.txt (line 11))\n",
            "Requirement already satisfied: traitlets>=4.2 in /usr/local/lib/python3.6/site-packages (from ipython>=5.1.0; python_version >= \"3.4\"->ipdb->-r requirements.txt (line 11))\n",
            "Requirement already satisfied: prompt_toolkit<2.0.0,>=1.0.4 in /usr/local/lib/python3.6/site-packages (from ipython>=5.1.0; python_version >= \"3.4\"->ipdb->-r requirements.txt (line 11))\n",
            "Requirement already satisfied: pygments in /usr/local/lib/python3.6/site-packages (from ipython>=5.1.0; python_version >= \"3.4\"->ipdb->-r requirements.txt (line 11))\n",
            "Requirement already satisfied: pexpect in /usr/local/lib/python3.6/site-packages (from ipython>=5.1.0; python_version >= \"3.4\"->ipdb->-r requirements.txt (line 11))\n",
            "Requirement already satisfied: parso==0.1.* in /usr/local/lib/python3.6/site-packages (from jedi>=0.10->ipython>=5.1.0; python_version >= \"3.4\"->ipdb->-r requirements.txt (line 11))\n",
            "Requirement already satisfied: ipython_genutils in /usr/local/lib/python3.6/site-packages (from traitlets>=4.2->ipython>=5.1.0; python_version >= \"3.4\"->ipdb->-r requirements.txt (line 11))\n",
            "Requirement already satisfied: wcwidth in /usr/local/lib/python3.6/site-packages (from prompt_toolkit<2.0.0,>=1.0.4->ipython>=5.1.0; python_version >= \"3.4\"->ipdb->-r requirements.txt (line 11))\n",
            "Installing collected packages: deepdish, absl-py, ipdb\n",
            "Successfully installed absl-py-0.7.1 deepdish-0.3.6 ipdb-0.12\n"
          ],
          "name": "stdout"
        }
      ]
    },
    {
      "cell_type": "code",
      "metadata": {
        "id": "Pz3eJmCHNvDP",
        "colab_type": "code",
        "outputId": "3bbd373b-64f7-4ec1-fdb2-65ee362ba2f7",
        "colab": {
          "base_uri": "https://localhost:8080/",
          "height": 51
        }
      },
      "source": [
        "!\n",
        "\n",
        "!python -m demo --img_path data/coco1.png\n",
        "!python -m demo --img_path data/im1954.jpg\n"
      ],
      "execution_count": 0,
      "outputs": [
        {
          "output_type": "stream",
          "text": [
            "/bin/bash: python: command not found\n",
            "/bin/bash: python: command not found\n"
          ],
          "name": "stdout"
        }
      ]
    }
  ]
}